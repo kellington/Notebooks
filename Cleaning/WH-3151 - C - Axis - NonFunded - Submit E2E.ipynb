{
 "cells": [
  {
   "cell_type": "markdown",
   "metadata": {},
   "source": [
    "# WH-3151 - C - Axis - NonFunded - Submit E2E\n",
    "- Submitting 2 jobs - 1 for MainApp and 1 for CoApp  \n",
    "\n",
    "** NOT RUN **\n",
    "\n",
    "- Done by ROB"
   ]
  },
  {
   "cell_type": "code",
   "execution_count": 1,
   "metadata": {},
   "outputs": [],
   "source": [
    "import sys\n",
    "import requests"
   ]
  },
  {
   "cell_type": "markdown",
   "metadata": {},
   "source": [
    "### This is the endPoint to send to ... "
   ]
  },
  {
   "cell_type": "code",
   "execution_count": 2,
   "metadata": {},
   "outputs": [],
   "source": [
    "automation_api = \"https://65odj4vedd.execute-api.us-west-2.amazonaws.com/staging/poc/automation/request\""
   ]
  },
  {
   "cell_type": "markdown",
   "metadata": {},
   "source": [
    "## 1. E2E API - NonFunded - MAIN APP"
   ]
  },
  {
   "cell_type": "code",
   "execution_count": 3,
   "metadata": {},
   "outputs": [],
   "source": [
    "bucket_name = \"trustsciencespark\"\n",
    "path_csv = \"axisautofinance-wh/rawData/WH-3151-Axis-NonFunded-MainApp.csv\""
   ]
  },
  {
   "cell_type": "code",
   "execution_count": 4,
   "metadata": {},
   "outputs": [],
   "source": [
    "automation_request ={\n",
    "    \"messageType\": \"SchemaMapper\",\n",
    "    \"messageContext\": {\n",
    "        \"clientID\": \"axisautofinance-wh\",\n",
    "        \"userId\": \"rob-coapp-loans\",\n",
    "        \"source\": \"WH-3151-nonfunded-mainapp\",\n",
    "        \"env\": \"staging\",\n",
    "        \"custom\": {\n",
    "            \"enablePrepareLionRequest\": False,\n",
    "            \"enableSubmitBulk\": True,\n",
    "            \"enablePrepareDataForAN\": True,\n",
    "            \"enableTriggerRDERefresh\": True\n",
    "        }\n",
    "    },\n",
    "    \"messageID\": None,\n",
    "    \"messageTimestamp\": \"2020-05-12T09:00:00\",\n",
    "    \"messageData\": {\n",
    "        \"dataPath\": \n",
    "        [\n",
    "            path_csv\n",
    "        ],\n",
    "        \"clientConfigPath\": \"axisautofinance-wh/WH-3151/axisautofinancePOCConfig-WH-3151.json\",\n",
    "        \"bucketName\": bucket_name\n",
    "    }\n",
    "}"
   ]
  },
  {
   "cell_type": "code",
   "execution_count": 5,
   "metadata": {},
   "outputs": [
    {
     "name": "stdout",
     "output_type": "stream",
     "text": [
      "200\n",
      "{\"status\": \"Success\", \"message\": \"request of POC was submitted successfully\"}\n"
     ]
    }
   ],
   "source": [
    "res = requests.post(automation_api, json=automation_request)\n",
    "print(res.status_code)\n",
    "print(res.text)"
   ]
  },
  {
   "cell_type": "markdown",
   "metadata": {},
   "source": [
    "#### MANUAL CHECK THAT ALL LOOKS OK  \n",
    "I used WH-3148 - Axis Auto Finance COAPP BULK.sql to check DB   \n",
    "\n",
    "1,127 - same number as in A\n",
    "\n",
    "So can submit the Declines"
   ]
  },
  {
   "cell_type": "markdown",
   "metadata": {},
   "source": [
    "## 2. E2E API - - CoApp Declines\n",
    "\n",
    "- Note I set \"bulkDailyLimit\": 50000, because Mining not really working anyway and I just want done.  "
   ]
  },
  {
   "cell_type": "code",
   "execution_count": 9,
   "metadata": {},
   "outputs": [],
   "source": [
    "bucket_name = \"trustsciencespark\"\n",
    "path_csv = \"axisautofinance-wh/rawData/WH-3151-Axis-NonFunded-CoApp.csv\""
   ]
  },
  {
   "cell_type": "code",
   "execution_count": 10,
   "metadata": {},
   "outputs": [],
   "source": [
    "automation_request ={\n",
    "    \"messageType\": \"SchemaMapper\",\n",
    "    \"messageContext\": {\n",
    "        \"clientID\": \"axisautofinance-wh\",\n",
    "        \"userId\": \"rob-coapp-declines\",\n",
    "        \"source\": \"WH-3151-nonfunded-coapp\",\n",
    "        \"env\": \"staging\",\n",
    "        \"custom\": {\n",
    "            \"enablePrepareLionRequest\": False,\n",
    "            \"enableSubmitBulk\": True,\n",
    "            \"enablePrepareDataForAN\": True,\n",
    "            \"enableTriggerRDERefresh\": True\n",
    "        }\n",
    "    },\n",
    "    \"messageID\": None,\n",
    "    \"messageTimestamp\": \"2020-05-12T09:00:00\",\n",
    "    \"messageData\": {\n",
    "        \"dataPath\": \n",
    "        [\n",
    "            path_csv\n",
    "        ],\n",
    "        \"clientConfigPath\": \"axisautofinance-wh/WH-3151/axisautofinancePOCConfig-WH-3151.json\",\n",
    "        \"bucketName\": bucket_name\n",
    "    }\n",
    "}"
   ]
  },
  {
   "cell_type": "code",
   "execution_count": 11,
   "metadata": {},
   "outputs": [
    {
     "name": "stdout",
     "output_type": "stream",
     "text": [
      "200\n",
      "{\"status\": \"Success\", \"message\": \"request of POC was submitted successfully\"}\n"
     ]
    }
   ],
   "source": [
    "res = requests.post(automation_api, json=automation_request)\n",
    "print(res.status_code)\n",
    "print(res.text)"
   ]
  },
  {
   "cell_type": "markdown",
   "metadata": {},
   "source": [
    "#### MANUAL CHECK THAT ALL LOOKS OK  \n",
    "I used WH-3148 - Axis Auto Finance COAPP BULK.sql to check DB   \n",
    "\n",
    "4,271 - same number as in B\n",
    "\n",
    "So all good"
   ]
  },
  {
   "cell_type": "markdown",
   "metadata": {},
   "source": [
    "# DONE"
   ]
  }
 ],
 "metadata": {
  "kernelspec": {
   "display_name": "Python 3",
   "language": "python",
   "name": "python3"
  },
  "language_info": {
   "codemirror_mode": {
    "name": "ipython",
    "version": 3
   },
   "file_extension": ".py",
   "mimetype": "text/x-python",
   "name": "python",
   "nbconvert_exporter": "python",
   "pygments_lexer": "ipython3",
   "version": "3.6.10"
  }
 },
 "nbformat": 4,
 "nbformat_minor": 4
}
