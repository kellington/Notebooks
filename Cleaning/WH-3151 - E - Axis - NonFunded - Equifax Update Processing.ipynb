{
 "cells": [
  {
   "cell_type": "markdown",
   "metadata": {},
   "source": [
    "# WH-3151 - E - Axis - NonFunded - Equifax Update Processing\n",
    "\n",
    "- submits the bulk update with the Equifax XML data  \n",
    "- the creation of the update requests is different notebook\n",
    "    - see: WH-3151 - D - Axis - NonFunded - Equifax Update Mapping\n",
    "\n",
    "** NOT RUN **\n",
    "\n",
    "- Done by ROB"
   ]
  },
  {
   "cell_type": "code",
   "execution_count": 1,
   "metadata": {},
   "outputs": [],
   "source": [
    "import traceback\n",
    "import requests\n",
    "import random\n",
    "import boto3\n",
    "import json\n",
    "import time\n",
    "import sys\n",
    "import os\n",
    "import shutil"
   ]
  },
  {
   "cell_type": "markdown",
   "metadata": {},
   "source": [
    "This is all run in **staging**"
   ]
  },
  {
   "cell_type": "markdown",
   "metadata": {},
   "source": [
    "## Warm-up lambda before submitting records for processing  \n",
    "Not sure why we still do this ;-)  "
   ]
  },
  {
   "cell_type": "code",
   "execution_count": 2,
   "metadata": {},
   "outputs": [],
   "source": [
    "warmup_request_staging = {\n",
    "  \"messageType\": \"prepareAnalytics\",\n",
    "  \"messageContext\": {\n",
    "    \"clientID\": \"healthcheck-staging\"\n",
    "  },\n",
    "  \"messageID\": \"case0001-jira-0535-0000-201810051837\",\n",
    "  \"messageTimestamp\": \"an iso timestamp\",\n",
    "  \"messageVersion\": \"messageVersion\",\n",
    "  \"producerName\": \"warmup-before-bulk\",\n",
    "  \"producerVersion\": \"producer-version\",\n",
    "  \"messageData\": {\n",
    "    \"clientID\": \"healthcheck-staging\",\n",
    "    \"requestID\": \"case0001-jira-0535-0000-201810051837\"\n",
    "  }\n",
    "}"
   ]
  },
  {
   "cell_type": "code",
   "execution_count": 3,
   "metadata": {},
   "outputs": [],
   "source": [
    "arn_name = \"arn:aws:lambda:us-west-2:098827237479:function:data-warehouse-pipeline-analytics-staging-preparingAnalytics\"\n",
    "input_request = warmup_request_staging"
   ]
  },
  {
   "cell_type": "code",
   "execution_count": 4,
   "metadata": {},
   "outputs": [],
   "source": [
    "SUCCESS_STATUS_CODES = [202, 200]\n",
    "client = boto3.client('lambda')\n",
    "res = client.invoke(FunctionName=arn_name,InvocationType='Event',Payload=json.dumps(input_request))\n",
    "\n",
    "if res['StatusCode'] not in SUCCESS_STATUS_CODES:\n",
    "        print(res['StatusCode'])"
   ]
  },
  {
   "cell_type": "code",
   "execution_count": 5,
   "metadata": {},
   "outputs": [],
   "source": [
    "time.sleep(15)"
   ]
  },
  {
   "cell_type": "markdown",
   "metadata": {},
   "source": [
    "## Upload from local  \n",
    "Put sets of the JSON into \"Groups\" that can be processed in bulk  \n",
    "Note: too many in a  group can cause a problem - the size of the equifax update becomes too large for kinesis\n",
    "Typically, 4-6 thousand individual JSON can be in a \"group\"\n",
    "The number of groups then depends on how many equifax updates are in each saved JSON file (see \"WH-3151 - D - Axis - NonFunded - Equifax Update Mapping\")\n"
   ]
  },
  {
   "cell_type": "markdown",
   "metadata": {},
   "source": [
    "### If everthing is fine, save them directly to S3    \n",
    "* Bucket: \"trustsciencespark\"  \n",
    "* Client: \"axisautofinance-wh\"  \n",
    "\n",
    "**NOTE** setting \"groups\" manually.  "
   ]
  },
  {
   "cell_type": "code",
   "execution_count": 7,
   "metadata": {},
   "outputs": [],
   "source": [
    "work_folder = \"D:\\\\WH-3151\\\\\"\n",
    "output_folder = work_folder + \"output\\\\\""
   ]
  },
  {
   "cell_type": "code",
   "execution_count": 8,
   "metadata": {},
   "outputs": [
    {
     "name": "stdout",
     "output_type": "stream",
     "text": [
      "D:\\WH-3148\\output\\axisautofinance_equifax_update0.json D:\\WH-3148\\output\\group0\\axisautofinance_equifax_update0.json\n",
      "D:\\WH-3148\\output\\axisautofinance_equifax_update1.json D:\\WH-3148\\output\\group0\\axisautofinance_equifax_update1.json\n",
      "D:\\WH-3148\\output\\axisautofinance_equifax_update2.json D:\\WH-3148\\output\\group0\\axisautofinance_equifax_update2.json\n",
      "D:\\WH-3148\\output\\axisautofinance_equifax_update3.json D:\\WH-3148\\output\\group0\\axisautofinance_equifax_update3.json\n",
      "D:\\WH-3148\\output\\axisautofinance_equifax_update4.json D:\\WH-3148\\output\\group0\\axisautofinance_equifax_update4.json\n",
      "D:\\WH-3148\\output\\axisautofinance_equifax_update5.json D:\\WH-3148\\output\\group0\\axisautofinance_equifax_update5.json\n"
     ]
    }
   ],
   "source": [
    "# set this to how many sets of 1000 for each processing group\n",
    "\n",
    "# since for WH-3151, the total is only xxxxxxx, just set to 6 and all in 1 groups\n",
    "\n",
    "group_size = 6\n",
    "group_list = []\n",
    "\n",
    "for filename in os.listdir(output_folder):\n",
    "    if filename.endswith(\".json\"):\n",
    "        json_number = int(filename.split(\"update\")[1].split(\".\")[0])\n",
    "        group_number = int(json_number / group_size)\n",
    "        group_folder = output_folder+\"group{}\\\\\".format(group_number)\n",
    "        group_list.append(group_folder)\n",
    "        os.makedirs(os.path.dirname(group_folder), exist_ok=True)\n",
    "        print(output_folder+filename, group_folder+filename)\n",
    "        shutil.copyfile(output_folder+filename, group_folder+filename)"
   ]
  },
  {
   "cell_type": "markdown",
   "metadata": {},
   "source": [
    "### Do the S3 Sync to get from local to S3"
   ]
  },
  {
   "cell_type": "code",
   "execution_count": 9,
   "metadata": {},
   "outputs": [
    {
     "data": {
      "text/plain": [
       "['D:\\\\WH-3148\\\\output\\\\group0\\\\']"
      ]
     },
     "execution_count": 9,
     "metadata": {},
     "output_type": "execute_result"
    }
   ],
   "source": [
    "group_folders = []\n",
    "for folder in group_list:\n",
    "    if folder not in group_folders:\n",
    "        group_folders.append(folder)\n",
    "sorted(group_folders)"
   ]
  },
  {
   "cell_type": "code",
   "execution_count": 10,
   "metadata": {},
   "outputs": [
    {
     "data": {
      "text/plain": [
       "0"
      ]
     },
     "execution_count": 10,
     "metadata": {},
     "output_type": "execute_result"
    }
   ],
   "source": [
    "# since only 1, doing manually\n",
    "sync_command = \"aws s3 sync D:\\WH-3151\\output\\group0\\ s3://trustsciencespark/axisautofinance-wh/WH-3151/equifaxUpdates/group0/\"\n",
    "os.system(sync_command)"
   ]
  },
  {
   "cell_type": "markdown",
   "metadata": {},
   "source": [
    "See:  \n",
    "https://s3.console.aws.amazon.com/s3/buckets/trustsciencespark/axisautofinance-wh/WH-3151/equifaxUpdates/?region=us-west-2&tab=overview"
   ]
  },
  {
   "cell_type": "markdown",
   "metadata": {},
   "source": [
    "## Bulk Processing  \n",
    "\n",
    "- Send each group to the bulk update lambda\n",
    "- make sure path is set to above\n",
    "- the \"updateRequst\" is True   "
   ]
  },
  {
   "cell_type": "code",
   "execution_count": 13,
   "metadata": {},
   "outputs": [
    {
     "name": "stdout",
     "output_type": "stream",
     "text": [
      "{'requestPath': 'trustsciencespark/axisautofinance-wh/WH-3148/equifaxUpdates/group0/', 'clientId': 'axisautofinance-wh', 'userId': 'rob', 'priority': 1, 'priorityOverwrite': False, 'updateRequest': True, 'source': 'WH-3148-update'}\n"
     ]
    }
   ],
   "source": [
    "# looped through groups **manually**\n",
    "group_num = 0\n",
    "bulk_request = {\n",
    "  \"requestPath\": \"trustsciencespark/axisautofinance-wh/WH-3151/equifaxUpdates/group{0}/\".format(group_num),\n",
    "  \"clientId\": \"axisautofinance-wh\",\n",
    "  \"userId\": \"rob\",\n",
    "  \"priority\": 1,\n",
    "  \"priorityOverwrite\": False,\n",
    "  \"updateRequest\": True,\n",
    "  \"source\": \"WH-3151-update\".format(group_num)   # I don't think the bulkRequestProducer is using this in app_data_log\n",
    "} \n",
    "\n",
    "print(bulk_request)"
   ]
  },
  {
   "cell_type": "code",
   "execution_count": 14,
   "metadata": {},
   "outputs": [],
   "source": [
    "# application-pipeline-staging-bulkRequestProducer\n",
    "bulk_api_staging = \"https://0h4pk200f0.execute-api.us-west-2.amazonaws.com/staging/api/bulk/request\""
   ]
  },
  {
   "cell_type": "code",
   "execution_count": 15,
   "metadata": {},
   "outputs": [
    {
     "name": "stdout",
     "output_type": "stream",
     "text": [
      "202\n",
      "{\"status\": \"Accepted\", \"message\": \"The request was submitted successfully.\"}\n"
     ]
    }
   ],
   "source": [
    "# Send bulk test\n",
    "res = requests.post(bulk_api_staging, json=bulk_request)\n",
    "print(res.status_code)\n",
    "print(res.text)"
   ]
  },
  {
   "cell_type": "markdown",
   "metadata": {},
   "source": [
    "### Output\n",
    "Expected: 202  \n",
    "{\"status\": \"Accepted\", \"message\": \"The request was submitted successfully.\"}\n",
    "\n",
    "Errors:  \n",
    "If you get a 504 {\"message\": \"Endpoint request timed out\"} when trying to do 10x1000 size groups.  -  neeed many more groups.\n",
    "Reorganize s3 - recopy from local to to S3"
   ]
  },
  {
   "cell_type": "code",
   "execution_count": 16,
   "metadata": {},
   "outputs": [
    {
     "name": "stdout",
     "output_type": "stream",
     "text": [
      "Submitted Request is: \n",
      "{'requestPath': 'trustsciencespark/axisautofinance-wh/WH-3148/equifaxUpdates/group0/', 'clientId': 'axisautofinance-wh', 'userId': 'rob', 'priority': 1, 'priorityOverwrite': False, 'updateRequest': True, 'source': 'WH-3148-update'}\n"
     ]
    }
   ],
   "source": [
    "print(\"Submitted Request is: \")\n",
    "print(bulk_request)"
   ]
  },
  {
   "cell_type": "markdown",
   "metadata": {},
   "source": [
    "## Done!\n",
    "Checked each group in SQL.\n",
    "Only 1 group and all 5398 were updated!\n",
    "\n",
    "Example:  \n",
    "- https://console.aws.amazon.com/s3/buckets/trustscience-test/axisautofinance-wh/00172a86-b027-476c-b312-ebb27a40a77d/?region=us-west-2&tab=overview "
   ]
  },
  {
   "cell_type": "markdown",
   "metadata": {},
   "source": [
    "#### Move on the loading the RDE ...."
   ]
  }
 ],
 "metadata": {
  "kernelspec": {
   "display_name": "Python 3",
   "language": "python",
   "name": "python3"
  },
  "language_info": {
   "codemirror_mode": {
    "name": "ipython",
    "version": 3
   },
   "file_extension": ".py",
   "mimetype": "text/x-python",
   "name": "python",
   "nbconvert_exporter": "python",
   "pygments_lexer": "ipython3",
   "version": "3.6.10"
  }
 },
 "nbformat": 4,
 "nbformat_minor": 4
}
