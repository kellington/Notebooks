{
 "cells": [
  {
   "cell_type": "markdown",
   "metadata": {},
   "source": [
    "# AWS Diagrams  \n",
    "\n",
    "https://medium.com/better-programming/diagrams-diagram-as-code-56fec222cdf6   "
   ]
  },
  {
   "cell_type": "code",
   "execution_count": 4,
   "metadata": {},
   "outputs": [
    {
     "name": "stderr",
     "output_type": "stream",
     "text": [
      "Warning: node 'c2a2fcaf9d4d5e921c565b33d473955f', graph 'WH_Pipeline' size too small for label\n",
      "Warning: node '5e69d8c71c4c5af2c67046276fab0072', graph 'WH_Pipeline' size too small for label\n"
     ]
    }
   ],
   "source": [
    "# diagram.py\n",
    "from diagrams import Diagram\n",
    "from diagrams.aws.compute import EC2, Lambda\n",
    "from diagrams.aws.database import RDS\n",
    "from diagrams.aws.analytics import Kinesis\n",
    "from diagrams.aws.integration import SNS \n",
    "from diagrams.aws.storage import S3  \n",
    "\n",
    "with Diagram(\"WH_Pipeline\", show=True):\n",
    "    store = S3(\"request store\")    \n",
    "    dw = RDS(\"pipeline log\") \n",
    "    mining = Lambda(\"prepareMiningRequest\") >> Kinesis(\"Azure\")\n",
    "    \n",
    "    Lambda(\"APPS\") >> Kinesis(\"request\") >> Lambda(\"handleAppRequest\")  >>\\\n",
    "        Lambda(\"banana\") "
   ]
  },
  {
   "cell_type": "code",
   "execution_count": null,
   "metadata": {},
   "outputs": [],
   "source": []
  }
 ],
 "metadata": {
  "kernelspec": {
   "display_name": "Python 3",
   "language": "python",
   "name": "python3"
  },
  "language_info": {
   "codemirror_mode": {
    "name": "ipython",
    "version": 3
   },
   "file_extension": ".py",
   "mimetype": "text/x-python",
   "name": "python",
   "nbconvert_exporter": "python",
   "pygments_lexer": "ipython3",
   "version": "3.7.7"
  }
 },
 "nbformat": 4,
 "nbformat_minor": 4
}
