{
 "cells": [
  {
   "cell_type": "markdown",
   "metadata": {},
   "source": [
    "## GroupMe\n",
    "\n",
    "using python to make sense of our GroupMe discussions"
   ]
  },
  {
   "cell_type": "markdown",
   "metadata": {},
   "source": [
    "## API  \n",
    "Create Developer account  \n",
    "Create Application  \n",
    " - this is **ReportingViaJupyter**  \n",
    "\n",
    "https://dev.groupme.com/applications\n"
   ]
  },
  {
   "cell_type": "markdown",
   "metadata": {},
   "source": [
    "## Docs\n",
    "\n",
    "RestAPI:\n",
    "https://dev.groupme.com/docs/v3\n",
    "\n",
    "Groupy - Python Wrapper\n",
    "https://github.com/rhgrant10/Groupy\n",
    "\n",
    "`pip install GroupyAPI`"
   ]
  },
  {
   "cell_type": "code",
   "execution_count": 1,
   "metadata": {},
   "outputs": [],
   "source": [
    "import json\n",
    "\n",
    "from groupy import Client\n",
    "from groupy import attachments\n",
    "\n",
    "from datetime import datetime\n",
    "from dateutil import tz\n",
    "\n",
    "import os\n",
    "import collections"
   ]
  },
  {
   "cell_type": "code",
   "execution_count": 2,
   "metadata": {},
   "outputs": [],
   "source": [
    "# Config\n",
    "\n",
    "# API Token\n",
    "myApiToken = '12a551408b7c0136238a3aad6ef5005b'\n",
    "\n",
    "# Auto-detect zones:\n",
    "from_zone = tz.tzutc()\n",
    "to_zone = tz.tzlocal()"
   ]
  },
  {
   "cell_type": "code",
   "execution_count": 3,
   "metadata": {},
   "outputs": [],
   "source": [
    "client = Client.from_token(myApiToken)"
   ]
  },
  {
   "cell_type": "code",
   "execution_count": 4,
   "metadata": {},
   "outputs": [],
   "source": [
    "groups = list(client.groups.list_all())"
   ]
  },
  {
   "cell_type": "code",
   "execution_count": 11,
   "metadata": {},
   "outputs": [
    {
     "name": "stdout",
     "output_type": "stream",
     "text": [
      "/Users/Rob/Projects/Notebooks/groupme\n"
     ]
    }
   ],
   "source": [
    "cwd = os.getcwd()\n",
    "print(cwd)"
   ]
  },
  {
   "cell_type": "code",
   "execution_count": 15,
   "metadata": {},
   "outputs": [
    {
     "name": "stdout",
     "output_type": "stream",
     "text": [
      "Working on group: 2019 NHL Draft\n",
      " - output will be saved in folder of same name\n"
     ]
    }
   ],
   "source": [
    "# Group Of Interest\n",
    "searchGroup = '2019 NHL Draft' #'☕️ Friday Coffee' #'💩 Misc Crap'\n",
    "theGroup = None\n",
    "\n",
    "for group in groups:\n",
    "    if group.name == searchGroup:\n",
    "        theGroup = group\n",
    "        print('Working on group: ' + theGroup.name)\n",
    "        \n",
    "        #Create a working directory for this group\n",
    "        directory = theGroup.name\n",
    "        if not os.path.exists(directory):\n",
    "            os.makedirs(directory)\n",
    "        print(\" - output will be saved in folder of same name\")\n",
    "        #os.chdir(directory)\n",
    "if theGroup is None:\n",
    "    print(\"Not found.  Pick one of these:\")\n",
    "    for group in groups:\n",
    "        print(group.name)\n"
   ]
  },
  {
   "cell_type": "markdown",
   "metadata": {},
   "source": [
    "### Functions"
   ]
  },
  {
   "cell_type": "code",
   "execution_count": 16,
   "metadata": {},
   "outputs": [],
   "source": [
    "def format_mesage(message):\n",
    "    message_datetime_utc = message.created_at                                                     \n",
    "    message_datetime_local = message_datetime_utc.astimezone(to_zone)\n",
    "    m_datetime = message_datetime_local.strftime('%Y-%m-%d %H:%M:%S')\n",
    "    \n",
    "    if message.text is None:\n",
    "        m_text = '*no message*'\n",
    "    else:\n",
    "        m_text = message.text\n",
    "\n",
    "    m_attachments = '['\n",
    "    if message.attachments is not None:\n",
    "        for attachment in message.attachments:\n",
    "            m_attachments = m_attachments + attachment.type + ' '\n",
    "    else:\n",
    "        m_attachments = m_attachments + '-'\n",
    "        \n",
    "    m_attachments = m_attachments.strip() + ']'\n",
    "    display_message = m_datetime + ' ' + message.name + ':' + m_text + ' ' + m_attachments\n",
    "    \n",
    "    return display_message"
   ]
  },
  {
   "cell_type": "code",
   "execution_count": 17,
   "metadata": {},
   "outputs": [],
   "source": [
    "def format_image_name(message):\n",
    "    message_datetime_utc = message.created_at                                                     \n",
    "    message_datetime_local = message_datetime_utc.astimezone(to_zone)\n",
    "    m_datetime = message_datetime_local.strftime('%Y%m%d_%H%M%S')\n",
    "    \n",
    "    image_name = m_datetime + '_' + message.name + '.jpg'\n",
    "    \n",
    "    return image_name"
   ]
  },
  {
   "cell_type": "markdown",
   "metadata": {},
   "source": [
    "### Group Summary"
   ]
  },
  {
   "cell_type": "code",
   "execution_count": 18,
   "metadata": {},
   "outputs": [
    {
     "name": "stdout",
     "output_type": "stream",
     "text": [
      "problem - message: 37900\n",
      "Results\n",
      "----------------------------------------\n",
      "2019 NHL Draft\n",
      "----------------------------------------\n",
      "Updated as of: 2019-02-17 17:03:21\n",
      "\n",
      "Messages in group: 37900\n",
      "Posts by user: \n",
      "    Mike Smith          --> 8213\n",
      "    Steve               --> 17643\n",
      "    Brent Kellington    --> 7411\n",
      "    Rob Kellington      --> 2165\n",
      "    GroupMe             --> 434\n",
      "    David               --> 70\n",
      "    Gerald Barkman      --> 365\n",
      "    Dave Horrocks       --> 166\n",
      "    Sean Solbak         --> 128\n",
      "    Steve McKeigan      --> 37\n",
      "    Trevor Ranger       --> 1119\n",
      "    IFTTT via Steve Campbell--> 104\n",
      "    Steve Campbell      --> 8\n",
      "    Kelson Smith        --> 12\n",
      "    Michael Smith       --> 1\n",
      "    GroupMe Calendar    --> 2\n",
      "    Hockey Bot          --> 1\n",
      "    Jonathan Stachniak  --> 17\n",
      "    Parker Kellington   --> 1\n",
      "    David Gannon        --> 1\n",
      "    Terry Miller        --> 2\n",
      "\n",
      "Attachments by type: \n",
      "    image               --> 1862\n",
      "    mentions            --> 93\n",
      "    emoji               --> 308\n",
      "    location            --> 59\n",
      "    poll                --> 4\n",
      "    linked_image        --> 13\n",
      "    video               --> 28\n",
      "    event               --> 5\n",
      "    undeliverable_members--> 1\n",
      "\n",
      "Saved images in folder: 1862\n",
      "\n",
      "\n",
      "\n",
      "Done\n",
      "\n"
     ]
    }
   ],
   "source": [
    "message_count = 0\n",
    "attachment_count = 0\n",
    "multiple_count = 0\n",
    "saved_image_count = 0\n",
    "\n",
    "save_images_flag = True\n",
    "\n",
    "userCount = collections.Counter()\n",
    "attachmentTypeCount = collections.Counter()\n",
    "\n",
    "try:\n",
    "    for message in theGroup.messages.list_all():\n",
    "        message_count += 1\n",
    "        userCount[message.name] += 1\n",
    "        if message.attachments:\n",
    "            attachment_count += 1\n",
    "            if len(message.attachments) > 1:\n",
    "                multiple_count += 1\n",
    "            for attachment in message.attachments:\n",
    "                #print('Attachment: ' + attachment.type)\n",
    "                attachmentTypeCount[attachment.type] += 1\n",
    "                #save images\n",
    "                if attachment.type == 'image' and save_images_flag:\n",
    "                    saved_image_count += 1\n",
    "                    image_name = format_image_name(message)\n",
    "                    image_data = client.images.download(attachment)\n",
    "                    with open(directory+'/'+image_name, 'wb') as w:\n",
    "                        w.write(image_data)\n",
    "\n",
    "        #testing\n",
    "        #if message_count > 100:\n",
    "        #    break \n",
    "\n",
    "except:\n",
    "    print('problem - message: ' + str(message_count))\n",
    "        \n",
    "# summary results \n",
    "summary_text = theGroup.name + \"\\n\"\n",
    "\n",
    "summary_text = summary_text + '-'*40 + \"\\n\"\n",
    "summary_text = summary_text + 'Updated as of: ' + str(datetime.now().strftime('%Y-%m-%d %H:%M:%S')) + \"\\n\"\n",
    "summary_text = summary_text + \"\\n\"\n",
    "summary_text = summary_text + 'Messages in group: ' + str(message_count) + \"\\n\"\n",
    "summary_text = summary_text + \"Posts by user: \\n\"\n",
    "for k, v in userCount.items():\n",
    "    summary_text = summary_text + \"    \" + k.ljust(20) + '--> ' + str(v) + \"\\n\"\n",
    "summary_text = summary_text + \"\\n\"\n",
    "summary_text = summary_text + \"Attachments by type: \\n\"\n",
    "for k, v in attachmentTypeCount.items():\n",
    "    summary_text = summary_text + \"    \" + k.ljust(20) + '--> ' + str(v) + \"\\n\"\n",
    "summary_text = summary_text + \"\\n\"\n",
    "summary_text = summary_text + 'Saved images in folder: ' + str(saved_image_count) + \"\\n\"\n",
    "\n",
    "summary_text = summary_text + \"\\n\"*3\n",
    "summary_text = summary_text + 'Done' + \"\\n\"\n",
    "\n",
    "# Save file\n",
    "with open(directory+'/Group_Summary.txt', 'w') as w:\n",
    "    w.write(summary_text)\n",
    "w.close    \n",
    "\n",
    "print('Results')\n",
    "print('-'*40)\n",
    "print(summary_text)"
   ]
  },
  {
   "cell_type": "markdown",
   "metadata": {},
   "source": [
    "### BELOW IS WORKING AREA"
   ]
  },
  {
   "cell_type": "code",
   "execution_count": 65,
   "metadata": {},
   "outputs": [
    {
     "data": {
      "text/plain": [
       "{'data': {'attachments': [{'type': 'image',\n",
       "    'url': 'https://i.groupme.com/220x275.gif.388c61de86c644a2bf540fe5c912713e'}],\n",
       "  'avatar_url': 'https://i.groupme.com/1022x1024.jpeg.cd3aa7ca88984d98976750b471a9d35d',\n",
       "  'created_at': 1550365828,\n",
       "  'favorited_by': [],\n",
       "  'group_id': '8234637',\n",
       "  'id': '155036582874205182',\n",
       "  'name': 'Steve',\n",
       "  'sender_id': '2160970',\n",
       "  'sender_type': 'user',\n",
       "  'source_guid': '252373D2-41E8-42FF-9763-00CC2E0D9E01',\n",
       "  'system': False,\n",
       "  'text': None,\n",
       "  'user_id': '2160970'},\n",
       " 'manager': <groupy.api.messages.Messages at 0x10e002f98>,\n",
       " 'conversation_id': '8234637',\n",
       " 'created_at': datetime.datetime(2019, 2, 17, 1, 10, 28, tzinfo=datetime.timezone.utc),\n",
       " 'attachments': [<groupy.api.attachments.Image at 0x10e0915c0>],\n",
       " '_likes': <groupy.api.messages.Likes at 0x10e091470>}"
      ]
     },
     "execution_count": 65,
     "metadata": {},
     "output_type": "execute_result"
    }
   ],
   "source": [
    "#Overview of the last message:\n",
    "message.__dict__"
   ]
  },
  {
   "cell_type": "code",
   "execution_count": 6,
   "metadata": {},
   "outputs": [
    {
     "data": {
      "text/plain": [
       "{'data': {'id': '8234637',\n",
       "  'group_id': '8234637',\n",
       "  'name': '💩 Misc Crap',\n",
       "  'phone_number': '+1 6317147436',\n",
       "  'type': 'private',\n",
       "  'description': '',\n",
       "  'image_url': 'https://i.groupme.com/638x638.jpeg.9b905cb0b87a0131d1f322000a2d0abb',\n",
       "  'creator_user_id': '2160970',\n",
       "  'created_at': 1399510869,\n",
       "  'updated_at': 1550365828,\n",
       "  'office_mode': False,\n",
       "  'share_url': 'https://groupme.com/join_group/8234637/E2mtYW',\n",
       "  'share_qr_code_url': 'https://image.groupme.com/qr/join_group/8234637/E2mtYW/preview',\n",
       "  'members': [{'user_id': '3302203',\n",
       "    'nickname': 'Karen Tarvyd',\n",
       "    'image_url': '',\n",
       "    'id': '122977328',\n",
       "    'muted': False,\n",
       "    'autokicked': False,\n",
       "    'roles': ['user'],\n",
       "    'name': 'Karen Tarvyd'},\n",
       "   {'user_id': '2160970',\n",
       "    'nickname': 'Steve',\n",
       "    'image_url': 'https://i.groupme.com/1022x1024.jpeg.cd3aa7ca88984d98976750b471a9d35d',\n",
       "    'id': '45226384',\n",
       "    'muted': False,\n",
       "    'autokicked': False,\n",
       "    'roles': ['admin', 'owner'],\n",
       "    'name': 'Steve'},\n",
       "   {'user_id': '13529088',\n",
       "    'nickname': 'Trevor Ranger',\n",
       "    'image_url': 'https://i.groupme.com/1280x1280.jpeg.8f8308507eb70131d1df22000a2d0abb',\n",
       "    'id': '45226504',\n",
       "    'muted': False,\n",
       "    'autokicked': False,\n",
       "    'roles': ['user'],\n",
       "    'name': 'Trevor Ranger'},\n",
       "   {'user_id': '3059936',\n",
       "    'nickname': 'Dave Horrocks',\n",
       "    'image_url': 'https://i.groupme.com/220x229.jpeg.59d97bfa4892400385cc56033b5db074',\n",
       "    'id': '45226505',\n",
       "    'muted': False,\n",
       "    'autokicked': False,\n",
       "    'roles': ['user'],\n",
       "    'name': 'Dave Horrocks'},\n",
       "   {'user_id': '2161960',\n",
       "    'nickname': 'Michael Smith',\n",
       "    'image_url': 'http://i.groupme.com/1080x1920.png.9da73705e6744474a182ae7d2c51fdd3',\n",
       "    'id': '45226507',\n",
       "    'muted': False,\n",
       "    'autokicked': False,\n",
       "    'roles': ['user'],\n",
       "    'name': 'Michael Smith'},\n",
       "   {'user_id': '2234788',\n",
       "    'nickname': 'Brent Kellington',\n",
       "    'image_url': 'https://i.groupme.com/750x720.jpeg.ff6c495a21eb4de0af397d3e9c0d6f01',\n",
       "    'id': '45226508',\n",
       "    'muted': True,\n",
       "    'autokicked': False,\n",
       "    'roles': ['user'],\n",
       "    'name': 'Brent Kellington'},\n",
       "   {'user_id': '2161995',\n",
       "    'nickname': 'Rob Kellington',\n",
       "    'image_url': 'https://i.groupme.com/638x354.jpeg.ea8a8b8cf6c945e8afdebf4905ba2744',\n",
       "    'id': '45226509',\n",
       "    'muted': False,\n",
       "    'autokicked': False,\n",
       "    'roles': ['user'],\n",
       "    'name': 'Rob Kellington'},\n",
       "   {'user_id': '3059966',\n",
       "    'nickname': 'Maureen Horrocks',\n",
       "    'image_url': 'http://i.groupme.com/c1897e40-fa9e-012e-64af-12313b031824',\n",
       "    'id': '45239310',\n",
       "    'muted': False,\n",
       "    'autokicked': False,\n",
       "    'roles': ['user'],\n",
       "    'name': 'Maureen Horrocks'},\n",
       "   {'user_id': '3339334',\n",
       "    'nickname': 'Susan K',\n",
       "    'image_url': 'https://i.groupme.com/1276x1280.jpeg.2caebad0ec3e013159a422000b029884',\n",
       "    'id': '45239311',\n",
       "    'muted': True,\n",
       "    'autokicked': False,\n",
       "    'roles': ['user'],\n",
       "    'name': 'Susan K'},\n",
       "   {'user_id': '11111025',\n",
       "    'nickname': 'Fareeza',\n",
       "    'image_url': '',\n",
       "    'id': '45448321',\n",
       "    'muted': False,\n",
       "    'autokicked': False,\n",
       "    'roles': ['user'],\n",
       "    'name': 'Fareeza'},\n",
       "   {'user_id': '18144073',\n",
       "    'nickname': 'Jesse Horrocks',\n",
       "    'image_url': 'http://i.groupme.com/640x640.jpeg.be43cfe0142f41aaa1d5d8eee36625b4',\n",
       "    'id': '54724545',\n",
       "    'muted': False,\n",
       "    'autokicked': False,\n",
       "    'roles': ['user'],\n",
       "    'name': 'Jesse Horrocks'}],\n",
       "  'messages': {'count': 2611,\n",
       "   'last_message_id': '155036582874205182',\n",
       "   'last_message_created_at': 1550365828,\n",
       "   'preview': {'nickname': 'Steve',\n",
       "    'text': '',\n",
       "    'image_url': 'https://i.groupme.com/1022x1024.jpeg.cd3aa7ca88984d98976750b471a9d35d',\n",
       "    'attachments': [{'type': 'image',\n",
       "      'url': 'https://i.groupme.com/220x275.gif.388c61de86c644a2bf540fe5c912713e'}]}},\n",
       "  'max_members': 500},\n",
       " 'manager': <groupy.api.groups.Groups at 0x10cf60eb8>,\n",
       " 'messages': <groupy.api.messages.Messages at 0x10d6a0588>,\n",
       " 'gallery': <groupy.api.messages.Gallery at 0x10d6a0400>,\n",
       " 'leaderboard': <groupy.api.messages.Leaderboard at 0x10d6a05c0>,\n",
       " 'memberships': <groupy.api.memberships.Memberships at 0x10d6a05f8>,\n",
       " '_bots': <groupy.api.bots.Bots at 0x10d6a06a0>,\n",
       " '_user': <groupy.api.user.User at 0x10d6a0550>,\n",
       " 'members': [<Member(user_id='3302203', nickname='Karen Tarvyd')>,\n",
       "  <Member(user_id='2160970', nickname='Steve')>,\n",
       "  <Member(user_id='13529088', nickname='Trevor Ranger')>,\n",
       "  <Member(user_id='3059936', nickname='Dave Horrocks')>,\n",
       "  <Member(user_id='2161960', nickname='Michael Smith')>,\n",
       "  <Member(user_id='2234788', nickname='Brent Kellington')>,\n",
       "  <Member(user_id='2161995', nickname='Rob Kellington')>,\n",
       "  <Member(user_id='3059966', nickname='Maureen Horrocks')>,\n",
       "  <Member(user_id='3339334', nickname='Susan K')>,\n",
       "  <Member(user_id='11111025', nickname='Fareeza')>,\n",
       "  <Member(user_id='18144073', nickname='Jesse Horrocks')>],\n",
       " 'created_at': datetime.datetime(2014, 5, 8, 1, 1, 9, tzinfo=datetime.timezone.utc),\n",
       " 'updated_at': datetime.datetime(2019, 2, 17, 1, 10, 28, tzinfo=datetime.timezone.utc)}"
      ]
     },
     "execution_count": 6,
     "metadata": {},
     "output_type": "execute_result"
    }
   ],
   "source": [
    "#Overview of the group:\n",
    "theGroup.__dict__"
   ]
  },
  {
   "cell_type": "code",
   "execution_count": 7,
   "metadata": {},
   "outputs": [
    {
     "name": "stdout",
     "output_type": "stream",
     "text": [
      "Karen Tarvyd\n",
      "Steve\n",
      "Trevor Ranger\n",
      "Dave Horrocks\n",
      "Michael Smith\n",
      "Brent Kellington\n",
      "Rob Kellington\n",
      "Maureen Horrocks\n",
      "Susan K\n",
      "Fareeza\n",
      "Jesse Horrocks\n"
     ]
    }
   ],
   "source": [
    "for member in theGroup.members:\n",
    "    print(member.nickname)"
   ]
  },
  {
   "cell_type": "code",
   "execution_count": 13,
   "metadata": {},
   "outputs": [],
   "source": [
    "\n"
   ]
  },
  {
   "cell_type": "code",
   "execution_count": null,
   "metadata": {},
   "outputs": [],
   "source": [
    "message.__dict__"
   ]
  },
  {
   "cell_type": "code",
   "execution_count": 55,
   "metadata": {},
   "outputs": [
    {
     "data": {
      "text/plain": [
       "'2019-02-16 13:26:46 Fareeza:In what direction Rob?  []'"
      ]
     },
     "execution_count": 55,
     "metadata": {},
     "output_type": "execute_result"
    }
   ],
   "source": [
    "format_mesage(message)"
   ]
  },
  {
   "cell_type": "markdown",
   "metadata": {},
   "source": [
    "### IMAGES"
   ]
  },
  {
   "cell_type": "code",
   "execution_count": 64,
   "metadata": {},
   "outputs": [
    {
     "data": {
      "text/plain": [
       "'20190216_181028_Steve.jpg'"
      ]
     },
     "execution_count": 64,
     "metadata": {},
     "output_type": "execute_result"
    }
   ],
   "source": [
    "format_image_name(message)"
   ]
  },
  {
   "cell_type": "code",
   "execution_count": 66,
   "metadata": {},
   "outputs": [],
   "source": [
    "image_data = client.images.download(attachment)"
   ]
  },
  {
   "cell_type": "code",
   "execution_count": 67,
   "metadata": {},
   "outputs": [
    {
     "data": {
      "text/plain": [
       "bytes"
      ]
     },
     "execution_count": 67,
     "metadata": {},
     "output_type": "execute_result"
    }
   ],
   "source": [
    "type(image_data)"
   ]
  },
  {
   "cell_type": "code",
   "execution_count": null,
   "metadata": {},
   "outputs": [],
   "source": [
    "with open('rob.jpg', 'wb') as w:\n",
    "    w.write(image_data)"
   ]
  },
  {
   "cell_type": "code",
   "execution_count": null,
   "metadata": {},
   "outputs": [],
   "source": [
    "from IPython.display import Image\n",
    "image = Image(image_data)\n",
    "image"
   ]
  },
  {
   "cell_type": "markdown",
   "metadata": {},
   "source": [
    "## Looping"
   ]
  },
  {
   "cell_type": "code",
   "execution_count": null,
   "metadata": {},
   "outputs": [],
   "source": [
    "method1 = theGroup.messages.list_all()\n",
    "print(type(method1))"
   ]
  },
  {
   "cell_type": "code",
   "execution_count": null,
   "metadata": {},
   "outputs": [],
   "source": [
    "# this is expensive!!!!!\n",
    "# all_messages = list(theGroup.messages.list().autopage())"
   ]
  },
  {
   "cell_type": "code",
   "execution_count": null,
   "metadata": {},
   "outputs": [],
   "source": [
    ">>> oldest_message_in_page = messages[-1]\n",
    ">>> page_two = chat_or_group.messages.list_before(oldest_message_in_page.id)\n",
    ">>> all_messages = list(chat_or_group.messages.list().autopage())"
   ]
  },
  {
   "cell_type": "code",
   "execution_count": null,
   "metadata": {},
   "outputs": [],
   "source": [
    "for message in theGroup.messages.list_all():"
   ]
  },
  {
   "cell_type": "code",
   "execution_count": null,
   "metadata": {},
   "outputs": [],
   "source": []
  },
  {
   "cell_type": "markdown",
   "metadata": {},
   "source": [
    "## Below is Scrap"
   ]
  },
  {
   "cell_type": "code",
   "execution_count": null,
   "metadata": {},
   "outputs": [],
   "source": [
    "# times are posix \n",
    "ts = int(\"1550349100\")\n",
    "utc = datetime.utcfromtimestamp(ts)\n",
    "\n",
    "print(utc.strftime('%Y-%m-%d %H:%M:%S'))\n",
    "print(datetime.utcfromtimestamp(ts).strftime('%Y-%m-%d %H:%M:%S'))\n",
    "\n",
    "# Convert time zone\n",
    "utc = utc.replace(tzinfo=from_zone)\n",
    "local = utc.astimezone(to_zone)"
   ]
  },
  {
   "cell_type": "code",
   "execution_count": 17,
   "metadata": {},
   "outputs": [
    {
     "ename": "NameError",
     "evalue": "name 'newMessage' is not defined",
     "output_type": "error",
     "traceback": [
      "\u001b[0;31m---------------------------------------------------------------------------\u001b[0m",
      "\u001b[0;31mNameError\u001b[0m                                 Traceback (most recent call last)",
      "\u001b[0;32m<ipython-input-17-b90af8c22579>\u001b[0m in \u001b[0;36m<module>\u001b[0;34m\u001b[0m\n\u001b[1;32m      1\u001b[0m \u001b[0;31m# Posting a message\u001b[0m\u001b[0;34m\u001b[0m\u001b[0;34m\u001b[0m\u001b[0;34m\u001b[0m\u001b[0m\n\u001b[1;32m      2\u001b[0m \u001b[0;31m#newMessage = theGroup.post(text='hi')\u001b[0m\u001b[0;34m\u001b[0m\u001b[0;34m\u001b[0m\u001b[0;34m\u001b[0m\u001b[0m\n\u001b[0;32m----> 3\u001b[0;31m \u001b[0mnewMessage\u001b[0m\u001b[0;34m.\u001b[0m\u001b[0m__dict__\u001b[0m\u001b[0;34m\u001b[0m\u001b[0;34m\u001b[0m\u001b[0m\n\u001b[0m",
      "\u001b[0;31mNameError\u001b[0m: name 'newMessage' is not defined"
     ]
    }
   ],
   "source": [
    "# Posting a message \n",
    "#newMessage = theGroup.post(text='hi')\n",
    "newMessage.__dict__"
   ]
  },
  {
   "cell_type": "code",
   "execution_count": null,
   "metadata": {},
   "outputs": [],
   "source": []
  }
 ],
 "metadata": {
  "kernelspec": {
   "display_name": "Python 3",
   "language": "python",
   "name": "python3"
  },
  "language_info": {
   "codemirror_mode": {
    "name": "ipython",
    "version": 3
   },
   "file_extension": ".py",
   "mimetype": "text/x-python",
   "name": "python",
   "nbconvert_exporter": "python",
   "pygments_lexer": "ipython3",
   "version": "3.7.1"
  }
 },
 "nbformat": 4,
 "nbformat_minor": 2
}
