{
 "cells": [
  {
   "cell_type": "markdown",
   "metadata": {
    "deletable": true,
    "editable": true,
    "slideshow": {
     "slide_type": "slide"
    }
   },
   "source": [
    "# Example Profiling in Jupyter Notebook  "
   ]
  },
  {
   "cell_type": "markdown",
   "metadata": {
    "deletable": true,
    "editable": true,
    "slideshow": {
     "slide_type": "slide"
    }
   },
   "source": [
    "## Overview  \n",
    "Example of using a Jupyter notebook (iPython) to investigate some Edmonton open data  "
   ]
  },
  {
   "cell_type": "markdown",
   "metadata": {
    "collapsed": true,
    "deletable": true,
    "editable": true,
    "slideshow": {
     "slide_type": "slide"
    }
   },
   "source": [
    "![Edmonton Open Data](images/Property-Assessment-Data.jpg)"
   ]
  },
  {
   "cell_type": "markdown",
   "metadata": {
    "deletable": true,
    "editable": true,
    "slideshow": {
     "slide_type": "slide"
    }
   },
   "source": [
    "### Setup\n",
    "\n",
    "The next few cells are where common imports and cell magics are done"
   ]
  },
  {
   "cell_type": "code",
   "execution_count": 1,
   "metadata": {
    "collapsed": true,
    "deletable": true,
    "editable": true,
    "slideshow": {
     "slide_type": "skip"
    }
   },
   "outputs": [],
   "source": [
    "%matplotlib inline"
   ]
  },
  {
   "cell_type": "code",
   "execution_count": 2,
   "metadata": {
    "collapsed": true,
    "deletable": true,
    "editable": true,
    "slideshow": {
     "slide_type": "skip"
    }
   },
   "outputs": [],
   "source": [
    "import requests\n",
    "import csv\n",
    "import matplotlib.pyplot as plt\n",
    "import numpy as np\n",
    "import pandas as pd"
   ]
  },
  {
   "cell_type": "code",
   "execution_count": 3,
   "metadata": {
    "collapsed": true,
    "deletable": true,
    "editable": true,
    "slideshow": {
     "slide_type": "skip"
    }
   },
   "outputs": [],
   "source": [
    "import seaborn as sns\n",
    "sns.set(style=\"whitegrid\", color_codes=True)"
   ]
  },
  {
   "cell_type": "code",
   "execution_count": 4,
   "metadata": {
    "collapsed": true,
    "deletable": true,
    "editable": true
   },
   "outputs": [],
   "source": [
    "import qgrid # Best practices is to put imports at the top of the Notebook.\n",
    "qgrid.nbinstall(overwrite=True)"
   ]
  },
  {
   "cell_type": "code",
   "execution_count": 5,
   "metadata": {
    "collapsed": true,
    "deletable": true,
    "editable": true
   },
   "outputs": [],
   "source": [
    "#check qgrid\n",
    "#qgrid.nbinstall?\n",
    "#qgrid.show_grid?"
   ]
  },
  {
   "cell_type": "markdown",
   "metadata": {
    "deletable": true,
    "editable": true
   },
   "source": [
    "### Begin\n",
    "Download a copy of the file.  \n",
    "\n",
    "Ideally, there is a directory that maps to the Edmonton OpenData catalog *meta data* to help with automation.    \n",
    "\n",
    "Dataset_Name|Dataset_WebURLID|Dataset_DataID  \n",
    "------------|----------------|--------------   \n",
    "Property-Assessment-Data|q7d6-ambg|3pdp-qp95  \n",
    "\n"
   ]
  },
  {
   "cell_type": "code",
   "execution_count": 6,
   "metadata": {
    "collapsed": true,
    "deletable": true,
    "editable": true
   },
   "outputs": [],
   "source": [
    "csv_url = \"https://data.edmonton.ca/resource/3pdp-qp95.csv\"\n",
    "with open('./data/3pdp-qp95.csv', 'wb') as my_csv:\n",
    "    my_csv.write(requests.get(csv_url).content)    "
   ]
  },
  {
   "cell_type": "code",
   "execution_count": 7,
   "metadata": {
    "collapsed": true,
    "deletable": true,
    "editable": true
   },
   "outputs": [],
   "source": [
    "dframe = pd.read_csv(\"./data/3pdp-qp95.csv\")"
   ]
  },
  {
   "cell_type": "code",
   "execution_count": 8,
   "metadata": {
    "collapsed": false,
    "deletable": true,
    "editable": true
   },
   "outputs": [
    {
     "data": {
      "text/html": [
       "<div>\n",
       "<table border=\"1\" class=\"dataframe\">\n",
       "  <thead>\n",
       "    <tr style=\"text-align: right;\">\n",
       "      <th></th>\n",
       "      <th>account_number</th>\n",
       "      <th>garage</th>\n",
       "      <th>house_number</th>\n",
       "      <th>latitude</th>\n",
       "      <th>longitude</th>\n",
       "      <th>neighbourhood</th>\n",
       "      <th>street_name</th>\n",
       "      <th>suite</th>\n",
       "      <th>tax_class</th>\n",
       "      <th>total_asmt</th>\n",
       "    </tr>\n",
       "  </thead>\n",
       "  <tbody>\n",
       "    <tr>\n",
       "      <th>0</th>\n",
       "      <td>10700507</td>\n",
       "      <td>N</td>\n",
       "      <td>2216.0</td>\n",
       "      <td>53.421015</td>\n",
       "      <td>-113.596138</td>\n",
       "      <td>GLENRIDDING AREA</td>\n",
       "      <td>GLENRIDDING BOULEVARD SW</td>\n",
       "      <td>NaN</td>\n",
       "      <td>Other Residential</td>\n",
       "      <td>132000</td>\n",
       "    </tr>\n",
       "    <tr>\n",
       "      <th>1</th>\n",
       "      <td>10763784</td>\n",
       "      <td>N</td>\n",
       "      <td>6220.0</td>\n",
       "      <td>53.411479</td>\n",
       "      <td>-113.435444</td>\n",
       "      <td>WALKER</td>\n",
       "      <td>25 AVENUE SW</td>\n",
       "      <td>NaN</td>\n",
       "      <td>Non Residential</td>\n",
       "      <td>320500</td>\n",
       "    </tr>\n",
       "    <tr>\n",
       "      <th>2</th>\n",
       "      <td>10712788</td>\n",
       "      <td>N</td>\n",
       "      <td>1296.0</td>\n",
       "      <td>53.414730</td>\n",
       "      <td>-113.429455</td>\n",
       "      <td>WALKER</td>\n",
       "      <td>WATT DRIVE SW</td>\n",
       "      <td>NaN</td>\n",
       "      <td>Non Residential</td>\n",
       "      <td>227000</td>\n",
       "    </tr>\n",
       "    <tr>\n",
       "      <th>3</th>\n",
       "      <td>9063801</td>\n",
       "      <td>Y</td>\n",
       "      <td>10624.0</td>\n",
       "      <td>53.550893</td>\n",
       "      <td>-113.434757</td>\n",
       "      <td>CAPILANO</td>\n",
       "      <td>69 STREET NW</td>\n",
       "      <td>NaN</td>\n",
       "      <td>Residential</td>\n",
       "      <td>416000</td>\n",
       "    </tr>\n",
       "    <tr>\n",
       "      <th>4</th>\n",
       "      <td>3882925</td>\n",
       "      <td>N</td>\n",
       "      <td>934.0</td>\n",
       "      <td>53.442618</td>\n",
       "      <td>-113.544173</td>\n",
       "      <td>WHITEMUD CREEK RAVINE TWIN BROOKS</td>\n",
       "      <td>127 STREET NW</td>\n",
       "      <td>NaN</td>\n",
       "      <td>Residential</td>\n",
       "      <td>1184500</td>\n",
       "    </tr>\n",
       "  </tbody>\n",
       "</table>\n",
       "</div>"
      ],
      "text/plain": [
       "   account_number garage  house_number   latitude   longitude  \\\n",
       "0        10700507      N        2216.0  53.421015 -113.596138   \n",
       "1        10763784      N        6220.0  53.411479 -113.435444   \n",
       "2        10712788      N        1296.0  53.414730 -113.429455   \n",
       "3         9063801      Y       10624.0  53.550893 -113.434757   \n",
       "4         3882925      N         934.0  53.442618 -113.544173   \n",
       "\n",
       "                       neighbourhood               street_name  suite  \\\n",
       "0                   GLENRIDDING AREA  GLENRIDDING BOULEVARD SW    NaN   \n",
       "1                             WALKER              25 AVENUE SW    NaN   \n",
       "2                             WALKER             WATT DRIVE SW    NaN   \n",
       "3                           CAPILANO              69 STREET NW    NaN   \n",
       "4  WHITEMUD CREEK RAVINE TWIN BROOKS             127 STREET NW    NaN   \n",
       "\n",
       "           tax_class  total_asmt  \n",
       "0  Other Residential      132000  \n",
       "1    Non Residential      320500  \n",
       "2    Non Residential      227000  \n",
       "3        Residential      416000  \n",
       "4        Residential     1184500  "
      ]
     },
     "execution_count": 8,
     "metadata": {},
     "output_type": "execute_result"
    }
   ],
   "source": [
    "dframe.head()"
   ]
  },
  {
   "cell_type": "code",
   "execution_count": 9,
   "metadata": {
    "collapsed": true,
    "deletable": true,
    "editable": true
   },
   "outputs": [],
   "source": [
    "Nhoods = sorted(dframe.neighbourhood.unique())\n",
    "# Nhoods"
   ]
  },
  {
   "cell_type": "code",
   "execution_count": 10,
   "metadata": {
    "collapsed": false,
    "deletable": true,
    "editable": true
   },
   "outputs": [
    {
     "data": {
      "text/html": [
       "<div>\n",
       "<table border=\"1\" class=\"dataframe\">\n",
       "  <thead>\n",
       "    <tr style=\"text-align: right;\">\n",
       "      <th></th>\n",
       "      <th>account_number</th>\n",
       "      <th>house_number</th>\n",
       "      <th>latitude</th>\n",
       "      <th>longitude</th>\n",
       "      <th>suite</th>\n",
       "      <th>total_asmt</th>\n",
       "    </tr>\n",
       "  </thead>\n",
       "  <tbody>\n",
       "    <tr>\n",
       "      <th>count</th>\n",
       "      <td>1.000000e+03</td>\n",
       "      <td>955.000000</td>\n",
       "      <td>1000.000000</td>\n",
       "      <td>1000.000000</td>\n",
       "      <td>231.000000</td>\n",
       "      <td>1.000000e+03</td>\n",
       "    </tr>\n",
       "    <tr>\n",
       "      <th>mean</th>\n",
       "      <td>9.778789e+06</td>\n",
       "      <td>8750.086911</td>\n",
       "      <td>53.516646</td>\n",
       "      <td>-113.573526</td>\n",
       "      <td>280.398268</td>\n",
       "      <td>3.997245e+05</td>\n",
       "    </tr>\n",
       "    <tr>\n",
       "      <th>std</th>\n",
       "      <td>2.394291e+06</td>\n",
       "      <td>6582.845240</td>\n",
       "      <td>0.072014</td>\n",
       "      <td>0.097406</td>\n",
       "      <td>286.662241</td>\n",
       "      <td>1.386681e+06</td>\n",
       "    </tr>\n",
       "    <tr>\n",
       "      <th>min</th>\n",
       "      <td>1.067222e+06</td>\n",
       "      <td>51.000000</td>\n",
       "      <td>53.396146</td>\n",
       "      <td>-113.707381</td>\n",
       "      <td>1.000000</td>\n",
       "      <td>0.000000e+00</td>\n",
       "    </tr>\n",
       "    <tr>\n",
       "      <th>25%</th>\n",
       "      <td>1.015433e+07</td>\n",
       "      <td>2361.000000</td>\n",
       "      <td>53.483064</td>\n",
       "      <td>-113.679640</td>\n",
       "      <td>115.000000</td>\n",
       "      <td>1.100000e+05</td>\n",
       "    </tr>\n",
       "    <tr>\n",
       "      <th>50%</th>\n",
       "      <td>1.079741e+07</td>\n",
       "      <td>8019.000000</td>\n",
       "      <td>53.521396</td>\n",
       "      <td>-113.549191</td>\n",
       "      <td>222.000000</td>\n",
       "      <td>1.402500e+05</td>\n",
       "    </tr>\n",
       "    <tr>\n",
       "      <th>75%</th>\n",
       "      <td>1.083848e+07</td>\n",
       "      <td>12809.500000</td>\n",
       "      <td>53.585596</td>\n",
       "      <td>-113.496558</td>\n",
       "      <td>335.500000</td>\n",
       "      <td>2.706250e+05</td>\n",
       "    </tr>\n",
       "    <tr>\n",
       "      <th>max</th>\n",
       "      <td>1.084211e+07</td>\n",
       "      <td>22428.000000</td>\n",
       "      <td>53.662398</td>\n",
       "      <td>-113.345071</td>\n",
       "      <td>2634.000000</td>\n",
       "      <td>1.840350e+07</td>\n",
       "    </tr>\n",
       "  </tbody>\n",
       "</table>\n",
       "</div>"
      ],
      "text/plain": [
       "       account_number  house_number     latitude    longitude        suite  \\\n",
       "count    1.000000e+03    955.000000  1000.000000  1000.000000   231.000000   \n",
       "mean     9.778789e+06   8750.086911    53.516646  -113.573526   280.398268   \n",
       "std      2.394291e+06   6582.845240     0.072014     0.097406   286.662241   \n",
       "min      1.067222e+06     51.000000    53.396146  -113.707381     1.000000   \n",
       "25%      1.015433e+07   2361.000000    53.483064  -113.679640   115.000000   \n",
       "50%      1.079741e+07   8019.000000    53.521396  -113.549191   222.000000   \n",
       "75%      1.083848e+07  12809.500000    53.585596  -113.496558   335.500000   \n",
       "max      1.084211e+07  22428.000000    53.662398  -113.345071  2634.000000   \n",
       "\n",
       "         total_asmt  \n",
       "count  1.000000e+03  \n",
       "mean   3.997245e+05  \n",
       "std    1.386681e+06  \n",
       "min    0.000000e+00  \n",
       "25%    1.100000e+05  \n",
       "50%    1.402500e+05  \n",
       "75%    2.706250e+05  \n",
       "max    1.840350e+07  "
      ]
     },
     "execution_count": 10,
     "metadata": {},
     "output_type": "execute_result"
    }
   ],
   "source": [
    "dframe.describe()"
   ]
  },
  {
   "cell_type": "code",
   "execution_count": 11,
   "metadata": {
    "collapsed": false,
    "deletable": true,
    "editable": true
   },
   "outputs": [
    {
     "data": {
      "text/plain": [
       "(1000, 10)"
      ]
     },
     "execution_count": 11,
     "metadata": {},
     "output_type": "execute_result"
    }
   ],
   "source": [
    "dframe.shape"
   ]
  },
  {
   "cell_type": "code",
   "execution_count": 12,
   "metadata": {
    "collapsed": false,
    "deletable": true,
    "editable": true
   },
   "outputs": [
    {
     "data": {
      "text/plain": [
       "account_number      int64\n",
       "garage             object\n",
       "house_number      float64\n",
       "latitude          float64\n",
       "longitude         float64\n",
       "neighbourhood      object\n",
       "street_name        object\n",
       "suite             float64\n",
       "tax_class          object\n",
       "total_asmt          int64\n",
       "dtype: object"
      ]
     },
     "execution_count": 12,
     "metadata": {},
     "output_type": "execute_result"
    }
   ],
   "source": [
    "dframe.dtypes"
   ]
  },
  {
   "cell_type": "code",
   "execution_count": 13,
   "metadata": {
    "collapsed": false,
    "deletable": true,
    "editable": true
   },
   "outputs": [
    {
     "data": {
      "image/png": "[encoded data removed]",
      "text/plain": [
       "<matplotlib.figure.Figure at 0x10303e400>"
      ]
     },
     "metadata": {},
     "output_type": "display_data"
    }
   ],
   "source": [
    "sns.stripplot(x=\"total_asmt\", y=\"neighbourhood\", data=dframe);"
   ]
  },
  {
   "cell_type": "code",
   "execution_count": 28,
   "metadata": {
    "collapsed": false,
    "deletable": true,
    "editable": true
   },
   "outputs": [
    {
     "data": {
      "application/vnd.jupyter.widget-view+json": {
       "model_id": "f3a3aa1990e14b068ef09c9884489fd4"
      }
     },
     "metadata": {},
     "output_type": "display_data"
    }
   ],
   "source": [
    "#qgrid.show_grid(dframe[['neighbourhood', 'street_name', 'tax_class', 'garage', 'total_asmt']], remote_js=True)\n",
    "qgrid.show_grid(dframe)"
   ]
  },
  {
   "cell_type": "markdown",
   "metadata": {
    "deletable": true,
    "editable": true
   },
   "source": [
    "### Create table in sqlite database"
   ]
  },
  {
   "cell_type": "code",
   "execution_count": 11,
   "metadata": {
    "collapsed": true,
    "deletable": true,
    "editable": true
   },
   "outputs": [],
   "source": [
    "%load_ext sql"
   ]
  },
  {
   "cell_type": "code",
   "execution_count": 12,
   "metadata": {
    "collapsed": true,
    "deletable": true,
    "editable": true
   },
   "outputs": [],
   "source": [
    "%reload_ext sql"
   ]
  },
  {
   "cell_type": "code",
   "execution_count": 13,
   "metadata": {
    "collapsed": true,
    "deletable": true,
    "editable": true
   },
   "outputs": [],
   "source": [
    "%config SqlMagic.autopandas=True\n",
    "import sqlite3"
   ]
  },
  {
   "cell_type": "code",
   "execution_count": 14,
   "metadata": {
    "collapsed": true,
    "deletable": true,
    "editable": true
   },
   "outputs": [],
   "source": [
    "assessments = dframe.copy()"
   ]
  },
  {
   "cell_type": "code",
   "execution_count": 15,
   "metadata": {
    "collapsed": false,
    "deletable": true,
    "editable": true
   },
   "outputs": [
    {
     "data": {
      "text/plain": [
       "'Persisted assessments'"
      ]
     },
     "execution_count": 15,
     "metadata": {},
     "output_type": "execute_result"
    }
   ],
   "source": [
    "%%sql sqlite://\n",
    "PERSIST assessments"
   ]
  },
  {
   "cell_type": "code",
   "execution_count": 16,
   "metadata": {
    "collapsed": false,
    "deletable": true,
    "editable": true
   },
   "outputs": [
    {
     "name": "stdout",
     "output_type": "stream",
     "text": [
      "Done.\n"
     ]
    },
    {
     "data": {
      "text/html": [
       "<div>\n",
       "<table border=\"1\" class=\"dataframe\">\n",
       "  <thead>\n",
       "    <tr style=\"text-align: right;\">\n",
       "      <th></th>\n",
       "      <th>one</th>\n",
       "    </tr>\n",
       "  </thead>\n",
       "  <tbody>\n",
       "    <tr>\n",
       "      <th>0</th>\n",
       "      <td>1</td>\n",
       "    </tr>\n",
       "  </tbody>\n",
       "</table>\n",
       "</div>"
      ],
      "text/plain": [
       "   one\n",
       "0    1"
      ]
     },
     "execution_count": 16,
     "metadata": {},
     "output_type": "execute_result"
    }
   ],
   "source": [
    "%%sql\n",
    "SELECT 1 AS one"
   ]
  },
  {
   "cell_type": "code",
   "execution_count": 17,
   "metadata": {
    "collapsed": false,
    "deletable": true,
    "editable": true
   },
   "outputs": [
    {
     "name": "stdout",
     "output_type": "stream",
     "text": [
      "Done.\n"
     ]
    },
    {
     "data": {
      "text/html": [
       "<div>\n",
       "<table border=\"1\" class=\"dataframe\">\n",
       "  <thead>\n",
       "    <tr style=\"text-align: right;\">\n",
       "      <th></th>\n",
       "      <th>neighbourhood</th>\n",
       "      <th>COUNT(*)</th>\n",
       "    </tr>\n",
       "  </thead>\n",
       "  <tbody>\n",
       "    <tr>\n",
       "      <th>0</th>\n",
       "      <td>ALLARD</td>\n",
       "      <td>3</td>\n",
       "    </tr>\n",
       "    <tr>\n",
       "      <th>1</th>\n",
       "      <td>ALLENDALE</td>\n",
       "      <td>3</td>\n",
       "    </tr>\n",
       "    <tr>\n",
       "      <th>2</th>\n",
       "      <td>AMBLESIDE</td>\n",
       "      <td>1</td>\n",
       "    </tr>\n",
       "    <tr>\n",
       "      <th>3</th>\n",
       "      <td>ANTHONY HENDAY LAKE DISTRICT</td>\n",
       "      <td>1</td>\n",
       "    </tr>\n",
       "    <tr>\n",
       "      <th>4</th>\n",
       "      <td>ARGYLL</td>\n",
       "      <td>1</td>\n",
       "    </tr>\n",
       "    <tr>\n",
       "      <th>5</th>\n",
       "      <td>BELVEDERE</td>\n",
       "      <td>1</td>\n",
       "    </tr>\n",
       "    <tr>\n",
       "      <th>6</th>\n",
       "      <td>BONNIE DOON</td>\n",
       "      <td>4</td>\n",
       "    </tr>\n",
       "    <tr>\n",
       "      <th>7</th>\n",
       "      <td>BOYLE STREET</td>\n",
       "      <td>1</td>\n",
       "    </tr>\n",
       "    <tr>\n",
       "      <th>8</th>\n",
       "      <td>CAMERON HEIGHTS</td>\n",
       "      <td>1</td>\n",
       "    </tr>\n",
       "    <tr>\n",
       "      <th>9</th>\n",
       "      <td>CLOVER BAR AREA</td>\n",
       "      <td>5</td>\n",
       "    </tr>\n",
       "    <tr>\n",
       "      <th>10</th>\n",
       "      <td>CORONET INDUSTRIAL</td>\n",
       "      <td>1</td>\n",
       "    </tr>\n",
       "    <tr>\n",
       "      <th>11</th>\n",
       "      <td>CRYSTALLINA NERA WEST</td>\n",
       "      <td>3</td>\n",
       "    </tr>\n",
       "    <tr>\n",
       "      <th>12</th>\n",
       "      <td>CY BECKER</td>\n",
       "      <td>3</td>\n",
       "    </tr>\n",
       "    <tr>\n",
       "      <th>13</th>\n",
       "      <td>DESROCHERS AREA</td>\n",
       "      <td>1</td>\n",
       "    </tr>\n",
       "    <tr>\n",
       "      <th>14</th>\n",
       "      <td>DOWNTOWN</td>\n",
       "      <td>1</td>\n",
       "    </tr>\n",
       "    <tr>\n",
       "      <th>15</th>\n",
       "      <td>ELLERSLIE INDUSTRIAL</td>\n",
       "      <td>1</td>\n",
       "    </tr>\n",
       "    <tr>\n",
       "      <th>16</th>\n",
       "      <td>ELSINORE</td>\n",
       "      <td>1</td>\n",
       "    </tr>\n",
       "    <tr>\n",
       "      <th>17</th>\n",
       "      <td>GLENORA</td>\n",
       "      <td>1</td>\n",
       "    </tr>\n",
       "    <tr>\n",
       "      <th>18</th>\n",
       "      <td>HAGMANN ESTATE INDUSTRIAL</td>\n",
       "      <td>1</td>\n",
       "    </tr>\n",
       "    <tr>\n",
       "      <th>19</th>\n",
       "      <td>HIGHLANDS</td>\n",
       "      <td>1</td>\n",
       "    </tr>\n",
       "    <tr>\n",
       "      <th>20</th>\n",
       "      <td>HOLLICK-KENYON</td>\n",
       "      <td>1</td>\n",
       "    </tr>\n",
       "    <tr>\n",
       "      <th>21</th>\n",
       "      <td>HUFF BREMNER ESTATE INDUSTRIAL</td>\n",
       "      <td>1</td>\n",
       "    </tr>\n",
       "    <tr>\n",
       "      <th>22</th>\n",
       "      <td>INGLEWOOD</td>\n",
       "      <td>1</td>\n",
       "    </tr>\n",
       "    <tr>\n",
       "      <th>23</th>\n",
       "      <td>KENILWORTH</td>\n",
       "      <td>1</td>\n",
       "    </tr>\n",
       "    <tr>\n",
       "      <th>24</th>\n",
       "      <td>KESWICK AREA</td>\n",
       "      <td>2</td>\n",
       "    </tr>\n",
       "    <tr>\n",
       "      <th>25</th>\n",
       "      <td>KILLARNEY</td>\n",
       "      <td>1</td>\n",
       "    </tr>\n",
       "    <tr>\n",
       "      <th>26</th>\n",
       "      <td>LAUREL</td>\n",
       "      <td>1</td>\n",
       "    </tr>\n",
       "    <tr>\n",
       "      <th>27</th>\n",
       "      <td>MAPLE</td>\n",
       "      <td>1</td>\n",
       "    </tr>\n",
       "    <tr>\n",
       "      <th>28</th>\n",
       "      <td>MAPLE RIDGE INDUSTRIAL</td>\n",
       "      <td>1</td>\n",
       "    </tr>\n",
       "    <tr>\n",
       "      <th>29</th>\n",
       "      <td>MCCAULEY</td>\n",
       "      <td>1</td>\n",
       "    </tr>\n",
       "    <tr>\n",
       "      <th>30</th>\n",
       "      <td>MCCONACHIE AREA</td>\n",
       "      <td>5</td>\n",
       "    </tr>\n",
       "    <tr>\n",
       "      <th>31</th>\n",
       "      <td>MCKERNAN</td>\n",
       "      <td>1</td>\n",
       "    </tr>\n",
       "    <tr>\n",
       "      <th>32</th>\n",
       "      <td>OLIVER</td>\n",
       "      <td>1</td>\n",
       "    </tr>\n",
       "    <tr>\n",
       "      <th>33</th>\n",
       "      <td>PAISLEY</td>\n",
       "      <td>1</td>\n",
       "    </tr>\n",
       "    <tr>\n",
       "      <th>34</th>\n",
       "      <td>PATRICIA HEIGHTS</td>\n",
       "      <td>1</td>\n",
       "    </tr>\n",
       "    <tr>\n",
       "      <th>35</th>\n",
       "      <td>PEMBINA</td>\n",
       "      <td>1</td>\n",
       "    </tr>\n",
       "    <tr>\n",
       "      <th>36</th>\n",
       "      <td>PYLYPOW INDUSTRIAL</td>\n",
       "      <td>1</td>\n",
       "    </tr>\n",
       "    <tr>\n",
       "      <th>37</th>\n",
       "      <td>QUEEN ALEXANDRA</td>\n",
       "      <td>2</td>\n",
       "    </tr>\n",
       "    <tr>\n",
       "      <th>38</th>\n",
       "      <td>RIVER VALLEY WINDEMERE</td>\n",
       "      <td>1</td>\n",
       "    </tr>\n",
       "    <tr>\n",
       "      <th>39</th>\n",
       "      <td>ROSENTHAL</td>\n",
       "      <td>2</td>\n",
       "    </tr>\n",
       "    <tr>\n",
       "      <th>40</th>\n",
       "      <td>SOUTHEAST (ANNEXED) INDUSTRIAL</td>\n",
       "      <td>1</td>\n",
       "    </tr>\n",
       "    <tr>\n",
       "      <th>41</th>\n",
       "      <td>SPUR LINES</td>\n",
       "      <td>1</td>\n",
       "    </tr>\n",
       "    <tr>\n",
       "      <th>42</th>\n",
       "      <td>STRATHCONA</td>\n",
       "      <td>2</td>\n",
       "    </tr>\n",
       "    <tr>\n",
       "      <th>43</th>\n",
       "      <td>STRATHCONA JUNCTION</td>\n",
       "      <td>1</td>\n",
       "    </tr>\n",
       "    <tr>\n",
       "      <th>44</th>\n",
       "      <td>SUMMERSIDE</td>\n",
       "      <td>1</td>\n",
       "    </tr>\n",
       "    <tr>\n",
       "      <th>45</th>\n",
       "      <td>THE ORCHARDS AT ELLERSLIE</td>\n",
       "      <td>2</td>\n",
       "    </tr>\n",
       "    <tr>\n",
       "      <th>46</th>\n",
       "      <td>TRUMPETER AREA</td>\n",
       "      <td>1</td>\n",
       "    </tr>\n",
       "    <tr>\n",
       "      <th>47</th>\n",
       "      <td>WALKER</td>\n",
       "      <td>2</td>\n",
       "    </tr>\n",
       "    <tr>\n",
       "      <th>48</th>\n",
       "      <td>WHITEMUD CREEK RAVINE TWIN BROOKS</td>\n",
       "      <td>3</td>\n",
       "    </tr>\n",
       "    <tr>\n",
       "      <th>49</th>\n",
       "      <td>WINTERBURN INDUSTRIAL AREA EAST</td>\n",
       "      <td>1</td>\n",
       "    </tr>\n",
       "    <tr>\n",
       "      <th>50</th>\n",
       "      <td>WINTERBURN INDUSTRIAL AREA WEST</td>\n",
       "      <td>4</td>\n",
       "    </tr>\n",
       "    <tr>\n",
       "      <th>51</th>\n",
       "      <td>YELLOWHEAD CORRIDOR EAST</td>\n",
       "      <td>1</td>\n",
       "    </tr>\n",
       "  </tbody>\n",
       "</table>\n",
       "</div>"
      ],
      "text/plain": [
       "                        neighbourhood  COUNT(*)\n",
       "0                              ALLARD         3\n",
       "1                           ALLENDALE         3\n",
       "2                           AMBLESIDE         1\n",
       "3        ANTHONY HENDAY LAKE DISTRICT         1\n",
       "4                              ARGYLL         1\n",
       "5                           BELVEDERE         1\n",
       "6                         BONNIE DOON         4\n",
       "7                        BOYLE STREET         1\n",
       "8                     CAMERON HEIGHTS         1\n",
       "9                     CLOVER BAR AREA         5\n",
       "10                 CORONET INDUSTRIAL         1\n",
       "11              CRYSTALLINA NERA WEST         3\n",
       "12                          CY BECKER         3\n",
       "13                    DESROCHERS AREA         1\n",
       "14                           DOWNTOWN         1\n",
       "15               ELLERSLIE INDUSTRIAL         1\n",
       "16                           ELSINORE         1\n",
       "17                            GLENORA         1\n",
       "18          HAGMANN ESTATE INDUSTRIAL         1\n",
       "19                          HIGHLANDS         1\n",
       "20                     HOLLICK-KENYON         1\n",
       "21     HUFF BREMNER ESTATE INDUSTRIAL         1\n",
       "22                          INGLEWOOD         1\n",
       "23                         KENILWORTH         1\n",
       "24                       KESWICK AREA         2\n",
       "25                          KILLARNEY         1\n",
       "26                             LAUREL         1\n",
       "27                              MAPLE         1\n",
       "28             MAPLE RIDGE INDUSTRIAL         1\n",
       "29                           MCCAULEY         1\n",
       "30                    MCCONACHIE AREA         5\n",
       "31                           MCKERNAN         1\n",
       "32                             OLIVER         1\n",
       "33                            PAISLEY         1\n",
       "34                   PATRICIA HEIGHTS         1\n",
       "35                            PEMBINA         1\n",
       "36                 PYLYPOW INDUSTRIAL         1\n",
       "37                    QUEEN ALEXANDRA         2\n",
       "38             RIVER VALLEY WINDEMERE         1\n",
       "39                          ROSENTHAL         2\n",
       "40     SOUTHEAST (ANNEXED) INDUSTRIAL         1\n",
       "41                         SPUR LINES         1\n",
       "42                         STRATHCONA         2\n",
       "43                STRATHCONA JUNCTION         1\n",
       "44                         SUMMERSIDE         1\n",
       "45          THE ORCHARDS AT ELLERSLIE         2\n",
       "46                     TRUMPETER AREA         1\n",
       "47                             WALKER         2\n",
       "48  WHITEMUD CREEK RAVINE TWIN BROOKS         3\n",
       "49    WINTERBURN INDUSTRIAL AREA EAST         1\n",
       "50    WINTERBURN INDUSTRIAL AREA WEST         4\n",
       "51           YELLOWHEAD CORRIDOR EAST         1"
      ]
     },
     "execution_count": 17,
     "metadata": {},
     "output_type": "execute_result"
    }
   ],
   "source": [
    "%%sql sqlite://\n",
    "SELECT neighbourhood, COUNT(*)\n",
    "FROM assessments \n",
    "WHERE 1=1 AND total_asmt > 500000\n",
    "GROUP BY neighbourhood"
   ]
  },
  {
   "cell_type": "code",
   "execution_count": 18,
   "metadata": {
    "collapsed": false,
    "deletable": true,
    "editable": true
   },
   "outputs": [
    {
     "name": "stdout",
     "output_type": "stream",
     "text": [
      "Done.\n"
     ]
    }
   ],
   "source": [
    "dbtest = %sql SELECT * FROM assessments WHERE 1=1 AND total_asmt > 500000"
   ]
  },
  {
   "cell_type": "code",
   "execution_count": 19,
   "metadata": {
    "collapsed": false,
    "deletable": true,
    "editable": true
   },
   "outputs": [
    {
     "data": {
      "text/html": [
       "<div>\n",
       "<table border=\"1\" class=\"dataframe\">\n",
       "  <thead>\n",
       "    <tr style=\"text-align: right;\">\n",
       "      <th></th>\n",
       "      <th>neighbourhood</th>\n",
       "      <th>street_name</th>\n",
       "      <th>total_asmt</th>\n",
       "    </tr>\n",
       "  </thead>\n",
       "  <tbody>\n",
       "    <tr>\n",
       "      <th>0</th>\n",
       "      <td>WHITEMUD CREEK RAVINE TWIN BROOKS</td>\n",
       "      <td>127 STREET NW</td>\n",
       "      <td>1184500</td>\n",
       "    </tr>\n",
       "    <tr>\n",
       "      <th>1</th>\n",
       "      <td>WHITEMUD CREEK RAVINE TWIN BROOKS</td>\n",
       "      <td>23 AVENUE NW</td>\n",
       "      <td>1172500</td>\n",
       "    </tr>\n",
       "    <tr>\n",
       "      <th>2</th>\n",
       "      <td>WHITEMUD CREEK RAVINE TWIN BROOKS</td>\n",
       "      <td>MACTAGGART DRIVE NW</td>\n",
       "      <td>3440000</td>\n",
       "    </tr>\n",
       "    <tr>\n",
       "      <th>3</th>\n",
       "      <td>DESROCHERS AREA</td>\n",
       "      <td>127 STREET SW</td>\n",
       "      <td>22136500</td>\n",
       "    </tr>\n",
       "    <tr>\n",
       "      <th>4</th>\n",
       "      <td>WINTERBURN INDUSTRIAL AREA WEST</td>\n",
       "      <td>WINTERBURN ROAD NW</td>\n",
       "      <td>14092500</td>\n",
       "    </tr>\n",
       "  </tbody>\n",
       "</table>\n",
       "</div>"
      ],
      "text/plain": [
       "                       neighbourhood          street_name  total_asmt\n",
       "0  WHITEMUD CREEK RAVINE TWIN BROOKS        127 STREET NW     1184500\n",
       "1  WHITEMUD CREEK RAVINE TWIN BROOKS         23 AVENUE NW     1172500\n",
       "2  WHITEMUD CREEK RAVINE TWIN BROOKS  MACTAGGART DRIVE NW     3440000\n",
       "3                    DESROCHERS AREA        127 STREET SW    22136500\n",
       "4    WINTERBURN INDUSTRIAL AREA WEST   WINTERBURN ROAD NW    14092500"
      ]
     },
     "execution_count": 19,
     "metadata": {},
     "output_type": "execute_result"
    }
   ],
   "source": [
    "dbtest[['neighbourhood', 'street_name', 'total_asmt']].head()"
   ]
  },
  {
   "cell_type": "code",
   "execution_count": null,
   "metadata": {
    "collapsed": true,
    "deletable": true,
    "editable": true
   },
   "outputs": [],
   "source": []
  }
 ],
 "metadata": {
  "celltoolbar": "Slideshow",
  "kernelspec": {
   "display_name": "Python 3",
   "language": "python",
   "name": "python3"
  },
  "language_info": {
   "codemirror_mode": {
    "name": "ipython",
    "version": 3
   },
   "file_extension": ".py",
   "mimetype": "text/x-python",
   "name": "python",
   "nbconvert_exporter": "python",
   "pygments_lexer": "ipython3",
   "version": "3.6.1"
  },
  "widgets": {
   "state": {
    "d41945b9ae2546a9a53674ea61fe98c0": {
     "views": [
      {
       "cell_index": 14
      }
     ]
    }
   },
   "version": "1.2.0"
  }
 },
 "nbformat": 4,
 "nbformat_minor": 2
}
