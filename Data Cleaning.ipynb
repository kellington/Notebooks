{
 "cells": [
  {
   "cell_type": "markdown",
   "metadata": {},
   "source": [
    "# Data Cleaning   \n",
    "\n",
    "- Ideas to implement in standard notebooks  \n",
    "- As part of or after [Initial Data Analysis](./Initial%20Data%20Analysis.ipynb)  \n",
    "\n",
    "\n",
    "Data Cleaning With Python and pandas  \n",
    "https://medium.com/better-programming/data-cleaning-with-python-pandas-an-introduction-1cfd5cde6884  \n",
    "- data:  \n",
    "    - https://data.cityofnewyork.us/Housing-Development/DOB-Violations/3h2n-5cm9  \n",
    "- not a great tutorial - because mentioned a lot of checks that are not actually covered"
   ]
  },
  {
   "cell_type": "code",
   "execution_count": 39,
   "metadata": {},
   "outputs": [],
   "source": [
    "import pandas as pd \n",
    "import numpy as np \n",
    "import sys"
   ]
  },
  {
   "cell_type": "code",
   "execution_count": 40,
   "metadata": {},
   "outputs": [],
   "source": [
    "#Standard pandas settings  \n",
    "pd.options.display.max_columns = None\n",
    "pd.options.display.max_rows = None\n",
    "pd.options.display.max_colwidth = None\n",
    "pd.options.display.max_seq_items = None # lists\n",
    "pd.set_option('mode.chained_assignment', None) # disable the SettingwithCopyWarning\n",
    "\n",
    "np.set_printoptions(threshold=sys.maxsize)  # if values like unique are in numpy.ndarray"
   ]
  },
  {
   "cell_type": "code",
   "execution_count": 7,
   "metadata": {},
   "outputs": [],
   "source": [
    "# Data - downloaded manually \n",
    "csv_file = './data/DOB_Violations.csv'"
   ]
  },
  {
   "cell_type": "code",
   "execution_count": 14,
   "metadata": {},
   "outputs": [
    {
     "data": {
      "text/plain": [
       "(2141980, 18)"
      ]
     },
     "execution_count": 14,
     "metadata": {},
     "output_type": "execute_result"
    }
   ],
   "source": [
    "df = pd.read_csv(csv_file)\n",
    "df.shape"
   ]
  },
  {
   "cell_type": "code",
   "execution_count": 11,
   "metadata": {},
   "outputs": [
    {
     "data": {
      "text/plain": [
       "ISN_DOB_BIS_VIOL          int64\n",
       "BORO                     object\n",
       "BIN                     float64\n",
       "BLOCK                    object\n",
       "LOT                      object\n",
       "ISSUE_DATE               object\n",
       "VIOLATION_TYPE_CODE      object\n",
       "VIOLATION_NUMBER         object\n",
       "HOUSE_NUMBER             object\n",
       "STREET                   object\n",
       "DISPOSITION_DATE        float64\n",
       "DISPOSITION_COMMENTS     object\n",
       "DEVICE_NUMBER            object\n",
       "DESCRIPTION              object\n",
       "ECB_NUMBER               object\n",
       "NUMBER                   object\n",
       "VIOLATION_CATEGORY       object\n",
       "VIOLATION_TYPE           object\n",
       "dtype: object"
      ]
     },
     "execution_count": 11,
     "metadata": {},
     "output_type": "execute_result"
    }
   ],
   "source": [
    "df.dtypes"
   ]
  },
  {
   "cell_type": "markdown",
   "metadata": {},
   "source": [
    "## Make dataset similar to the blog"
   ]
  },
  {
   "cell_type": "code",
   "execution_count": 46,
   "metadata": {},
   "outputs": [
    {
     "data": {
      "text/plain": [
       "(10000, 18)"
      ]
     },
     "execution_count": 46,
     "metadata": {},
     "output_type": "execute_result"
    }
   ],
   "source": [
    "# filter to just 2019 \n",
    "df = df[df['ISSUE_DATE'].str.startswith(\"2019\", na=False)]\n",
    "df.shape"
   ]
  },
  {
   "cell_type": "code",
   "execution_count": 47,
   "metadata": {},
   "outputs": [
    {
     "data": {
      "text/plain": [
       "(10000, 18)"
      ]
     },
     "execution_count": 47,
     "metadata": {},
     "output_type": "execute_result"
    }
   ],
   "source": [
    "# just take the first 10k\n",
    "df = df.iloc[0:10000,:]\n",
    "df.shape"
   ]
  },
  {
   "cell_type": "markdown",
   "metadata": {},
   "source": [
    "### Ready to for next step "
   ]
  },
  {
   "cell_type": "code",
   "execution_count": 48,
   "metadata": {},
   "outputs": [
    {
     "data": {
      "text/html": [
       "<div>\n",
       "<style scoped>\n",
       "    .dataframe tbody tr th:only-of-type {\n",
       "        vertical-align: middle;\n",
       "    }\n",
       "\n",
       "    .dataframe tbody tr th {\n",
       "        vertical-align: top;\n",
       "    }\n",
       "\n",
       "    .dataframe thead th {\n",
       "        text-align: right;\n",
       "    }\n",
       "</style>\n",
       "<table border=\"1\" class=\"dataframe\">\n",
       "  <thead>\n",
       "    <tr style=\"text-align: right;\">\n",
       "      <th></th>\n",
       "      <th>ISN_DOB_BIS_VIOL</th>\n",
       "      <th>BORO</th>\n",
       "      <th>BIN</th>\n",
       "      <th>BLOCK</th>\n",
       "      <th>LOT</th>\n",
       "      <th>ISSUE_DATE</th>\n",
       "      <th>VIOLATION_TYPE_CODE</th>\n",
       "      <th>VIOLATION_NUMBER</th>\n",
       "      <th>HOUSE_NUMBER</th>\n",
       "      <th>STREET</th>\n",
       "      <th>DISPOSITION_DATE</th>\n",
       "      <th>DISPOSITION_COMMENTS</th>\n",
       "      <th>DEVICE_NUMBER</th>\n",
       "      <th>DESCRIPTION</th>\n",
       "      <th>ECB_NUMBER</th>\n",
       "      <th>NUMBER</th>\n",
       "      <th>VIOLATION_CATEGORY</th>\n",
       "      <th>VIOLATION_TYPE</th>\n",
       "    </tr>\n",
       "  </thead>\n",
       "  <tbody>\n",
       "    <tr>\n",
       "      <th>43</th>\n",
       "      <td>2351406</td>\n",
       "      <td>3</td>\n",
       "      <td>3059563.0</td>\n",
       "      <td>02136</td>\n",
       "      <td>02136</td>\n",
       "      <td>20190520</td>\n",
       "      <td>JVCAT5</td>\n",
       "      <td>00339</td>\n",
       "      <td>441</td>\n",
       "      <td>WYTHE AVENUE</td>\n",
       "      <td>NaN</td>\n",
       "      <td>NaN</td>\n",
       "      <td>3P10799</td>\n",
       "      <td>FAILURE TO PERFORM CATEGORY 5 INSPECTION</td>\n",
       "      <td>NaN</td>\n",
       "      <td>V052019JVCAT500339</td>\n",
       "      <td>V-DOB VIOLATION - ACTIVE</td>\n",
       "      <td>JVCAT5-RESIDENTIAL ELEVATOR PERIODIC INSPECTION/TEST</td>\n",
       "    </tr>\n",
       "    <tr>\n",
       "      <th>82</th>\n",
       "      <td>2350064</td>\n",
       "      <td>3</td>\n",
       "      <td>3215627.0</td>\n",
       "      <td>07777</td>\n",
       "      <td>00026</td>\n",
       "      <td>20190516</td>\n",
       "      <td>AEUHAZ1</td>\n",
       "      <td>00951</td>\n",
       "      <td>1275</td>\n",
       "      <td>EAST 51 STREET</td>\n",
       "      <td>NaN</td>\n",
       "      <td>NaN</td>\n",
       "      <td>NaN</td>\n",
       "      <td>FAILURE TO CERTIFY CORRECTION ON IMMEDIATELY HAZARDOUS (CLASS 1) ECB VIOLATION</td>\n",
       "      <td>35363019K</td>\n",
       "      <td>V051619AEUHAZ100951</td>\n",
       "      <td>V-DOB VIOLATION - ACTIVE</td>\n",
       "      <td>AEUHAZ1-FAIL TO CERTIFY CLASS 1</td>\n",
       "    </tr>\n",
       "    <tr>\n",
       "      <th>89</th>\n",
       "      <td>2383173</td>\n",
       "      <td>3</td>\n",
       "      <td>3137310.0</td>\n",
       "      <td>05631</td>\n",
       "      <td>00014</td>\n",
       "      <td>20190903</td>\n",
       "      <td>LL2604S</td>\n",
       "      <td>NRF01042</td>\n",
       "      <td>920</td>\n",
       "      <td>48 STREET</td>\n",
       "      <td>NaN</td>\n",
       "      <td>NaN</td>\n",
       "      <td>NaN</td>\n",
       "      <td>FAILED TO FILE FINAL SPRINKLER REPORT BY JULY 1, 2019</td>\n",
       "      <td>NaN</td>\n",
       "      <td>V090319LL2604SNRF01042</td>\n",
       "      <td>V-DOB VIOLATION - ACTIVE</td>\n",
       "      <td>LL2604S-SPRINKLER</td>\n",
       "    </tr>\n",
       "    <tr>\n",
       "      <th>102</th>\n",
       "      <td>2427322</td>\n",
       "      <td>2</td>\n",
       "      <td>2003035.0</td>\n",
       "      <td>02504</td>\n",
       "      <td>00036</td>\n",
       "      <td>20190904</td>\n",
       "      <td>AEUHAZ1</td>\n",
       "      <td>00162</td>\n",
       "      <td>941</td>\n",
       "      <td>JEROME AVENUE</td>\n",
       "      <td>20191202.0</td>\n",
       "      <td>GNC    PAID INVOICE 62132098</td>\n",
       "      <td>NaN</td>\n",
       "      <td>FAILURE TO CERTIFY CORRECTION ON IMMEDIATELY HAZARDOUS (CLASS 1) ECB VIOLATION</td>\n",
       "      <td>35409075X</td>\n",
       "      <td>V*090419AEUHAZ100162</td>\n",
       "      <td>V*-DOB VIOLATION - DISMISSED</td>\n",
       "      <td>AEUHAZ1-FAIL TO CERTIFY CLASS 1</td>\n",
       "    </tr>\n",
       "    <tr>\n",
       "      <th>128</th>\n",
       "      <td>2384655</td>\n",
       "      <td>1</td>\n",
       "      <td>1001389.0</td>\n",
       "      <td>00113</td>\n",
       "      <td>07501</td>\n",
       "      <td>20190906</td>\n",
       "      <td>ACC1</td>\n",
       "      <td>00284</td>\n",
       "      <td>375</td>\n",
       "      <td>PEARL ST</td>\n",
       "      <td>NaN</td>\n",
       "      <td>NaN</td>\n",
       "      <td>1F5381</td>\n",
       "      <td>VIO ISSUED TO ELEVATOR - FAIL TO CORRECT DEFECTS ON 2017 CAT 1 INSP/TST TST</td>\n",
       "      <td>NaN</td>\n",
       "      <td>V090619ACC100284</td>\n",
       "      <td>V-DOB VIOLATION - ACTIVE</td>\n",
       "      <td>ACC1-(OTHER BLDGS TYPES) - ELEVATOR AFFIRMATION OF CORRECTION</td>\n",
       "    </tr>\n",
       "  </tbody>\n",
       "</table>\n",
       "</div>"
      ],
      "text/plain": [
       "     ISN_DOB_BIS_VIOL BORO        BIN  BLOCK    LOT ISSUE_DATE  \\\n",
       "43            2351406    3  3059563.0  02136  02136   20190520   \n",
       "82            2350064    3  3215627.0  07777  00026   20190516   \n",
       "89            2383173    3  3137310.0  05631  00014   20190903   \n",
       "102           2427322    2  2003035.0  02504  00036   20190904   \n",
       "128           2384655    1  1001389.0  00113  07501   20190906   \n",
       "\n",
       "    VIOLATION_TYPE_CODE VIOLATION_NUMBER HOUSE_NUMBER          STREET  \\\n",
       "43               JVCAT5            00339          441    WYTHE AVENUE   \n",
       "82              AEUHAZ1            00951         1275  EAST 51 STREET   \n",
       "89              LL2604S         NRF01042          920       48 STREET   \n",
       "102             AEUHAZ1            00162          941   JEROME AVENUE   \n",
       "128                ACC1            00284          375        PEARL ST   \n",
       "\n",
       "     DISPOSITION_DATE          DISPOSITION_COMMENTS DEVICE_NUMBER  \\\n",
       "43                NaN                           NaN       3P10799   \n",
       "82                NaN                           NaN           NaN   \n",
       "89                NaN                           NaN           NaN   \n",
       "102        20191202.0  GNC    PAID INVOICE 62132098           NaN   \n",
       "128               NaN                           NaN        1F5381   \n",
       "\n",
       "                                                                        DESCRIPTION  \\\n",
       "43                                         FAILURE TO PERFORM CATEGORY 5 INSPECTION   \n",
       "82   FAILURE TO CERTIFY CORRECTION ON IMMEDIATELY HAZARDOUS (CLASS 1) ECB VIOLATION   \n",
       "89                            FAILED TO FILE FINAL SPRINKLER REPORT BY JULY 1, 2019   \n",
       "102  FAILURE TO CERTIFY CORRECTION ON IMMEDIATELY HAZARDOUS (CLASS 1) ECB VIOLATION   \n",
       "128     VIO ISSUED TO ELEVATOR - FAIL TO CORRECT DEFECTS ON 2017 CAT 1 INSP/TST TST   \n",
       "\n",
       "    ECB_NUMBER                  NUMBER            VIOLATION_CATEGORY  \\\n",
       "43         NaN      V052019JVCAT500339      V-DOB VIOLATION - ACTIVE   \n",
       "82   35363019K     V051619AEUHAZ100951      V-DOB VIOLATION - ACTIVE   \n",
       "89         NaN  V090319LL2604SNRF01042      V-DOB VIOLATION - ACTIVE   \n",
       "102  35409075X    V*090419AEUHAZ100162  V*-DOB VIOLATION - DISMISSED   \n",
       "128        NaN        V090619ACC100284      V-DOB VIOLATION - ACTIVE   \n",
       "\n",
       "                                                    VIOLATION_TYPE  \n",
       "43            JVCAT5-RESIDENTIAL ELEVATOR PERIODIC INSPECTION/TEST  \n",
       "82                                 AEUHAZ1-FAIL TO CERTIFY CLASS 1  \n",
       "89                                               LL2604S-SPRINKLER  \n",
       "102                                AEUHAZ1-FAIL TO CERTIFY CLASS 1  \n",
       "128  ACC1-(OTHER BLDGS TYPES) - ELEVATOR AFFIRMATION OF CORRECTION  "
      ]
     },
     "execution_count": 48,
     "metadata": {},
     "output_type": "execute_result"
    }
   ],
   "source": [
    "df.head(5)"
   ]
  },
  {
   "cell_type": "code",
   "execution_count": 49,
   "metadata": {},
   "outputs": [
    {
     "data": {
      "text/plain": [
       "ISN_DOB_BIS_VIOL           0\n",
       "BORO                       0\n",
       "BIN                        0\n",
       "BLOCK                      0\n",
       "LOT                        0\n",
       "ISSUE_DATE                 0\n",
       "VIOLATION_TYPE_CODE        0\n",
       "VIOLATION_NUMBER           0\n",
       "HOUSE_NUMBER               0\n",
       "STREET                     0\n",
       "DISPOSITION_DATE        7134\n",
       "DISPOSITION_COMMENTS    7121\n",
       "DEVICE_NUMBER           3742\n",
       "DESCRIPTION             2358\n",
       "ECB_NUMBER              8062\n",
       "NUMBER                     0\n",
       "VIOLATION_CATEGORY         0\n",
       "VIOLATION_TYPE             0\n",
       "dtype: int64"
      ]
     },
     "execution_count": 49,
     "metadata": {},
     "output_type": "execute_result"
    }
   ],
   "source": [
    "# Nulls ? Counts all null values in all columns\n",
    "df.isnull().sum()"
   ]
  },
  {
   "cell_type": "code",
   "execution_count": 51,
   "metadata": {},
   "outputs": [
    {
     "data": {
      "text/plain": [
       "(10000, 6)"
      ]
     },
     "execution_count": 51,
     "metadata": {},
     "output_type": "execute_result"
    }
   ],
   "source": [
    "# Simplify - focus on columns of interest  \n",
    "columns_to_delete = [\n",
    "    'BLOCK', 'BORO','HOUSE_NUMBER','LOT','STREET','VIOLATION_NUMBER', \n",
    "    'DEVICE_NUMBER', 'DISPOSITION_COMMENTS', 'ISN_DOB_BIS_VIOL', \n",
    "    'DISPOSITION_DATE','ECB_NUMBER','DESCRIPTION'\n",
    "    ] \n",
    "df.drop(columns_to_delete, inplace=True, axis=1)\n",
    "df.shape"
   ]
  },
  {
   "cell_type": "code",
   "execution_count": 56,
   "metadata": {},
   "outputs": [
    {
     "data": {
      "text/plain": [
       "BIN                    float64\n",
       "ISSUE_DATE              object\n",
       "VIOLATION_TYPE_CODE     object\n",
       "NUMBER                  object\n",
       "VIOLATION_CATEGORY      object\n",
       "VIOLATION_TYPE          object\n",
       "dtype: object"
      ]
     },
     "execution_count": 56,
     "metadata": {},
     "output_type": "execute_result"
    }
   ],
   "source": [
    "df.dtypes"
   ]
  },
  {
   "cell_type": "code",
   "execution_count": 57,
   "metadata": {},
   "outputs": [
    {
     "data": {
      "text/plain": [
       "43    2019-05-20\n",
       "82    2019-05-16\n",
       "89    2019-09-03\n",
       "102   2019-09-04\n",
       "128   2019-09-06\n",
       "Name: ISSUE_DATE, dtype: datetime64[ns]"
      ]
     },
     "execution_count": 57,
     "metadata": {},
     "output_type": "execute_result"
    }
   ],
   "source": [
    "# start conversion\n",
    "df['ISSUE_DATE'] = pd.to_datetime(df['ISSUE_DATE'])  \n",
    "df['ISSUE_DATE'].head() "
   ]
  },
  {
   "cell_type": "code",
   "execution_count": 58,
   "metadata": {},
   "outputs": [
    {
     "data": {
      "text/html": [
       "<div>\n",
       "<style scoped>\n",
       "    .dataframe tbody tr th:only-of-type {\n",
       "        vertical-align: middle;\n",
       "    }\n",
       "\n",
       "    .dataframe tbody tr th {\n",
       "        vertical-align: top;\n",
       "    }\n",
       "\n",
       "    .dataframe thead th {\n",
       "        text-align: right;\n",
       "    }\n",
       "</style>\n",
       "<table border=\"1\" class=\"dataframe\">\n",
       "  <thead>\n",
       "    <tr style=\"text-align: right;\">\n",
       "      <th></th>\n",
       "      <th>BIN</th>\n",
       "      <th>ISSUE_DATE</th>\n",
       "      <th>VIOLATION_TYPE_CODE</th>\n",
       "      <th>NUMBER</th>\n",
       "      <th>VIOLATION_CATEGORY</th>\n",
       "      <th>VIOLATION_TYPE</th>\n",
       "    </tr>\n",
       "  </thead>\n",
       "  <tbody>\n",
       "    <tr>\n",
       "      <th>43</th>\n",
       "      <td>3059563.0</td>\n",
       "      <td>2019-05-20</td>\n",
       "      <td>JVCAT5</td>\n",
       "      <td>V052019JVCAT500339</td>\n",
       "      <td>V-DOB VIOLATION - ACTIVE</td>\n",
       "      <td>JVCAT5-RESIDENTIAL ELEVATOR PERIODIC INSPECTION/TEST</td>\n",
       "    </tr>\n",
       "    <tr>\n",
       "      <th>82</th>\n",
       "      <td>3215627.0</td>\n",
       "      <td>2019-05-16</td>\n",
       "      <td>AEUHAZ1</td>\n",
       "      <td>V051619AEUHAZ100951</td>\n",
       "      <td>V-DOB VIOLATION - ACTIVE</td>\n",
       "      <td>AEUHAZ1-FAIL TO CERTIFY CLASS 1</td>\n",
       "    </tr>\n",
       "    <tr>\n",
       "      <th>89</th>\n",
       "      <td>3137310.0</td>\n",
       "      <td>2019-09-03</td>\n",
       "      <td>LL2604S</td>\n",
       "      <td>V090319LL2604SNRF01042</td>\n",
       "      <td>V-DOB VIOLATION - ACTIVE</td>\n",
       "      <td>LL2604S-SPRINKLER</td>\n",
       "    </tr>\n",
       "    <tr>\n",
       "      <th>102</th>\n",
       "      <td>2003035.0</td>\n",
       "      <td>2019-09-04</td>\n",
       "      <td>AEUHAZ1</td>\n",
       "      <td>V*090419AEUHAZ100162</td>\n",
       "      <td>V*-DOB VIOLATION - DISMISSED</td>\n",
       "      <td>AEUHAZ1-FAIL TO CERTIFY CLASS 1</td>\n",
       "    </tr>\n",
       "    <tr>\n",
       "      <th>128</th>\n",
       "      <td>1001389.0</td>\n",
       "      <td>2019-09-06</td>\n",
       "      <td>ACC1</td>\n",
       "      <td>V090619ACC100284</td>\n",
       "      <td>V-DOB VIOLATION - ACTIVE</td>\n",
       "      <td>ACC1-(OTHER BLDGS TYPES) - ELEVATOR AFFIRMATION OF CORRECTION</td>\n",
       "    </tr>\n",
       "  </tbody>\n",
       "</table>\n",
       "</div>"
      ],
      "text/plain": [
       "           BIN ISSUE_DATE VIOLATION_TYPE_CODE                  NUMBER  \\\n",
       "43   3059563.0 2019-05-20              JVCAT5      V052019JVCAT500339   \n",
       "82   3215627.0 2019-05-16             AEUHAZ1     V051619AEUHAZ100951   \n",
       "89   3137310.0 2019-09-03             LL2604S  V090319LL2604SNRF01042   \n",
       "102  2003035.0 2019-09-04             AEUHAZ1    V*090419AEUHAZ100162   \n",
       "128  1001389.0 2019-09-06                ACC1        V090619ACC100284   \n",
       "\n",
       "               VIOLATION_CATEGORY  \\\n",
       "43       V-DOB VIOLATION - ACTIVE   \n",
       "82       V-DOB VIOLATION - ACTIVE   \n",
       "89       V-DOB VIOLATION - ACTIVE   \n",
       "102  V*-DOB VIOLATION - DISMISSED   \n",
       "128      V-DOB VIOLATION - ACTIVE   \n",
       "\n",
       "                                                    VIOLATION_TYPE  \n",
       "43            JVCAT5-RESIDENTIAL ELEVATOR PERIODIC INSPECTION/TEST  \n",
       "82                                 AEUHAZ1-FAIL TO CERTIFY CLASS 1  \n",
       "89                                               LL2604S-SPRINKLER  \n",
       "102                                AEUHAZ1-FAIL TO CERTIFY CLASS 1  \n",
       "128  ACC1-(OTHER BLDGS TYPES) - ELEVATOR AFFIRMATION OF CORRECTION  "
      ]
     },
     "execution_count": 58,
     "metadata": {},
     "output_type": "execute_result"
    }
   ],
   "source": [
    "df.head(5)"
   ]
  },
  {
   "cell_type": "markdown",
   "metadata": {},
   "source": [
    "### Data Constraints"
   ]
  },
  {
   "cell_type": "code",
   "execution_count": 62,
   "metadata": {},
   "outputs": [
    {
     "name": "stdout",
     "output_type": "stream",
     "text": [
      "10000\n"
     ]
    }
   ],
   "source": [
    "df_count = df.shape[0]\n",
    "print(df_count)"
   ]
  },
  {
   "cell_type": "code",
   "execution_count": 71,
   "metadata": {},
   "outputs": [
    {
     "name": "stdout",
     "output_type": "stream",
     "text": [
      "ISSUE_DATE in 2019 OK\n"
     ]
    }
   ],
   "source": [
    "# Check all dates in year\n",
    "test = \"ISSUE_DATE in 2019\"\n",
    "mask = (df['ISSUE_DATE'] > '2018-12-31') & (df['ISSUE_DATE'] <= '2019-12-31')\n",
    "test_count = df.loc[mask].shape[0]\n",
    "assert test_count == df_count, \"Not all dates in 2019\"\n",
    "print(test, \"OK\")"
   ]
  },
  {
   "cell_type": "code",
   "execution_count": null,
   "metadata": {},
   "outputs": [],
   "source": []
  }
 ],
 "metadata": {
  "kernelspec": {
   "display_name": "Python 3",
   "language": "python",
   "name": "python3"
  },
  "language_info": {
   "codemirror_mode": {
    "name": "ipython",
    "version": 3
   },
   "file_extension": ".py",
   "mimetype": "text/x-python",
   "name": "python",
   "nbconvert_exporter": "python",
   "pygments_lexer": "ipython3",
   "version": "3.7.7"
  }
 },
 "nbformat": 4,
 "nbformat_minor": 4
}
