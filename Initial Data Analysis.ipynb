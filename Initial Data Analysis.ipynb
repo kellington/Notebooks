{
 "cells": [
  {
   "cell_type": "markdown",
   "metadata": {},
   "source": [
    "# Initial Data Analysis ....  \n",
    "### Using Pandas  "
   ]
  },
  {
   "cell_type": "code",
   "execution_count": 1,
   "metadata": {
    "collapsed": false,
    "inputHidden": false,
    "jupyter": {
     "outputs_hidden": false
    },
    "outputHidden": false
   },
   "outputs": [],
   "source": [
    "# Demo 1 - the basics\n",
    "import pandas as pd\n",
    "\n",
    "# Demo 2\n",
    "from pivottablejs import pivot_ui\n",
    "\n",
    "# Demo 3\n",
    "import pandas_profiling\n",
    "\n",
    "# future ...\n",
    "# from pydqc.data_summary import distribution_summary_pretty\n",
    "# https://towardsdatascience.com/introducing-pydqc-7f23d04076b3"
   ]
  },
  {
   "cell_type": "code",
   "execution_count": 2,
   "metadata": {},
   "outputs": [],
   "source": [
    "# STANDARD IMPORTS  \n",
    "from datetime import datetime\n",
    "import glob\n",
    "import json\n",
    "import math\n",
    "import io\n",
    "import os\n",
    "import csv\n",
    "from flatten_json import flatten\n",
    "import operator\n",
    "from collections import Counter\n",
    "\n",
    "# Upgraded Pandas\n",
    "import numpy as np\n",
    "from numpy import nan\n",
    "import matplotlib.pyplot as plt\n",
    "\n",
    "# AWS\n",
    "import boto3\n"
   ]
  },
  {
   "cell_type": "markdown",
   "metadata": {},
   "source": [
    "#### Get Some Data"
   ]
  },
  {
   "cell_type": "code",
   "execution_count": null,
   "metadata": {
    "collapsed": false,
    "inputHidden": false,
    "jupyter": {
     "outputs_hidden": false
    },
    "outputHidden": false
   },
   "outputs": [],
   "source": [
    "# AWS S3 ....\n",
    "\n",
    "s3 = boto3.resource('s3')\n",
    "\n",
    "# Assume files are in S3 bucket - source!\n",
    "SourceBucket = \"BucketName\"\n",
    "# Download to with 'rawData' folder. \n",
    "downloadFolder = './rawData'\n",
    "if not os.path.exists(downloadFolder):\n",
    "    os.makedirs(downloadFolder)\n",
    "downloadFolder = downloadFolder + '/'\n",
    "\n",
    "# The Data\n",
    "s3file1 = \"folder/folder/file1.csv\"\n",
    "local1 = \"file1.csv\"\n",
    "\n",
    "# Downloading files if not already.\n",
    "if not os.path.isfile(local1):\n",
    "    s3.Bucket(SourceBucket).download_file(s3file1, downloadFolder + local1) \n",
    "    \n",
    "#create dataframes\n",
    "df = pd.read_csv(downloadFolder + local1, header=0, sep=',', quotechar='\"', encoding = \"utf-8\")\n"
   ]
  },
  {
   "cell_type": "code",
   "execution_count": 3,
   "metadata": {
    "collapsed": false,
    "inputHidden": false,
    "jupyter": {
     "outputs_hidden": false
    },
    "outputHidden": false
   },
   "outputs": [],
   "source": [
    "# Or just direct from HTTPS source ...\n",
    "#url=\"https://raw.githubusercontent.com/cs109/2014_data/master/countries.csv\"\n",
    "url='https://storage.googleapis.com/kaggle-competitions-data/kaggle/3136/train.csv?GoogleAccessId=web-data@kaggle-161607.iam.gserviceaccount.com&Expires=1569957816&Signature=TlH3b%2Bxvu7gzUkSkmVjUda0fAOzzap52wsv5GbK5gOrOwnF%2FAnYF3zp16Jp0EECfBgAGC3aMaxmR1R8hF8XPCOOsq3hep2aMbWIyjJU1QN0qlcPLQQhNWlJwCPFneQ%2BrgjdvKtgHoVEIwobK2tSFSM7ndL1bVqe3awhPp2f0SSfo40uRf9eIjl4x9fB%2BXK2Agvp9wTOR1DrJYiCV3kIakzs5N8bQMi%2BU0de7cM0HzaYXehned1i42tgGDeTyRQTgYdQWT8jCdW6jfhChQamVw2x10jFRqsJ2AuW471TXYkLfvcWEmPhqwnAcKiTwfkZBzgvt66lqacxzKE0VQPobFw%3D%3D'\n",
    "local1 = \"file1.csv\"\n",
    "\n",
    "df=pd.read_csv(url)"
   ]
  },
  {
   "cell_type": "markdown",
   "metadata": {},
   "source": [
    "## 0 - Basics"
   ]
  },
  {
   "cell_type": "code",
   "execution_count": 4,
   "metadata": {},
   "outputs": [],
   "source": [
    "#Standard pandas settings  \n",
    "pd.options.display.max_columns = None\n",
    "pd.options.display.max_rows = None\n",
    "pd.options.display.max_colwidth = -1\n",
    "pd.set_option('mode.chained_assignment', None) # disable the SettingwithCopyWarning"
   ]
  },
  {
   "cell_type": "code",
   "execution_count": 5,
   "metadata": {},
   "outputs": [],
   "source": [
    "# good step - include some meta data in the dataframe\n",
    "df.name = local1\n",
    "df['fileName'] = local1"
   ]
  },
  {
   "cell_type": "code",
   "execution_count": 6,
   "metadata": {},
   "outputs": [
    {
     "data": {
      "text/html": [
       "<div>\n",
       "<style scoped>\n",
       "    .dataframe tbody tr th:only-of-type {\n",
       "        vertical-align: middle;\n",
       "    }\n",
       "\n",
       "    .dataframe tbody tr th {\n",
       "        vertical-align: top;\n",
       "    }\n",
       "\n",
       "    .dataframe thead th {\n",
       "        text-align: right;\n",
       "    }\n",
       "</style>\n",
       "<table border=\"1\" class=\"dataframe\">\n",
       "  <thead>\n",
       "    <tr style=\"text-align: right;\">\n",
       "      <th></th>\n",
       "      <th>PassengerId</th>\n",
       "      <th>Survived</th>\n",
       "      <th>Pclass</th>\n",
       "      <th>Name</th>\n",
       "      <th>Sex</th>\n",
       "      <th>Age</th>\n",
       "      <th>SibSp</th>\n",
       "      <th>Parch</th>\n",
       "      <th>Ticket</th>\n",
       "      <th>Fare</th>\n",
       "      <th>Cabin</th>\n",
       "      <th>Embarked</th>\n",
       "      <th>fileName</th>\n",
       "    </tr>\n",
       "  </thead>\n",
       "  <tbody>\n",
       "    <tr>\n",
       "      <td>761</td>\n",
       "      <td>762</td>\n",
       "      <td>0</td>\n",
       "      <td>3</td>\n",
       "      <td>Nirva, Mr. Iisakki Antino Aijo</td>\n",
       "      <td>male</td>\n",
       "      <td>41.0</td>\n",
       "      <td>0</td>\n",
       "      <td>0</td>\n",
       "      <td>SOTON/O2 3101272</td>\n",
       "      <td>7.125</td>\n",
       "      <td>NaN</td>\n",
       "      <td>S</td>\n",
       "      <td>file1.csv</td>\n",
       "    </tr>\n",
       "    <tr>\n",
       "      <td>655</td>\n",
       "      <td>656</td>\n",
       "      <td>0</td>\n",
       "      <td>2</td>\n",
       "      <td>Hickman, Mr. Leonard Mark</td>\n",
       "      <td>male</td>\n",
       "      <td>24.0</td>\n",
       "      <td>2</td>\n",
       "      <td>0</td>\n",
       "      <td>S.O.C. 14879</td>\n",
       "      <td>73.500</td>\n",
       "      <td>NaN</td>\n",
       "      <td>S</td>\n",
       "      <td>file1.csv</td>\n",
       "    </tr>\n",
       "    <tr>\n",
       "      <td>360</td>\n",
       "      <td>361</td>\n",
       "      <td>0</td>\n",
       "      <td>3</td>\n",
       "      <td>Skoog, Mr. Wilhelm</td>\n",
       "      <td>male</td>\n",
       "      <td>40.0</td>\n",
       "      <td>1</td>\n",
       "      <td>4</td>\n",
       "      <td>347088</td>\n",
       "      <td>27.900</td>\n",
       "      <td>NaN</td>\n",
       "      <td>S</td>\n",
       "      <td>file1.csv</td>\n",
       "    </tr>\n",
       "    <tr>\n",
       "      <td>588</td>\n",
       "      <td>589</td>\n",
       "      <td>0</td>\n",
       "      <td>3</td>\n",
       "      <td>Gilinski, Mr. Eliezer</td>\n",
       "      <td>male</td>\n",
       "      <td>22.0</td>\n",
       "      <td>0</td>\n",
       "      <td>0</td>\n",
       "      <td>14973</td>\n",
       "      <td>8.050</td>\n",
       "      <td>NaN</td>\n",
       "      <td>S</td>\n",
       "      <td>file1.csv</td>\n",
       "    </tr>\n",
       "    <tr>\n",
       "      <td>567</td>\n",
       "      <td>568</td>\n",
       "      <td>0</td>\n",
       "      <td>3</td>\n",
       "      <td>Palsson, Mrs. Nils (Alma Cornelia Berglund)</td>\n",
       "      <td>female</td>\n",
       "      <td>29.0</td>\n",
       "      <td>0</td>\n",
       "      <td>4</td>\n",
       "      <td>349909</td>\n",
       "      <td>21.075</td>\n",
       "      <td>NaN</td>\n",
       "      <td>S</td>\n",
       "      <td>file1.csv</td>\n",
       "    </tr>\n",
       "  </tbody>\n",
       "</table>\n",
       "</div>"
      ],
      "text/plain": [
       "     PassengerId  Survived  Pclass  \\\n",
       "761  762          0         3        \n",
       "655  656          0         2        \n",
       "360  361          0         3        \n",
       "588  589          0         3        \n",
       "567  568          0         3        \n",
       "\n",
       "                                            Name     Sex   Age  SibSp  Parch  \\\n",
       "761  Nirva, Mr. Iisakki Antino Aijo               male    41.0  0      0       \n",
       "655  Hickman, Mr. Leonard Mark                    male    24.0  2      0       \n",
       "360  Skoog, Mr. Wilhelm                           male    40.0  1      4       \n",
       "588  Gilinski, Mr. Eliezer                        male    22.0  0      0       \n",
       "567  Palsson, Mrs. Nils (Alma Cornelia Berglund)  female  29.0  0      4       \n",
       "\n",
       "               Ticket    Fare Cabin Embarked   fileName  \n",
       "761  SOTON/O2 3101272  7.125   NaN   S        file1.csv  \n",
       "655  S.O.C. 14879      73.500  NaN   S        file1.csv  \n",
       "360  347088            27.900  NaN   S        file1.csv  \n",
       "588  14973             8.050   NaN   S        file1.csv  \n",
       "567  349909            21.075  NaN   S        file1.csv  "
      ]
     },
     "execution_count": 6,
     "metadata": {},
     "output_type": "execute_result"
    }
   ],
   "source": [
    "df.sample(5)"
   ]
  },
  {
   "cell_type": "code",
   "execution_count": 8,
   "metadata": {},
   "outputs": [
    {
     "name": "stdout",
     "output_type": "stream",
     "text": [
      "<class 'pandas.core.frame.DataFrame'>\n",
      "RangeIndex: 891 entries, 0 to 890\n",
      "Data columns (total 13 columns):\n",
      "PassengerId    891 non-null int64\n",
      "Survived       891 non-null int64\n",
      "Pclass         891 non-null int64\n",
      "Name           891 non-null object\n",
      "Sex            891 non-null object\n",
      "Age            714 non-null float64\n",
      "SibSp          891 non-null int64\n",
      "Parch          891 non-null int64\n",
      "Ticket         891 non-null object\n",
      "Fare           891 non-null float64\n",
      "Cabin          204 non-null object\n",
      "Embarked       889 non-null object\n",
      "fileName       891 non-null object\n",
      "dtypes: float64(2), int64(5), object(6)\n",
      "memory usage: 90.6+ KB\n"
     ]
    }
   ],
   "source": [
    "df.info()"
   ]
  },
  {
   "cell_type": "code",
   "execution_count": 10,
   "metadata": {},
   "outputs": [
    {
     "data": {
      "text/plain": [
       "Index(['PassengerId', 'Survived', 'Pclass', 'Name', 'Sex', 'Age', 'SibSp',\n",
       "       'Parch', 'Ticket', 'Fare', 'Cabin', 'Embarked', 'fileName'],\n",
       "      dtype='object')"
      ]
     },
     "execution_count": 10,
     "metadata": {},
     "output_type": "execute_result"
    }
   ],
   "source": [
    "df.columns"
   ]
  },
  {
   "cell_type": "code",
   "execution_count": 13,
   "metadata": {},
   "outputs": [
    {
     "data": {
      "text/plain": [
       "PassengerId    int64  \n",
       "Survived       int64  \n",
       "Pclass         int64  \n",
       "Name           object \n",
       "Sex            object \n",
       "Age            float64\n",
       "SibSp          int64  \n",
       "Parch          int64  \n",
       "Ticket         object \n",
       "Fare           float64\n",
       "Cabin          object \n",
       "Embarked       object \n",
       "fileName       object \n",
       "dtype: object"
      ]
     },
     "execution_count": 13,
     "metadata": {},
     "output_type": "execute_result"
    }
   ],
   "source": [
    "df.dtypes"
   ]
  },
  {
   "cell_type": "markdown",
   "metadata": {},
   "source": [
    "## 1 - Agregations"
   ]
  },
  {
   "cell_type": "code",
   "execution_count": null,
   "metadata": {},
   "outputs": [],
   "source": [
    "# Define summary aggregations as a template\n",
    "aggregations = {'PassengerId':['count','nunique'],'Sex':['count','nunique'], 'Fare' : ['min', 'mean', 'max'], 'Age' : ['min', 'mean', 'max']}\n"
   ]
  },
  {
   "cell_type": "code",
   "execution_count": null,
   "metadata": {},
   "outputs": [],
   "source": [
    "# this does initial, and then creates \"total\" using the fileName column\n",
    "df_summary = df.groupby(['Pclass']).agg(aggregations)\n",
    "df_summary = df_summary.append(df.groupby(['fileName']).agg(aggregations))\n",
    "df_summary"
   ]
  },
  {
   "cell_type": "markdown",
   "metadata": {},
   "source": [
    "## 2 - Pivot Table"
   ]
  },
  {
   "cell_type": "code",
   "execution_count": null,
   "metadata": {},
   "outputs": [],
   "source": [
    "pivot_ui(df)"
   ]
  },
  {
   "cell_type": "markdown",
   "metadata": {},
   "source": [
    "## 3 - Profiling"
   ]
  },
  {
   "cell_type": "code",
   "execution_count": null,
   "metadata": {},
   "outputs": [],
   "source": [
    "pandas_profiling.ProfileReport(df)\n",
    "# can also send to file as html\n",
    "# .to_file(local1 + \"_profile.html\")"
   ]
  },
  {
   "cell_type": "markdown",
   "metadata": {},
   "source": [
    "# Done"
   ]
  },
  {
   "cell_type": "code",
   "execution_count": null,
   "metadata": {},
   "outputs": [],
   "source": []
  }
 ],
 "metadata": {
  "kernel_info": {
   "name": "node_nteract"
  },
  "kernelspec": {
   "display_name": "Python 3",
   "language": "python",
   "name": "python3"
  },
  "language_info": {
   "codemirror_mode": {
    "name": "ipython",
    "version": 3
   },
   "file_extension": ".py",
   "mimetype": "text/x-python",
   "name": "python",
   "nbconvert_exporter": "python",
   "pygments_lexer": "ipython3",
   "version": "3.7.4"
  },
  "nteract": {
   "version": "0.15.0"
  }
 },
 "nbformat": 4,
 "nbformat_minor": 4
}
