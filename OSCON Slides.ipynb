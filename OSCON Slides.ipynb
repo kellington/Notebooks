{
 "cells": [
  {
   "cell_type": "code",
   "execution_count": 1,
   "metadata": {
    "collapsed": true,
    "slideshow": {
     "slide_type": "skip"
    }
   },
   "outputs": [],
   "source": [
    "from IPython.display import Image"
   ]
  },
  {
   "cell_type": "code",
   "execution_count": 9,
   "metadata": {
    "collapsed": false,
    "slideshow": {
     "slide_type": "skip"
    }
   },
   "outputs": [
    {
     "name": "stderr",
     "output_type": "stream",
     "text": [
      "/Users/Rob/anaconda/lib/python3.5/site-packages/IPython/utils/path.py:283: UserWarning: locate_profile has moved to the IPython.paths module\n",
      "  warn(\"locate_profile has moved to the IPython.paths module\")\n"
     ]
    },
    {
     "data": {
      "text/plain": [
       "{'start_slideshow_at': 'selected', 'theme': 'serif', 'transition': 'zoom'}"
      ]
     },
     "execution_count": 9,
     "metadata": {},
     "output_type": "execute_result"
    }
   ],
   "source": [
    "from IPython.html.services.config import ConfigManager\n",
    "from IPython.utils.path import locate_profile\n",
    "cm = ConfigManager(profile_dir=locate_profile(get_ipython().profile))\n",
    "cm.update('livereveal', {\n",
    "              'theme': 'serif',\n",
    "              'transition': 'zoom',\n",
    "              'start_slideshow_at': 'selected',\n",
    "})"
   ]
  },
  {
   "cell_type": "code",
   "execution_count": null,
   "metadata": {
    "collapsed": false,
    "slideshow": {
     "slide_type": "skip"
    }
   },
   "outputs": [],
   "source": [
    "%matplotlib inline\n",
    "import matplotlib.pyplot as plt\n",
    "import seaborn as sns\n",
    "sns.set()\n",
    "import numpy as np\n",
    "import pandas as pd"
   ]
  },
  {
   "cell_type": "markdown",
   "metadata": {
    "slideshow": {
     "slide_type": "slide"
    }
   },
   "source": [
    "# IPython Notebook best practices for data science\n",
    "\n",
    "## Jonathan B Whitmore [@JBWhitmore](https://twitter.com/jbwhitmore)\n",
    "\n",
    "### SVDS (Silicon Valley Data Science) [@SVDataScience](https://twitter.com/svdatascience)\n"
   ]
  },
  {
   "cell_type": "markdown",
   "metadata": {
    "slideshow": {
     "slide_type": "slide"
    }
   },
   "source": [
    "# <s>IPython</s> Jupyter Notebook best practices for data science\n",
    "\n",
    "\n",
    "## Jonathan B Whitmore [@JBWhitmore](https://twitter.com/jbwhitmore)\n",
    "\n",
    "### SVDS (Silicon Valley Data Science) [@SVDataScience](https://twitter.com/svdatascience)\n"
   ]
  },
  {
   "cell_type": "markdown",
   "metadata": {
    "slideshow": {
     "slide_type": "slide"
    }
   },
   "source": [
    "## Jupyter Notebook == IPython Notebook 3.x"
   ]
  },
  {
   "cell_type": "markdown",
   "metadata": {
    "slideshow": {
     "slide_type": "fragment"
    }
   },
   "source": [
    "## Ju -- Julia"
   ]
  },
  {
   "cell_type": "markdown",
   "metadata": {
    "slideshow": {
     "slide_type": "fragment"
    }
   },
   "source": [
    "## py -- Python"
   ]
  },
  {
   "cell_type": "markdown",
   "metadata": {
    "slideshow": {
     "slide_type": "fragment"
    }
   },
   "source": [
    "## teR -- R"
   ]
  },
  {
   "cell_type": "markdown",
   "metadata": {
    "slideshow": {
     "slide_type": "fragment"
    }
   },
   "source": [
    "# Ju--py--ter!"
   ]
  },
  {
   "cell_type": "markdown",
   "metadata": {
    "slideshow": {
     "slide_type": "slide"
    }
   },
   "source": [
    "# Background\n",
    "\n",
    "Former astrophysicist\n",
    "\n",
    " - PhD from UC San Diego 2011\n",
    " - 3 year astrophysics postdoc in Melbourne, Australia\n",
    " - User of IPython/Python since 2007\n",
    " - User of the IPython Notebook since late 2011/early 2012ish"
   ]
  },
  {
   "cell_type": "markdown",
   "metadata": {
    "slideshow": {
     "slide_type": "slide"
    }
   },
   "source": [
    "# Background\n",
    "\n",
    "Now a Data Scientist at Silicon Valley Data Science (SVDS): \n",
    "\n",
    " - Working on small teams (~4-6 people)\n",
    "  - 2-3 Data Scientists and 2-3 Data Engineers\n",
    "\n",
    " - Different technical environments\n",
    "  - sometimes we can use GitHub, sometimes not\n",
    "  - sometime Python, sometimes not\n",
    "  - Jupyter Notebook has been very popular with fellow Data Scientists"
   ]
  },
  {
   "cell_type": "markdown",
   "metadata": {
    "slideshow": {
     "slide_type": "slide"
    }
   },
   "source": [
    "# Outline\n",
    "\n",
    "1. Tips and tricks throughout\n",
    "1. Quick demo of the Jupyter Notebook\n",
    "1. Notebook organization and layout\n",
    "1. Jupyter Notebook for Data Science teamwork workflow \n",
    "1. Github repo of all the Notebooks used in this talk available"
   ]
  },
  {
   "cell_type": "markdown",
   "metadata": {
    "slideshow": {
     "slide_type": "slide"
    }
   },
   "source": [
    "# Demo: Introduce the Jupyter Notebook \n",
    "\n",
    "### and hopefully show why people love using it for Data Science\n",
    "\n",
    "I can **edit**  \n",
    "1. asdf  \n",
    "1. asdf  \n",
    "1. asdf  \n"
   ]
  },
  {
   "cell_type": "markdown",
   "metadata": {
    "slideshow": {
     "slide_type": "slide"
    }
   },
   "source": [
    "## How does a team of Data Scientists use the Jupyter Notebooks effectively?\n",
    "\n",
    " - Do we all use one Notebook?\n",
    " - Do we all use different Notebooks?\n",
    " - Do we share all Notebooks?\n",
    " - Should there be a directory on each person's laptop with every Notebook ever?"
   ]
  },
  {
   "cell_type": "markdown",
   "metadata": {
    "slideshow": {
     "slide_type": "slide"
    }
   },
   "source": [
    "# Problem\n",
    "\n",
    "## How do we organize our Jupyter notebooks so that our work is:"
   ]
  },
  {
   "cell_type": "markdown",
   "metadata": {
    "slideshow": {
     "slide_type": "fragment"
    }
   },
   "source": [
    " - collaborative (we work on teams)"
   ]
  },
  {
   "cell_type": "markdown",
   "metadata": {
    "slideshow": {
     "slide_type": "fragment"
    }
   },
   "source": [
    " - reliably captured and transparently shared"
   ]
  },
  {
   "cell_type": "markdown",
   "metadata": {
    "slideshow": {
     "slide_type": "fragment"
    }
   },
   "source": [
    " - clearly deliver insights to our clients"
   ]
  },
  {
   "cell_type": "markdown",
   "metadata": {
    "slideshow": {
     "slide_type": "slide"
    }
   },
   "source": [
    "# Tip: Differentiate the kinds of notebooks into two main categories"
   ]
  },
  {
   "cell_type": "markdown",
   "metadata": {
    "slideshow": {
     "slide_type": "fragment"
    }
   },
   "source": [
    "## 1. Lab notebooks"
   ]
  },
  {
   "cell_type": "markdown",
   "metadata": {
    "slideshow": {
     "slide_type": "fragment"
    }
   },
   "source": [
    "## 2. Deliverable notebooks"
   ]
  },
  {
   "cell_type": "markdown",
   "metadata": {
    "slideshow": {
     "slide_type": "slide"
    }
   },
   "source": [
    "# Lab notebook -- Exploratory Data Analysis\n",
    "\n",
    "<img src=\"../figures/2097753744_184f05d463_z.jpg\">\n",
    "\n",
    "Source: https://flic.kr/p/4cnx71"
   ]
  },
  {
   "cell_type": "markdown",
   "metadata": {
    "slideshow": {
     "slide_type": "slide"
    }
   },
   "source": [
    "# 1 The Lab notebook\n",
    "\n",
    "Let a traditional-paper Lab Notebook be your guide here:\n",
    "\n",
    " - Keeps a historical record of the analysis explored"
   ]
  },
  {
   "cell_type": "markdown",
   "metadata": {
    "slideshow": {
     "slide_type": "fragment"
    }
   },
   "source": [
    " - Meant to be a development or scratch place"
   ]
  },
  {
   "cell_type": "markdown",
   "metadata": {
    "slideshow": {
     "slide_type": "fragment"
    }
   },
   "source": [
    "   - Each notebook is controlled by a single Data Scientist"
   ]
  },
  {
   "cell_type": "markdown",
   "metadata": {
    "slideshow": {
     "slide_type": "fragment"
    }
   },
   "source": [
    "   - Split the notebooks when they get too long (turn the page)"
   ]
  },
  {
   "cell_type": "markdown",
   "metadata": {
    "slideshow": {
     "slide_type": "fragment"
    }
   },
   "source": [
    "   - Split the notebooks by topic if it makes sense."
   ]
  },
  {
   "cell_type": "markdown",
   "metadata": {
    "slideshow": {
     "slide_type": "slide"
    }
   },
   "source": [
    "# 2 The Deliverable notebook\n",
    "\n",
    "Any Notebook that will be referenced in the future. For example: \n",
    "\n",
    " - How raw data was transformed into cleaned data."
   ]
  },
  {
   "cell_type": "markdown",
   "metadata": {
    "slideshow": {
     "slide_type": "fragment"
    }
   },
   "source": [
    " - The fully polished and final outputs of the analysis."
   ]
  },
  {
   "cell_type": "markdown",
   "metadata": {
    "slideshow": {
     "slide_type": "fragment"
    }
   },
   "source": [
    " - Peer reviewed via pull requests (other members will review before accepted)."
   ]
  },
  {
   "cell_type": "markdown",
   "metadata": {
    "slideshow": {
     "slide_type": "fragment"
    }
   },
   "source": [
    " - These notebooks are controlled by the whole Data Science team."
   ]
  },
  {
   "cell_type": "markdown",
   "metadata": {
    "slideshow": {
     "slide_type": "slide"
    }
   },
   "source": [
    "# Demo: Example Lab Notebook "
   ]
  },
  {
   "cell_type": "markdown",
   "metadata": {
    "slideshow": {
     "slide_type": "slide"
    }
   },
   "source": [
    "# Naming things is hard... \n",
    "\n",
    "<img src=\"../figures/bird-leaf.jpg\">\n",
    "\n",
    "Source: http://www.huffingtonpost.com/2014/07/25/other-names-for-things_n_5621554.html via https://www.reddit.com/r/AdviceAnimals/comments/1ie4ra/my_friend_couldnt_think_of_the_word_feather/"
   ]
  },
  {
   "cell_type": "markdown",
   "metadata": {
    "slideshow": {
     "slide_type": "slide"
    }
   },
   "source": [
    "# Naming things is hard... \n",
    "\n",
    "\n",
    "## Tip:  Name the develop/lab-notebooks with the following convention:\n",
    "\n",
    " - **[ISO 8601 date]**-[DS-initials]-[2-4 word description].ipynb\n",
    " - **2015-07-13**-jw-coal-yearly-productivity.ipynb"
   ]
  },
  {
   "cell_type": "markdown",
   "metadata": {
    "slideshow": {
     "slide_type": "slide"
    }
   },
   "source": [
    "# Naming things is hard... \n",
    "\n",
    "\n",
    "## Tip:  Name the develop/lab-notebooks with the following convention:\n",
    "\n",
    " - [ISO 8601 date]-**[DS-initials]**-[2-4 word description].ipynb\n",
    " - 2015-07-13-**jw**-coal-yearly-productivity.ipynb"
   ]
  },
  {
   "cell_type": "markdown",
   "metadata": {
    "slideshow": {
     "slide_type": "slide"
    }
   },
   "source": [
    "# Naming things is hard... \n",
    "\n",
    "\n",
    "## Tip:  Name the develop/lab-notebooks with the following convention:\n",
    "\n",
    " - [ISO 8601 date]-[DS-initials]-**[2-4 word description]**.ipynb\n",
    " - 2015-07-13-jw-**coal-yearly-productivity**.ipynb"
   ]
  },
  {
   "cell_type": "markdown",
   "metadata": {
    "slideshow": {
     "slide_type": "slide"
    }
   },
   "source": [
    "# Tip: Get organized -- High level directories\n",
    "\n",
    " - data # Backed up outside of version control"
   ]
  },
  {
   "cell_type": "markdown",
   "metadata": {
    "slideshow": {
     "slide_type": "fragment"
    }
   },
   "source": [
    " - deliver # Final polished Notebooks for consumption"
   ]
  },
  {
   "cell_type": "markdown",
   "metadata": {
    "slideshow": {
     "slide_type": "fragment"
    }
   },
   "source": [
    " - develop # Lab Notebooks stored here"
   ]
  },
  {
   "cell_type": "markdown",
   "metadata": {
    "slideshow": {
     "slide_type": "fragment"
    }
   },
   "source": [
    " - figures # Figures stored here"
   ]
  },
  {
   "cell_type": "markdown",
   "metadata": {
    "slideshow": {
     "slide_type": "fragment"
    }
   },
   "source": [
    " - src # Scripts/modules stored here"
   ]
  },
  {
   "cell_type": "markdown",
   "metadata": {
    "slideshow": {
     "slide_type": "slide"
    }
   },
   "source": [
    "# Problems\n",
    "\n",
    "1. How do you peer review code and store analysis in version control?\n",
    "\n",
    "## Further constraints\n",
    "\n",
    "1. Project manager who wants to see work in progress or final notebooks but doesn't want to install IPython\n",
    "1. Not using Github which renders figure diffs nicely\n",
    "1. Want to review the Python code itself"
   ]
  },
  {
   "cell_type": "markdown",
   "metadata": {
    "slideshow": {
     "slide_type": "slide"
    }
   },
   "source": [
    "# Beware, semi-controversial recommendations coming..."
   ]
  },
  {
   "cell_type": "markdown",
   "metadata": {
    "slideshow": {
     "slide_type": "slide"
    }
   },
   "source": [
    "# Short Answer\n",
    "\n",
    "1. Each Data Scientist has their own dev branch\n",
    "1. Work is saved and pushed on dev branch daily\n",
    "1. When ready to merge to master, pull request"
   ]
  },
  {
   "cell_type": "markdown",
   "metadata": {
    "slideshow": {
     "slide_type": "fragment"
    }
   },
   "source": [
    "And, finally... commit:\n",
    "\n",
    " - `.ipynb`\n",
    " - `.py`\n",
    " - `.html` \n",
    " - and figures\n",
    "\n",
    "of all Notebooks (develop and deliver)."
   ]
  },
  {
   "cell_type": "markdown",
   "metadata": {
    "slideshow": {
     "slide_type": "slide"
    }
   },
   "source": [
    "# Source control is for source... so what's with this output?\n",
    "\n",
    "<img src=\"../figures/confused-brad.gif\">\n",
    "\n",
    "Source: http://i.imgur.com/zo4EMKC.gif"
   ]
  },
  {
   "cell_type": "markdown",
   "metadata": {
    "slideshow": {
     "slide_type": "slide"
    }
   },
   "source": [
    "\n",
    "\n",
    "# Tip: Use post-save hooks\n",
    "\n",
    "Add the following slide's code to: `ipython_notebook_config.py`\n",
    "\n",
    "Find the snippet here: http://bit.ly/post-save-hook-snippet (https://gist.github.com/jbwhit/881bdeeaae3e4128947c)\n",
    "\n",
    "Modified code from: https://github.com/ipython/ipython/issues/8009 by github user: https://github.com/minrk\n",
    "\n"
   ]
  },
  {
   "cell_type": "markdown",
   "metadata": {
    "slideshow": {
     "slide_type": "slide"
    }
   },
   "source": [
    "```python \n",
    "import os\n",
    "from subprocess import check_call\n",
    "\n",
    "def post_save(model, os_path, contents_manager):\n",
    "    \"\"\"post-save hook for converting notebooks to .py and .html files.\"\"\"\n",
    "    if model['type'] != 'notebook':\n",
    "        return # only do this for notebooks\n",
    "    d, fname = os.path.split(os_path)\n",
    "    check_call(['ipython', 'nbconvert', '--to', 'script', fname], cwd=d)\n",
    "    check_call(['ipython', 'nbconvert', '--to', 'html', fname], cwd=d)\n",
    "\n",
    "c.FileContentsManager.post_save_hook = post_save\n",
    "```"
   ]
  },
  {
   "cell_type": "markdown",
   "metadata": {
    "slideshow": {
     "slide_type": "slide"
    }
   },
   "source": [
    "## What does this do?\n",
    "\n",
    "Now everytime you save a Notebook \n",
    "\n",
    " - `first-notebook.ipynb`\n",
    "\n",
    "Two files are now created/updated:\n",
    " - `first-notebook.py` \n",
    " - `first-notebook.html`"
   ]
  },
  {
   "cell_type": "markdown",
   "metadata": {
    "slideshow": {
     "slide_type": "slide"
    }
   },
   "source": [
    "# Standard pull-request workflow\n",
    "\n",
    "Github has been making great strides in making this work well -- still progress to be made"
   ]
  },
  {
   "cell_type": "markdown",
   "metadata": {
    "slideshow": {
     "slide_type": "slide"
    }
   },
   "source": [
    "# Demo: GitHub pull request"
   ]
  },
  {
   "cell_type": "markdown",
   "metadata": {
    "slideshow": {
     "slide_type": "slide"
    }
   },
   "source": [
    "# Benefits\n",
    "\n",
    " 1. Record of analysis including dead-ends\n",
    " 1. Ability to easily peer review analysis and dead-ends\n",
    " 1. Project managers can easily see and read the analysis with GitHub `.ipynb` or `.html` without installing `ipython`\n"
   ]
  },
  {
   "cell_type": "markdown",
   "metadata": {
    "slideshow": {
     "slide_type": "slide"
    }
   },
   "source": [
    "# Concluding remarks\n",
    "\n",
    "1. Organization of workflows in teams is difficult\n",
    "1. Having some standards is better than none\n",
    "1. Sometimes the \"wrong thing\" exactly solves a problem\n",
    "  1. Storing output figures\n",
    "  1. Having rendered .html files in commits\n",
    "1. Open to new ideas -- have a better method let me know!"
   ]
  },
  {
   "cell_type": "markdown",
   "metadata": {
    "slideshow": {
     "slide_type": "slide"
    }
   },
   "source": [
    "# Thank you for your attention!\n",
    "\n",
    "  - Jonathan Whitmore: [@JBWhitmore](https://twitter.com/jbwhitmore)\n",
    "  - SVDS: [@SVDataScience](https://twitter.com/svdatascience)\n",
    "  - This talk via Github: [jbwhit/OSCON-2015](https://github.com/jbwhit/OSCON-2015/)\n",
    "  - Post-save snippet: http://bit.ly/post-save-hook-snippet\n",
    "  - Creating Jupyter slides: https://github.com/damianavila/RISE\n",
    "  - nbdiff: http://nbdiff.org/ "
   ]
  },
  {
   "cell_type": "markdown",
   "metadata": {
    "slideshow": {
     "slide_type": "slide"
    }
   },
   "source": [
    "# Advanced Usage"
   ]
  },
  {
   "cell_type": "markdown",
   "metadata": {
    "slideshow": {
     "slide_type": "slide"
    }
   },
   "source": [
    "# Tip: Run on a server\n",
    "\n",
    "Useful link about how to setup a remote server: \n",
    "\n",
    " - http://ipython.org/ipython-doc/1/interactive/public_server.html"
   ]
  },
  {
   "cell_type": "markdown",
   "metadata": {
    "collapsed": false,
    "slideshow": {
     "slide_type": "slide"
    }
   },
   "source": [
    "# Create a server profile\n",
    "\n",
    "```bash\n",
    "ipython profile create nbserver \n",
    "```\n",
    "\n",
    "Which creates the following files: \n",
    "\n",
    " - ~/.ipython/profile_nbserver/ipython_config.py\n",
    " - ~/.ipython/profile_nbserver/ipython_kernel_config.py\n",
    " - ~/.ipython/profile_nbserver/ipython_console_config.py\n",
    " - ~/.ipython/profile_nbserver/ipython_qtconsole_config.py\n",
    " - ~/.ipython/profile_nbserver/ipython_notebook_config.py\n",
    " - ~/.ipython/profile_nbserver/ipython_nbconvert_config.py"
   ]
  },
  {
   "cell_type": "code",
   "execution_count": null,
   "metadata": {
    "collapsed": true
   },
   "outputs": [],
   "source": []
  }
 ],
 "metadata": {
  "anaconda-cloud": {},
  "celltoolbar": "Slideshow",
  "kernelspec": {
   "display_name": "Python [conda root]",
   "language": "python",
   "name": "conda-root-py"
  },
  "language_info": {
   "codemirror_mode": {
    "name": "ipython",
    "version": 3
   },
   "file_extension": ".py",
   "mimetype": "text/x-python",
   "name": "python",
   "nbconvert_exporter": "python",
   "pygments_lexer": "ipython3",
   "version": "3.5.2"
  }
 },
 "nbformat": 4,
 "nbformat_minor": 0
}
