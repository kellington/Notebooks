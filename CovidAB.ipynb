{
 "cells": [
  {
   "cell_type": "markdown",
   "metadata": {},
   "source": [
    "# CovidAB  \n",
    "- using the data at https://covid19stats.alberta.ca/  "
   ]
  },
  {
   "cell_type": "markdown",
   "metadata": {
    "inputHidden": false,
    "jupyter": {
     "outputs_hidden": false
    },
    "outputHidden": false
   },
   "source": [
    "### learning ....  \n",
    "This was a chance for me to do some \"web scraping\"  \n",
    "AB does *not* give a nice link to a CSV that I can see.  \n",
    "Instead, they have a button that does some magic to do the download  \n",
    "  \n",
    "So ....\n",
    "- install selenium and the chrome drive.  Note: needed specific version to match my Chrome version.  \n",
    "    - conda install -c conda-forge selenium  \n",
    "    - conda install -c conda-forge python-chromedriver-binary=81.0.4044.69.0  \n",
    "- determine the button \"name\"  \n",
    "    - \"inspect\" the button and find the class name  "
   ]
  },
  {
   "cell_type": "markdown",
   "metadata": {},
   "source": [
    "## Updates  \n",
    "- Including population data  \n",
    "- See supporting notebook: **CovidAB - Populations**  "
   ]
  },
  {
   "cell_type": "code",
   "execution_count": 1,
   "metadata": {},
   "outputs": [],
   "source": [
    "# STANDARD IMPORTS  \n",
    "from datetime import datetime\n",
    "import glob\n",
    "import json\n",
    "import math\n",
    "import io\n",
    "import os\n",
    "import csv\n",
    "from flatten_json import flatten\n",
    "import operator\n",
    "from collections import Counter\n",
    "\n",
    "# Pandas +\n",
    "import pandas as pd\n",
    "import numpy as np\n",
    "from numpy import nan\n",
    "import matplotlib.pyplot as plt\n",
    "from pivottablejs import pivot_ui\n",
    "import pandas_profiling\n",
    "\n",
    "# Selenuim webscraping\n",
    "import time\n",
    "from selenium import webdriver\n",
    "import chromedriver_binary  # Adds chromedriver binary to path\n",
    "from webdriver_manager.chrome import ChromeDriverManager\n",
    "\n",
    "from selenium.webdriver.chrome.options import Options\n",
    "\n"
   ]
  },
  {
   "cell_type": "markdown",
   "metadata": {},
   "source": [
    "## Get Some Data  \n",
    "- AB puts data at https://covid19stats.alberta.ca/#data-export  but only via table export (?)  "
   ]
  },
  {
   "cell_type": "code",
   "execution_count": 2,
   "metadata": {},
   "outputs": [],
   "source": [
    "# Download to with 'rawData' folder. \n",
    "download_folder = './rawData'\n",
    "if not os.path.exists(download_folder):\n",
    "    os.makedirs(download_folder)\n",
    "download_folder = download_folder + '/'"
   ]
  },
  {
   "cell_type": "code",
   "execution_count": 3,
   "metadata": {},
   "outputs": [],
   "source": [
    "# Outputs to with 'results' folder. \n",
    "output_folder = './results'\n",
    "if not os.path.exists(output_folder):\n",
    "    os.makedirs(output_folder)\n",
    "output_folder = output_folder + '/'"
   ]
  },
  {
   "cell_type": "markdown",
   "metadata": {},
   "source": [
    "### Web Scrapping Starts Here"
   ]
  },
  {
   "cell_type": "code",
   "execution_count": 4,
   "metadata": {},
   "outputs": [
    {
     "name": "stderr",
     "output_type": "stream",
     "text": [
      "[WDM] - Trying to download new driver from http://chromedriver.storage.googleapis.com/83.0.4103.39/chromedriver_mac64.zip\n",
      "[WDM] - Unpack archive /Users/Rob/.wdm/drivers/chromedriver/83.0.4103.39/mac64/chromedriver.zip\n"
     ]
    }
   ],
   "source": [
    "# Options for Chrome WebDriver\n",
    "op = Options()\n",
    "op.add_argument('--disable-notifications')\n",
    "op.add_experimental_option(\"prefs\",{\n",
    "    \"download.prompt_for_download\": False,\n",
    "    \"download.directory_upgrade\": True,\n",
    "    \"safebrowsing.enabled\": True \n",
    "})\n",
    "\n",
    "# Initializing the Chrome webdriver with the options\n",
    "driver = webdriver.Chrome(ChromeDriverManager().install())\n",
    "\n",
    "# Setting Chrome to trust downloads and save to downloadFolder\n",
    "driver.command_executor._commands[\"send_command\"] = (\"POST\", '/session/$sessionId/chromium/send_command')\n",
    "params = {'cmd': 'Page.setDownloadBehavior', 'params': {'behavior': 'allow', 'downloadPath': download_folder}}\n",
    "command_result = driver.execute(\"send_command\", params)\n",
    "\n",
    "# Below is the script to actually run a Chrome window ....\n",
    "driver.implicitly_wait(5)\n",
    "\n",
    "# Opening the page\n",
    "driver.get(\"https://covid19stats.alberta.ca\")\n",
    "time.sleep(5)\n",
    "\n",
    "\n",
    "# Click on the \"Data export\" tab\n",
    "driver.find_element_by_link_text(\"Data export\").click()\n",
    "#driver.findElement(By.xpath(\"//a[@href='#data-export']\")).click();\n",
    "time.sleep(2)\n",
    "\n",
    "# Click on the \"CSV\" button\n",
    "driver.find_element_by_xpath('//*[@class=\"btn btn-default buttons-csv buttons-html5\"]').click()\n",
    "time.sleep(2)\n",
    "\n",
    "#file **SHOULD** download now as (variable to use later) \n",
    "csv_file = 'covid19dataexport.csv'\n",
    "\n",
    "# Closing the webdriver\n",
    "driver.close()"
   ]
  },
  {
   "cell_type": "markdown",
   "metadata": {},
   "source": [
    "## Additional Data  \n",
    "\n",
    "1. Alberta.ca - Health - Population Estimates by Health Status Area  \n",
    " - See other notebook"
   ]
  },
  {
   "cell_type": "markdown",
   "metadata": {},
   "source": [
    "## Investigate with Pandas ...."
   ]
  },
  {
   "cell_type": "code",
   "execution_count": 5,
   "metadata": {
    "collapsed": false,
    "inputHidden": false,
    "jupyter": {
     "outputs_hidden": false
    },
    "outputHidden": false
   },
   "outputs": [
    {
     "data": {
      "text/plain": [
       "(6860, 7)"
      ]
     },
     "execution_count": 5,
     "metadata": {},
     "output_type": "execute_result"
    }
   ],
   "source": [
    "# load into a dataframe  \n",
    "data_csv = download_folder + csv_file\n",
    "df = pd.read_csv(data_csv) \n",
    "df.shape"
   ]
  },
  {
   "cell_type": "code",
   "execution_count": 6,
   "metadata": {
    "collapsed": false,
    "inputHidden": false,
    "jupyter": {
     "outputs_hidden": false
    },
    "outputHidden": false
   },
   "outputs": [
    {
     "data": {
      "text/plain": [
       "(21645, 5)"
      ]
     },
     "execution_count": 6,
     "metadata": {},
     "output_type": "execute_result"
    }
   ],
   "source": [
    "# supporting data - population - cleaned in other notebook\n",
    "df_population = pd.read_csv(download_folder + 'covid19-AHS-Population-DataFilterExport.csv')\n",
    "df_population.shape"
   ]
  },
  {
   "cell_type": "code",
   "execution_count": 7,
   "metadata": {},
   "outputs": [],
   "source": [
    "#Standard pandas settings  \n",
    "pd.options.display.max_columns = None\n",
    "pd.options.display.max_rows = None\n",
    "pd.options.display.max_colwidth = None\n",
    "pd.set_option('mode.chained_assignment', None) # disable the SettingwithCopyWarning"
   ]
  },
  {
   "cell_type": "code",
   "execution_count": 8,
   "metadata": {},
   "outputs": [],
   "source": [
    "# see the default pandas charts in notebook  \n",
    "%matplotlib inline"
   ]
  },
  {
   "cell_type": "code",
   "execution_count": 9,
   "metadata": {},
   "outputs": [],
   "source": [
    "# good step - include some meta data in the dataframe\n",
    "df.name = csv_file\n",
    "df['file_name'] = csv_file"
   ]
  },
  {
   "cell_type": "code",
   "execution_count": 10,
   "metadata": {},
   "outputs": [
    {
     "data": {
      "text/html": [
       "<div>\n",
       "<style scoped>\n",
       "    .dataframe tbody tr th:only-of-type {\n",
       "        vertical-align: middle;\n",
       "    }\n",
       "\n",
       "    .dataframe tbody tr th {\n",
       "        vertical-align: top;\n",
       "    }\n",
       "\n",
       "    .dataframe thead th {\n",
       "        text-align: right;\n",
       "    }\n",
       "</style>\n",
       "<table border=\"1\" class=\"dataframe\">\n",
       "  <thead>\n",
       "    <tr style=\"text-align: right;\">\n",
       "      <th></th>\n",
       "      <th>Unnamed: 0</th>\n",
       "      <th>Date reported</th>\n",
       "      <th>Alberta Health Services Zone</th>\n",
       "      <th>Gender</th>\n",
       "      <th>Age group</th>\n",
       "      <th>Case status</th>\n",
       "      <th>Case type</th>\n",
       "      <th>file_name</th>\n",
       "    </tr>\n",
       "  </thead>\n",
       "  <tbody>\n",
       "    <tr>\n",
       "      <th>0</th>\n",
       "      <td>1</td>\n",
       "      <td>2020-04-21</td>\n",
       "      <td>Calgary Zone</td>\n",
       "      <td>Male</td>\n",
       "      <td>Unknown</td>\n",
       "      <td>Recovered</td>\n",
       "      <td>Confirmed</td>\n",
       "      <td>covid19dataexport.csv</td>\n",
       "    </tr>\n",
       "    <tr>\n",
       "      <th>1</th>\n",
       "      <td>2</td>\n",
       "      <td>2020-04-23</td>\n",
       "      <td>Calgary Zone</td>\n",
       "      <td>Female</td>\n",
       "      <td>40-49 years</td>\n",
       "      <td>Recovered</td>\n",
       "      <td>Confirmed</td>\n",
       "      <td>covid19dataexport.csv</td>\n",
       "    </tr>\n",
       "    <tr>\n",
       "      <th>2</th>\n",
       "      <td>3</td>\n",
       "      <td>2020-04-21</td>\n",
       "      <td>Calgary Zone</td>\n",
       "      <td>Male</td>\n",
       "      <td>80+ years</td>\n",
       "      <td>Recovered</td>\n",
       "      <td>Confirmed</td>\n",
       "      <td>covid19dataexport.csv</td>\n",
       "    </tr>\n",
       "    <tr>\n",
       "      <th>3</th>\n",
       "      <td>4</td>\n",
       "      <td>2020-04-29</td>\n",
       "      <td>South Zone</td>\n",
       "      <td>Male</td>\n",
       "      <td>40-49 years</td>\n",
       "      <td>Recovered</td>\n",
       "      <td>Confirmed</td>\n",
       "      <td>covid19dataexport.csv</td>\n",
       "    </tr>\n",
       "    <tr>\n",
       "      <th>4</th>\n",
       "      <td>5</td>\n",
       "      <td>2020-04-27</td>\n",
       "      <td>Calgary Zone</td>\n",
       "      <td>Male</td>\n",
       "      <td>50-59 years</td>\n",
       "      <td>Recovered</td>\n",
       "      <td>Confirmed</td>\n",
       "      <td>covid19dataexport.csv</td>\n",
       "    </tr>\n",
       "  </tbody>\n",
       "</table>\n",
       "</div>"
      ],
      "text/plain": [
       "   Unnamed: 0 Date reported Alberta Health Services Zone  Gender    Age group  \\\n",
       "0           1    2020-04-21                 Calgary Zone    Male      Unknown   \n",
       "1           2    2020-04-23                 Calgary Zone  Female  40-49 years   \n",
       "2           3    2020-04-21                 Calgary Zone    Male    80+ years   \n",
       "3           4    2020-04-29                   South Zone    Male  40-49 years   \n",
       "4           5    2020-04-27                 Calgary Zone    Male  50-59 years   \n",
       "\n",
       "  Case status  Case type              file_name  \n",
       "0   Recovered  Confirmed  covid19dataexport.csv  \n",
       "1   Recovered  Confirmed  covid19dataexport.csv  \n",
       "2   Recovered  Confirmed  covid19dataexport.csv  \n",
       "3   Recovered  Confirmed  covid19dataexport.csv  \n",
       "4   Recovered  Confirmed  covid19dataexport.csv  "
      ]
     },
     "execution_count": 10,
     "metadata": {},
     "output_type": "execute_result"
    }
   ],
   "source": [
    "df.head(5)"
   ]
  },
  {
   "cell_type": "code",
   "execution_count": 11,
   "metadata": {},
   "outputs": [
    {
     "data": {
      "text/plain": [
       "Unnamed: 0                       int64\n",
       "Date reported                   object\n",
       "Alberta Health Services Zone    object\n",
       "Gender                          object\n",
       "Age group                       object\n",
       "Case status                     object\n",
       "Case type                       object\n",
       "file_name                       object\n",
       "dtype: object"
      ]
     },
     "execution_count": 11,
     "metadata": {},
     "output_type": "execute_result"
    }
   ],
   "source": [
    "# various functions ....\n",
    "# df.info()\n",
    "# df.columns\n",
    "# df.index.name\n",
    "# \n",
    "df.dtypes"
   ]
  },
  {
   "cell_type": "markdown",
   "metadata": {},
   "source": [
    "### Cleanup base data"
   ]
  },
  {
   "cell_type": "code",
   "execution_count": 12,
   "metadata": {},
   "outputs": [],
   "source": [
    "#rename\n",
    "df.columns = ['case_id','reported_date', 'ahs_zone', 'gender', 'age_group', 'case_status','case_type','file_name'] "
   ]
  },
  {
   "cell_type": "code",
   "execution_count": 13,
   "metadata": {},
   "outputs": [],
   "source": [
    "# everything is not a string(object)  \n",
    "df['case_id']= 'case_' + df['case_id'].astype(str).str.zfill(5)\n",
    "df['reported_date']= pd.to_datetime(df['reported_date'])\n",
    "\n",
    "#rest are categories - this is more efficient and has other benefits to just string/object\n",
    "#note: this is OVERKILL for a dataframe of less than 10k ....\n",
    "# df['ahs_zone'] = df['ahs_zone'].astype('category')\n",
    "# df['gender'] = df['gender'].astype('category')\n",
    "# df['age_group'] = df['age_group'].astype('category')\n",
    "# df['case_status'] = df['case_status'].astype('category')\n",
    "# df['case_type'] = df['case_type'].astype('category')\n",
    "# df['file_name'] = df['file_name'].astype('category')\n"
   ]
  },
  {
   "cell_type": "code",
   "execution_count": 14,
   "metadata": {},
   "outputs": [],
   "source": [
    "# reorder df to be by date\n",
    "df.sort_values('reported_date', inplace=True, ascending=True)"
   ]
  },
  {
   "cell_type": "code",
   "execution_count": 15,
   "metadata": {},
   "outputs": [],
   "source": [
    "# reset index\n",
    "df.reset_index(drop=True, inplace=True)"
   ]
  },
  {
   "cell_type": "code",
   "execution_count": 16,
   "metadata": {},
   "outputs": [],
   "source": [
    "# add a \"counter\" to have a numeric\n",
    "df['case_count'] = 1\n",
    "# and a running total\n",
    "df['running_total']=df['case_count'].expanding().sum().astype('int')"
   ]
  },
  {
   "cell_type": "markdown",
   "metadata": {},
   "source": [
    "### Agregations"
   ]
  },
  {
   "cell_type": "code",
   "execution_count": 17,
   "metadata": {},
   "outputs": [
    {
     "data": {
      "text/html": [
       "<div>\n",
       "<style scoped>\n",
       "    .dataframe tbody tr th:only-of-type {\n",
       "        vertical-align: middle;\n",
       "    }\n",
       "\n",
       "    .dataframe tbody tr th {\n",
       "        vertical-align: top;\n",
       "    }\n",
       "\n",
       "    .dataframe thead th {\n",
       "        text-align: right;\n",
       "    }\n",
       "</style>\n",
       "<table border=\"1\" class=\"dataframe\">\n",
       "  <thead>\n",
       "    <tr style=\"text-align: right;\">\n",
       "      <th></th>\n",
       "      <th>Column_Name</th>\n",
       "      <th>Num_Unique</th>\n",
       "    </tr>\n",
       "  </thead>\n",
       "  <tbody>\n",
       "    <tr>\n",
       "      <th>0</th>\n",
       "      <td>case_id</td>\n",
       "      <td>6860</td>\n",
       "    </tr>\n",
       "    <tr>\n",
       "      <th>1</th>\n",
       "      <td>reported_date</td>\n",
       "      <td>78</td>\n",
       "    </tr>\n",
       "    <tr>\n",
       "      <th>2</th>\n",
       "      <td>ahs_zone</td>\n",
       "      <td>6</td>\n",
       "    </tr>\n",
       "    <tr>\n",
       "      <th>3</th>\n",
       "      <td>gender</td>\n",
       "      <td>3</td>\n",
       "    </tr>\n",
       "    <tr>\n",
       "      <th>4</th>\n",
       "      <td>age_group</td>\n",
       "      <td>12</td>\n",
       "    </tr>\n",
       "    <tr>\n",
       "      <th>5</th>\n",
       "      <td>case_status</td>\n",
       "      <td>3</td>\n",
       "    </tr>\n",
       "    <tr>\n",
       "      <th>6</th>\n",
       "      <td>case_type</td>\n",
       "      <td>2</td>\n",
       "    </tr>\n",
       "    <tr>\n",
       "      <th>7</th>\n",
       "      <td>file_name</td>\n",
       "      <td>1</td>\n",
       "    </tr>\n",
       "    <tr>\n",
       "      <th>8</th>\n",
       "      <td>case_count</td>\n",
       "      <td>1</td>\n",
       "    </tr>\n",
       "    <tr>\n",
       "      <th>9</th>\n",
       "      <td>running_total</td>\n",
       "      <td>6860</td>\n",
       "    </tr>\n",
       "  </tbody>\n",
       "</table>\n",
       "</div>"
      ],
      "text/plain": [
       "     Column_Name  Num_Unique\n",
       "0        case_id        6860\n",
       "1  reported_date          78\n",
       "2       ahs_zone           6\n",
       "3         gender           3\n",
       "4      age_group          12\n",
       "5    case_status           3\n",
       "6      case_type           2\n",
       "7      file_name           1\n",
       "8     case_count           1\n",
       "9  running_total        6860"
      ]
     },
     "execution_count": 17,
     "metadata": {},
     "output_type": "execute_result"
    }
   ],
   "source": [
    "unique_counts = pd.DataFrame.from_records([(col, df[col].nunique()) for col in df.columns],\n",
    "                          columns=['Column_Name', 'Num_Unique'])\n",
    "unique_counts"
   ]
  },
  {
   "cell_type": "code",
   "execution_count": 18,
   "metadata": {},
   "outputs": [],
   "source": [
    "# Define summary aggregations as a template\n",
    "aggregations = {'case_count':['count','sum']}"
   ]
  },
  {
   "cell_type": "code",
   "execution_count": 19,
   "metadata": {},
   "outputs": [
    {
     "data": {
      "text/html": [
       "<div>\n",
       "<style scoped>\n",
       "    .dataframe tbody tr th:only-of-type {\n",
       "        vertical-align: middle;\n",
       "    }\n",
       "\n",
       "    .dataframe tbody tr th {\n",
       "        vertical-align: top;\n",
       "    }\n",
       "\n",
       "    .dataframe thead tr th {\n",
       "        text-align: left;\n",
       "    }\n",
       "</style>\n",
       "<table border=\"1\" class=\"dataframe\">\n",
       "  <thead>\n",
       "    <tr>\n",
       "      <th></th>\n",
       "      <th colspan=\"2\" halign=\"left\">case_count</th>\n",
       "    </tr>\n",
       "    <tr>\n",
       "      <th></th>\n",
       "      <th>count</th>\n",
       "      <th>sum</th>\n",
       "    </tr>\n",
       "  </thead>\n",
       "  <tbody>\n",
       "    <tr>\n",
       "      <th>Calgary Zone</th>\n",
       "      <td>4747</td>\n",
       "      <td>4747</td>\n",
       "    </tr>\n",
       "    <tr>\n",
       "      <th>Central Zone</th>\n",
       "      <td>99</td>\n",
       "      <td>99</td>\n",
       "    </tr>\n",
       "    <tr>\n",
       "      <th>Edmonton Zone</th>\n",
       "      <td>523</td>\n",
       "      <td>523</td>\n",
       "    </tr>\n",
       "    <tr>\n",
       "      <th>North Zone</th>\n",
       "      <td>235</td>\n",
       "      <td>235</td>\n",
       "    </tr>\n",
       "    <tr>\n",
       "      <th>South Zone</th>\n",
       "      <td>1232</td>\n",
       "      <td>1232</td>\n",
       "    </tr>\n",
       "    <tr>\n",
       "      <th>Unknown</th>\n",
       "      <td>24</td>\n",
       "      <td>24</td>\n",
       "    </tr>\n",
       "    <tr>\n",
       "      <th>covid19dataexport.csv</th>\n",
       "      <td>6860</td>\n",
       "      <td>6860</td>\n",
       "    </tr>\n",
       "  </tbody>\n",
       "</table>\n",
       "</div>"
      ],
      "text/plain": [
       "                      case_count      \n",
       "                           count   sum\n",
       "Calgary Zone                4747  4747\n",
       "Central Zone                  99    99\n",
       "Edmonton Zone                523   523\n",
       "North Zone                   235   235\n",
       "South Zone                  1232  1232\n",
       "Unknown                       24    24\n",
       "covid19dataexport.csv       6860  6860"
      ]
     },
     "execution_count": 19,
     "metadata": {},
     "output_type": "execute_result"
    }
   ],
   "source": [
    "# this does the groups, and then creates \"total\" using the fileName column\n",
    "# the \"astype(str)\" is because most columns are category types\n",
    "df_summary = df.groupby(df['ahs_zone'].astype(str)).agg(aggregations)\n",
    "df_summary = df_summary.append(df.groupby(df['file_name'].astype(str)).agg(aggregations))\n",
    "df_summary"
   ]
  },
  {
   "cell_type": "markdown",
   "metadata": {},
   "source": [
    "### Edmonton - last 3 days  "
   ]
  },
  {
   "cell_type": "code",
   "execution_count": 46,
   "metadata": {},
   "outputs": [
    {
     "data": {
      "text/html": [
       "<div>\n",
       "<style scoped>\n",
       "    .dataframe tbody tr th:only-of-type {\n",
       "        vertical-align: middle;\n",
       "    }\n",
       "\n",
       "    .dataframe tbody tr th {\n",
       "        vertical-align: top;\n",
       "    }\n",
       "\n",
       "    .dataframe thead th {\n",
       "        text-align: right;\n",
       "    }\n",
       "</style>\n",
       "<table border=\"1\" class=\"dataframe\">\n",
       "  <thead>\n",
       "    <tr style=\"text-align: right;\">\n",
       "      <th></th>\n",
       "      <th>case_id</th>\n",
       "      <th>ahs_zone</th>\n",
       "      <th>gender</th>\n",
       "      <th>age_group</th>\n",
       "      <th>case_status</th>\n",
       "      <th>case_type</th>\n",
       "      <th>file_name</th>\n",
       "      <th>case_count</th>\n",
       "      <th>running_total</th>\n",
       "    </tr>\n",
       "    <tr>\n",
       "      <th>reported_date</th>\n",
       "      <th></th>\n",
       "      <th></th>\n",
       "      <th></th>\n",
       "      <th></th>\n",
       "      <th></th>\n",
       "      <th></th>\n",
       "      <th></th>\n",
       "      <th></th>\n",
       "      <th></th>\n",
       "    </tr>\n",
       "  </thead>\n",
       "  <tbody>\n",
       "    <tr>\n",
       "      <th>2020-05-23</th>\n",
       "      <td>case_02179</td>\n",
       "      <td>Edmonton Zone</td>\n",
       "      <td>Male</td>\n",
       "      <td>30-39 years</td>\n",
       "      <td>Active</td>\n",
       "      <td>Probable</td>\n",
       "      <td>covid19dataexport.csv</td>\n",
       "      <td>1</td>\n",
       "      <td>6819</td>\n",
       "    </tr>\n",
       "    <tr>\n",
       "      <th>2020-05-21</th>\n",
       "      <td>case_06080</td>\n",
       "      <td>Edmonton Zone</td>\n",
       "      <td>Male</td>\n",
       "      <td>10-19 years</td>\n",
       "      <td>Active</td>\n",
       "      <td>Confirmed</td>\n",
       "      <td>covid19dataexport.csv</td>\n",
       "      <td>1</td>\n",
       "      <td>6758</td>\n",
       "    </tr>\n",
       "    <tr>\n",
       "      <th>2020-05-20</th>\n",
       "      <td>case_05861</td>\n",
       "      <td>Edmonton Zone</td>\n",
       "      <td>Female</td>\n",
       "      <td>40-49 years</td>\n",
       "      <td>Active</td>\n",
       "      <td>Confirmed</td>\n",
       "      <td>covid19dataexport.csv</td>\n",
       "      <td>1</td>\n",
       "      <td>6725</td>\n",
       "    </tr>\n",
       "    <tr>\n",
       "      <th>2020-05-20</th>\n",
       "      <td>case_02873</td>\n",
       "      <td>Edmonton Zone</td>\n",
       "      <td>Female</td>\n",
       "      <td>80+ years</td>\n",
       "      <td>Active</td>\n",
       "      <td>Confirmed</td>\n",
       "      <td>covid19dataexport.csv</td>\n",
       "      <td>1</td>\n",
       "      <td>6726</td>\n",
       "    </tr>\n",
       "    <tr>\n",
       "      <th>2020-05-20</th>\n",
       "      <td>case_02838</td>\n",
       "      <td>Edmonton Zone</td>\n",
       "      <td>Male</td>\n",
       "      <td>50-59 years</td>\n",
       "      <td>Active</td>\n",
       "      <td>Confirmed</td>\n",
       "      <td>covid19dataexport.csv</td>\n",
       "      <td>1</td>\n",
       "      <td>6749</td>\n",
       "    </tr>\n",
       "  </tbody>\n",
       "</table>\n",
       "</div>"
      ],
      "text/plain": [
       "                  case_id       ahs_zone  gender    age_group case_status  \\\n",
       "reported_date                                                               \n",
       "2020-05-23     case_02179  Edmonton Zone    Male  30-39 years      Active   \n",
       "2020-05-21     case_06080  Edmonton Zone    Male  10-19 years      Active   \n",
       "2020-05-20     case_05861  Edmonton Zone  Female  40-49 years      Active   \n",
       "2020-05-20     case_02873  Edmonton Zone  Female    80+ years      Active   \n",
       "2020-05-20     case_02838  Edmonton Zone    Male  50-59 years      Active   \n",
       "\n",
       "               case_type              file_name  case_count  running_total  \n",
       "reported_date                                                               \n",
       "2020-05-23      Probable  covid19dataexport.csv           1           6819  \n",
       "2020-05-21     Confirmed  covid19dataexport.csv           1           6758  \n",
       "2020-05-20     Confirmed  covid19dataexport.csv           1           6725  \n",
       "2020-05-20     Confirmed  covid19dataexport.csv           1           6726  \n",
       "2020-05-20     Confirmed  covid19dataexport.csv           1           6749  "
      ]
     },
     "execution_count": 46,
     "metadata": {},
     "output_type": "execute_result"
    }
   ],
   "source": [
    "df_edmonton = df[df.ahs_zone==\"Edmonton Zone\"]\n",
    "df_edmonton = df_edmonton.set_index('reported_date')\n",
    "df_edmonton = df_edmonton.sort_index()\n",
    "#df_edmonton.head(5)\n",
    "df_edmonton[df_edmonton.last_valid_index()-pd.DateOffset(3, 'D'):].sort_index(ascending = False)"
   ]
  },
  {
   "cell_type": "markdown",
   "metadata": {},
   "source": [
    "### Add some extra data  "
   ]
  },
  {
   "cell_type": "code",
   "execution_count": 20,
   "metadata": {},
   "outputs": [],
   "source": [
    "# Populations\n",
    "csv_file = 'covid19-AHS-Population-DataFilterExport.csv'"
   ]
  },
  {
   "cell_type": "code",
   "execution_count": 21,
   "metadata": {
    "collapsed": false,
    "inputHidden": false,
    "jupyter": {
     "outputs_hidden": false
    },
    "outputHidden": false
   },
   "outputs": [
    {
     "data": {
      "text/plain": [
       "(21645, 5)"
      ]
     },
     "execution_count": 21,
     "metadata": {},
     "output_type": "execute_result"
    }
   ],
   "source": [
    "# supporting data - population  \n",
    "df_population = pd.read_csv(download_folder + csv_file)\n",
    "df_population.shape"
   ]
  },
  {
   "cell_type": "code",
   "execution_count": 22,
   "metadata": {},
   "outputs": [
    {
     "ename": "KeyError",
     "evalue": "'id'",
     "output_type": "error",
     "traceback": [
      "\u001b[0;31m---------------------------------------------------------------------------\u001b[0m",
      "\u001b[0;31mKeyError\u001b[0m                                  Traceback (most recent call last)",
      "\u001b[0;32m<ipython-input-22-8c1b933b79c6>\u001b[0m in \u001b[0;36m<module>\u001b[0;34m\u001b[0m\n\u001b[1;32m      1\u001b[0m \u001b[0;31m# join - left loan\u001b[0m\u001b[0;34m\u001b[0m\u001b[0;34m\u001b[0m\u001b[0;34m\u001b[0m\u001b[0m\n\u001b[0;32m----> 2\u001b[0;31m \u001b[0mdf_new\u001b[0m \u001b[0;34m=\u001b[0m \u001b[0mpd\u001b[0m\u001b[0;34m.\u001b[0m\u001b[0mmerge\u001b[0m\u001b[0;34m(\u001b[0m\u001b[0mdf\u001b[0m\u001b[0;34m,\u001b[0m \u001b[0mdf_population\u001b[0m\u001b[0;34m,\u001b[0m \u001b[0mon\u001b[0m\u001b[0;34m=\u001b[0m\u001b[0;34m'id'\u001b[0m\u001b[0;34m,\u001b[0m \u001b[0mhow\u001b[0m\u001b[0;34m=\u001b[0m\u001b[0;34m'outer'\u001b[0m\u001b[0;34m)\u001b[0m\u001b[0;34m\u001b[0m\u001b[0;34m\u001b[0m\u001b[0m\n\u001b[0m\u001b[1;32m      3\u001b[0m \u001b[0mdf_new\u001b[0m\u001b[0;34m.\u001b[0m\u001b[0msample\u001b[0m\u001b[0;34m(\u001b[0m\u001b[0;36m15\u001b[0m\u001b[0;34m)\u001b[0m\u001b[0;34m\u001b[0m\u001b[0;34m\u001b[0m\u001b[0m\n",
      "\u001b[0;32m~/anaconda3/lib/python3.7/site-packages/pandas/core/reshape/merge.py\u001b[0m in \u001b[0;36mmerge\u001b[0;34m(left, right, how, on, left_on, right_on, left_index, right_index, sort, suffixes, copy, indicator, validate)\u001b[0m\n\u001b[1;32m     84\u001b[0m         \u001b[0mcopy\u001b[0m\u001b[0;34m=\u001b[0m\u001b[0mcopy\u001b[0m\u001b[0;34m,\u001b[0m\u001b[0;34m\u001b[0m\u001b[0;34m\u001b[0m\u001b[0m\n\u001b[1;32m     85\u001b[0m         \u001b[0mindicator\u001b[0m\u001b[0;34m=\u001b[0m\u001b[0mindicator\u001b[0m\u001b[0;34m,\u001b[0m\u001b[0;34m\u001b[0m\u001b[0;34m\u001b[0m\u001b[0m\n\u001b[0;32m---> 86\u001b[0;31m         \u001b[0mvalidate\u001b[0m\u001b[0;34m=\u001b[0m\u001b[0mvalidate\u001b[0m\u001b[0;34m,\u001b[0m\u001b[0;34m\u001b[0m\u001b[0;34m\u001b[0m\u001b[0m\n\u001b[0m\u001b[1;32m     87\u001b[0m     )\n\u001b[1;32m     88\u001b[0m     \u001b[0;32mreturn\u001b[0m \u001b[0mop\u001b[0m\u001b[0;34m.\u001b[0m\u001b[0mget_result\u001b[0m\u001b[0;34m(\u001b[0m\u001b[0;34m)\u001b[0m\u001b[0;34m\u001b[0m\u001b[0;34m\u001b[0m\u001b[0m\n",
      "\u001b[0;32m~/anaconda3/lib/python3.7/site-packages/pandas/core/reshape/merge.py\u001b[0m in \u001b[0;36m__init__\u001b[0;34m(self, left, right, how, on, left_on, right_on, axis, left_index, right_index, sort, suffixes, copy, indicator, validate)\u001b[0m\n\u001b[1;32m    625\u001b[0m             \u001b[0mself\u001b[0m\u001b[0;34m.\u001b[0m\u001b[0mright_join_keys\u001b[0m\u001b[0;34m,\u001b[0m\u001b[0;34m\u001b[0m\u001b[0;34m\u001b[0m\u001b[0m\n\u001b[1;32m    626\u001b[0m             \u001b[0mself\u001b[0m\u001b[0;34m.\u001b[0m\u001b[0mjoin_names\u001b[0m\u001b[0;34m,\u001b[0m\u001b[0;34m\u001b[0m\u001b[0;34m\u001b[0m\u001b[0m\n\u001b[0;32m--> 627\u001b[0;31m         ) = self._get_merge_keys()\n\u001b[0m\u001b[1;32m    628\u001b[0m \u001b[0;34m\u001b[0m\u001b[0m\n\u001b[1;32m    629\u001b[0m         \u001b[0;31m# validate the merge keys dtypes. We may need to coerce\u001b[0m\u001b[0;34m\u001b[0m\u001b[0;34m\u001b[0m\u001b[0;34m\u001b[0m\u001b[0m\n",
      "\u001b[0;32m~/anaconda3/lib/python3.7/site-packages/pandas/core/reshape/merge.py\u001b[0m in \u001b[0;36m_get_merge_keys\u001b[0;34m(self)\u001b[0m\n\u001b[1;32m    981\u001b[0m                     \u001b[0;32mif\u001b[0m \u001b[0;32mnot\u001b[0m \u001b[0mis_rkey\u001b[0m\u001b[0;34m(\u001b[0m\u001b[0mrk\u001b[0m\u001b[0;34m)\u001b[0m\u001b[0;34m:\u001b[0m\u001b[0;34m\u001b[0m\u001b[0;34m\u001b[0m\u001b[0m\n\u001b[1;32m    982\u001b[0m                         \u001b[0;32mif\u001b[0m \u001b[0mrk\u001b[0m \u001b[0;32mis\u001b[0m \u001b[0;32mnot\u001b[0m \u001b[0;32mNone\u001b[0m\u001b[0;34m:\u001b[0m\u001b[0;34m\u001b[0m\u001b[0;34m\u001b[0m\u001b[0m\n\u001b[0;32m--> 983\u001b[0;31m                             \u001b[0mright_keys\u001b[0m\u001b[0;34m.\u001b[0m\u001b[0mappend\u001b[0m\u001b[0;34m(\u001b[0m\u001b[0mright\u001b[0m\u001b[0;34m.\u001b[0m\u001b[0m_get_label_or_level_values\u001b[0m\u001b[0;34m(\u001b[0m\u001b[0mrk\u001b[0m\u001b[0;34m)\u001b[0m\u001b[0;34m)\u001b[0m\u001b[0;34m\u001b[0m\u001b[0;34m\u001b[0m\u001b[0m\n\u001b[0m\u001b[1;32m    984\u001b[0m                         \u001b[0;32melse\u001b[0m\u001b[0;34m:\u001b[0m\u001b[0;34m\u001b[0m\u001b[0;34m\u001b[0m\u001b[0m\n\u001b[1;32m    985\u001b[0m                             \u001b[0;31m# work-around for merge_asof(right_index=True)\u001b[0m\u001b[0;34m\u001b[0m\u001b[0;34m\u001b[0m\u001b[0;34m\u001b[0m\u001b[0m\n",
      "\u001b[0;32m~/anaconda3/lib/python3.7/site-packages/pandas/core/generic.py\u001b[0m in \u001b[0;36m_get_label_or_level_values\u001b[0;34m(self, key, axis)\u001b[0m\n\u001b[1;32m   1690\u001b[0m             \u001b[0mvalues\u001b[0m \u001b[0;34m=\u001b[0m \u001b[0mself\u001b[0m\u001b[0;34m.\u001b[0m\u001b[0maxes\u001b[0m\u001b[0;34m[\u001b[0m\u001b[0maxis\u001b[0m\u001b[0;34m]\u001b[0m\u001b[0;34m.\u001b[0m\u001b[0mget_level_values\u001b[0m\u001b[0;34m(\u001b[0m\u001b[0mkey\u001b[0m\u001b[0;34m)\u001b[0m\u001b[0;34m.\u001b[0m\u001b[0m_values\u001b[0m\u001b[0;34m\u001b[0m\u001b[0;34m\u001b[0m\u001b[0m\n\u001b[1;32m   1691\u001b[0m         \u001b[0;32melse\u001b[0m\u001b[0;34m:\u001b[0m\u001b[0;34m\u001b[0m\u001b[0;34m\u001b[0m\u001b[0m\n\u001b[0;32m-> 1692\u001b[0;31m             \u001b[0;32mraise\u001b[0m \u001b[0mKeyError\u001b[0m\u001b[0;34m(\u001b[0m\u001b[0mkey\u001b[0m\u001b[0;34m)\u001b[0m\u001b[0;34m\u001b[0m\u001b[0;34m\u001b[0m\u001b[0m\n\u001b[0m\u001b[1;32m   1693\u001b[0m \u001b[0;34m\u001b[0m\u001b[0m\n\u001b[1;32m   1694\u001b[0m         \u001b[0;31m# Check for duplicates\u001b[0m\u001b[0;34m\u001b[0m\u001b[0;34m\u001b[0m\u001b[0;34m\u001b[0m\u001b[0m\n",
      "\u001b[0;31mKeyError\u001b[0m: 'id'"
     ]
    }
   ],
   "source": [
    "# join - left loan\n",
    "df_new = pd.merge(df, df_population, on='id', how='outer')\n",
    "df_new.sample(15)"
   ]
  },
  {
   "cell_type": "markdown",
   "metadata": {},
   "source": [
    "### 0.2 - Basic Plotting  \n",
    "- built into pandas  "
   ]
  },
  {
   "cell_type": "code",
   "execution_count": null,
   "metadata": {},
   "outputs": [],
   "source": [
    "df.plot(kind='scatter',x='reported_date',y='ahs_zone',color='red')\n",
    "plt.show()"
   ]
  },
  {
   "cell_type": "markdown",
   "metadata": {},
   "source": [
    "## Part 2 - Pivot Table  \n",
    "This is not excel - but VERY handy  \n",
    "- just drag and drop  \n",
    "- and simple charts, heat maps, etc  "
   ]
  },
  {
   "cell_type": "code",
   "execution_count": null,
   "metadata": {},
   "outputs": [],
   "source": [
    "pivot_ui(df)"
   ]
  },
  {
   "cell_type": "markdown",
   "metadata": {},
   "source": [
    "## Part 3 - Queries    \n",
    "- Various queries - largely to help clean up other data    "
   ]
  },
  {
   "cell_type": "code",
   "execution_count": null,
   "metadata": {},
   "outputs": [],
   "source": [
    "covid19_age_groups = df['age_group'].unique()\n",
    "type(covid19_age_groups)"
   ]
  },
  {
   "cell_type": "markdown",
   "metadata": {},
   "source": [
    "## Part 4 - Profiling  \n",
    "- create way to save results when archiving data after analysis  "
   ]
  },
  {
   "cell_type": "code",
   "execution_count": null,
   "metadata": {},
   "outputs": [],
   "source": [
    "# pandas_profiling.ProfileReport(df)\n",
    "\n",
    "# NOTE: Currently not working ....\n",
    "# pandas                    1.0.3            py37h6c726b0_0  \n",
    "# pandas-profiling          2.6.0                      py_0    conda-forge\n"
   ]
  },
  {
   "cell_type": "markdown",
   "metadata": {},
   "source": [
    "## Outputs "
   ]
  },
  {
   "cell_type": "code",
   "execution_count": null,
   "metadata": {},
   "outputs": [],
   "source": [
    "# save the data\n",
    "output_file_name = \"CovidAB_\" + datetime.today().strftime('%Y%m%d') + \".csv\"\n",
    "print(output_folder + output_file_name)\n",
    "df.to_csv(output_folder + output_file_name)"
   ]
  },
  {
   "cell_type": "code",
   "execution_count": null,
   "metadata": {},
   "outputs": [],
   "source": [
    "# save profile\n",
    "# ppr = pandas_profiling.ProfileReport(df)\n",
    "# output_file_name = \"CovidAB_Profile_\" + datetime.today().strftime('%Y%m%d') + \".html\"\n",
    "# print(output_folder + output_file_name)\n",
    "# ppr.to_file(output_folder + output_file_name)"
   ]
  },
  {
   "cell_type": "markdown",
   "metadata": {},
   "source": [
    "# Done"
   ]
  }
 ],
 "metadata": {
  "kernel_info": {
   "name": "node_nteract"
  },
  "kernelspec": {
   "display_name": "Python 3",
   "language": "python",
   "name": "python3"
  },
  "language_info": {
   "codemirror_mode": {
    "name": "ipython",
    "version": 3
   },
   "file_extension": ".py",
   "mimetype": "text/x-python",
   "name": "python",
   "nbconvert_exporter": "python",
   "pygments_lexer": "ipython3",
   "version": "3.7.7"
  },
  "nteract": {
   "version": "0.15.0"
  }
 },
 "nbformat": 4,
 "nbformat_minor": 4
}
