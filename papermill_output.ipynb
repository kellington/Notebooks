{
 "cells": [
  {
   "cell_type": "markdown",
   "metadata": {
    "papermill": {
     "duration": 0.007134,
     "end_time": "2019-09-22T16:12:31.299484",
     "exception": false,
     "start_time": "2019-09-22T16:12:31.292350",
     "status": "completed"
    },
    "tags": []
   },
   "source": [
    "# Papermill  \n",
    "https://github.com/nteract/papermill  "
   ]
  },
  {
   "cell_type": "code",
   "execution_count": 1,
   "metadata": {
    "papermill": {
     "duration": 0.012047,
     "end_time": "2019-09-22T16:12:31.316630",
     "exception": false,
     "start_time": "2019-09-22T16:12:31.304583",
     "status": "completed"
    },
    "tags": [
     "parameters"
    ]
   },
   "outputs": [],
   "source": [
    "# parms for papermill\n",
    "alpha = 1\n",
    "beta = 'a'"
   ]
  },
  {
   "cell_type": "code",
   "execution_count": 2,
   "metadata": {
    "papermill": {
     "duration": 0.011354,
     "end_time": "2019-09-22T16:12:31.332156",
     "exception": false,
     "start_time": "2019-09-22T16:12:31.320802",
     "status": "completed"
    },
    "tags": [
     "injected-parameters"
    ]
   },
   "outputs": [],
   "source": [
    "# Parameters\n",
    "alpha = 2\n",
    "beta = \"b\"\n"
   ]
  },
  {
   "cell_type": "code",
   "execution_count": 3,
   "metadata": {
    "papermill": {
     "duration": 0.011755,
     "end_time": "2019-09-22T16:12:31.348850",
     "exception": false,
     "start_time": "2019-09-22T16:12:31.337095",
     "status": "completed"
    },
    "tags": []
   },
   "outputs": [],
   "source": [
    "import datetime"
   ]
  },
  {
   "cell_type": "code",
   "execution_count": 4,
   "metadata": {
    "papermill": {
     "duration": 0.013779,
     "end_time": "2019-09-22T16:12:31.366827",
     "exception": false,
     "start_time": "2019-09-22T16:12:31.353048",
     "status": "completed"
    },
    "tags": []
   },
   "outputs": [
    {
     "name": "stdout",
     "output_type": "stream",
     "text": [
      "2019-09-22 10:12:31.360381\n"
     ]
    }
   ],
   "source": [
    "print(datetime.datetime.now())"
   ]
  },
  {
   "cell_type": "code",
   "execution_count": 5,
   "metadata": {
    "papermill": {
     "duration": 0.013889,
     "end_time": "2019-09-22T16:12:31.385244",
     "exception": false,
     "start_time": "2019-09-22T16:12:31.371355",
     "status": "completed"
    },
    "tags": []
   },
   "outputs": [
    {
     "name": "stdout",
     "output_type": "stream",
     "text": [
      "alpha: 2\n",
      "beta: b\n"
     ]
    }
   ],
   "source": [
    "# use\n",
    "print('alpha: ' + str(alpha))\n",
    "print('beta: ' + beta)"
   ]
  },
  {
   "cell_type": "markdown",
   "metadata": {
    "papermill": {
     "duration": 0.004661,
     "end_time": "2019-09-22T16:12:31.394661",
     "exception": false,
     "start_time": "2019-09-22T16:12:31.390000",
     "status": "completed"
    },
    "tags": []
   },
   "source": [
    "### Usage\n",
    "\n",
    "papermill local/input.ipynb s3://bkt/output.ipynb -p alpha 0.6 -p l1_ratio 0.1"
   ]
  }
 ],
 "metadata": {
  "celltoolbar": "Tags",
  "kernelspec": {
   "display_name": "Python 3",
   "language": "python",
   "name": "python3"
  },
  "language_info": {
   "codemirror_mode": {
    "name": "ipython",
    "version": 3
   },
   "file_extension": ".py",
   "mimetype": "text/x-python",
   "name": "python",
   "nbconvert_exporter": "python",
   "pygments_lexer": "ipython3",
   "version": "3.7.4"
  },
  "papermill": {
   "duration": 1.338315,
   "end_time": "2019-09-22T16:12:31.715570",
   "environment_variables": {},
   "exception": null,
   "input_path": "papermill_template.ipynb",
   "output_path": "papermill_output.ipynb",
   "parameters": {
    "alpha": 2,
    "beta": "b"
   },
   "start_time": "2019-09-22T16:12:30.377255",
   "version": "1.1.0"
  }
 },
 "nbformat": 4,
 "nbformat_minor": 4
}
