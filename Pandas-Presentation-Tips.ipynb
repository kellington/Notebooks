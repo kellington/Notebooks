{
 "cells": [
  {
   "cell_type": "markdown",
   "metadata": {},
   "source": [
    "# Pandas presentation tips I wish I knew earlier\n",
    "https://towardsdatascience.com/pandas-presentation-tips-i-wish-i-knew-earlier-8e767365d190"
   ]
  },
  {
   "cell_type": "markdown",
   "metadata": {},
   "source": [
    "## To Step Up Your Pandas Game, read:  \n",
    "\n",
    "- [5 lesser-known pandas tricks](https://towardsdatascience.com/5-lesser-known-pandas-tricks-e8ab1dd21431)  \n",
    "- [Exploratory Data Analysis with pandas](https://towardsdatascience.com/exploratory-data-analysis-with-pandas-508a5e8a5964)  \n",
    "- [How NOT to write pandas code -paid](https://gum.co/vxxiV) \n",
    "- [5 Gotchas With Pandas](https://towardsdatascience.com/5-gotchas-with-pandas-974df6595e61)  \n",
    "- [Pandas tips that will save you hours of head-scratching](https://towardsdatascience.com/pandas-tips-that-will-save-you-hours-of-head-scratching-31d8572218c9)  \n",
    "- [Display Customizations for pandas Power Users](https://towardsdatascience.com/become-a-pandas-power-user-with-these-display-customizations-6d3a5a5885c1)  \n",
    "- [5 New Features in pandas 1.0 You Should Know About](https://towardsdatascience.com/5-new-features-in-pandas-1-0-you-should-know-about-fc31c83e396b)  \n",
    "- [pandas analytics server](https://towardsdatascience.com/pandas-analytics-server-d9abceec888b)  \n",
    "- [Pandas analysis of coronavirus pandemic](https://medium.com/datadriveninvestor/pandas-analysis-of-coronavirus-pandemic-2b0d784e0806)  \n",
    "- [Sports analysis with Pandas](https://towardsdatascience.com/sports-analysis-with-pandas-real-vs-barca-94f85819bf6)  \n",
    "- [3 hidden mistakes with pandas](https://towardsdatascience.com/3-hidden-mistakes-with-pandas-712792dfb91a)  \n",
    "- [Pandas Pivot — The Ultimate Guide](https://towardsdatascience.com/pandas-pivot-the-ultimate-guide-5c693e0771f3)  \n"
   ]
  },
  {
   "cell_type": "markdown",
   "metadata": {},
   "source": [
    "## Setup"
   ]
  },
  {
   "cell_type": "code",
   "execution_count": 2,
   "metadata": {},
   "outputs": [
    {
     "name": "stdout",
     "output_type": "stream",
     "text": [
      "System\n",
      "os name: posix\n",
      "system: Darwin\n",
      "release: 19.4.0\n",
      "\n",
      "Python\n",
      "version: 3.7.7\n",
      "\n",
      "Python Packages\n",
      "jupterlab==1.2.6\n",
      "pandas==1.0.3\n",
      "numpy==1.18.1\n",
      "lxml==4.5.0\n"
     ]
    }
   ],
   "source": [
    "import os\n",
    "import platform\n",
    "import random\n",
    "from platform import python_version\n",
    "\n",
    "import jupyterlab\n",
    "import numpy as np\n",
    "import pandas as pd\n",
    "import lxml\n",
    "\n",
    "print(\"System\")\n",
    "print(\"os name: %s\" % os.name)\n",
    "print(\"system: %s\" % platform.system())\n",
    "print(\"release: %s\" % platform.release())\n",
    "print()\n",
    "print(\"Python\")\n",
    "print(\"version: %s\" % python_version())\n",
    "print()\n",
    "print(\"Python Packages\")\n",
    "print(\"jupterlab==%s\" % jupyterlab.__version__)\n",
    "print(\"pandas==%s\" % pd.__version__)\n",
    "print(\"numpy==%s\" % np.__version__)\n",
    "print(\"lxml==%s\" % lxml.__version__)"
   ]
  },
  {
   "cell_type": "code",
   "execution_count": 6,
   "metadata": {},
   "outputs": [],
   "source": [
    "## Added by Rob\n",
    "output_folder = './output'\n",
    "if not os.path.exists(output_folder):\n",
    "    os.makedirs(output_folder)\n",
    "output_folder = output_folder + '/'\n",
    "\n",
    "notebook_outbook_prefix = output_folder + \"PandasPresentation_\""
   ]
  },
  {
   "cell_type": "markdown",
   "metadata": {},
   "source": [
    "### Create dummy dataframe  "
   ]
  },
  {
   "cell_type": "code",
   "execution_count": 3,
   "metadata": {},
   "outputs": [
    {
     "data": {
      "text/plain": [
       "(10, 3)"
      ]
     },
     "execution_count": 3,
     "metadata": {},
     "output_type": "execute_result"
    }
   ],
   "source": [
    "n = 10\n",
    "df = pd.DataFrame(\n",
    "    {\n",
    "        \"col1\": np.random.random_sample(n),\n",
    "        \"col2\": np.random.random_sample(n),\n",
    "        \"col3\": [[random.randint(0, 10) for _ in range(random.randint(3, 5))] for _ in range(n)],\n",
    "    }\n",
    ")\n",
    "df.shape"
   ]
  },
  {
   "cell_type": "code",
   "execution_count": 8,
   "metadata": {},
   "outputs": [
    {
     "data": {
      "text/html": [
       "<div>\n",
       "<style scoped>\n",
       "    .dataframe tbody tr th:only-of-type {\n",
       "        vertical-align: middle;\n",
       "    }\n",
       "\n",
       "    .dataframe tbody tr th {\n",
       "        vertical-align: top;\n",
       "    }\n",
       "\n",
       "    .dataframe thead th {\n",
       "        text-align: right;\n",
       "    }\n",
       "</style>\n",
       "<table border=\"1\" class=\"dataframe\">\n",
       "  <thead>\n",
       "    <tr style=\"text-align: right;\">\n",
       "      <th></th>\n",
       "      <th>col1</th>\n",
       "      <th>col2</th>\n",
       "      <th>col3</th>\n",
       "    </tr>\n",
       "  </thead>\n",
       "  <tbody>\n",
       "    <tr>\n",
       "      <th>0</th>\n",
       "      <td>0.840138</td>\n",
       "      <td>0.292938</td>\n",
       "      <td>[10, 4, 5, 7, 6]</td>\n",
       "    </tr>\n",
       "    <tr>\n",
       "      <th>1</th>\n",
       "      <td>0.085789</td>\n",
       "      <td>0.832004</td>\n",
       "      <td>[2, 10, 9]</td>\n",
       "    </tr>\n",
       "    <tr>\n",
       "      <th>2</th>\n",
       "      <td>0.910500</td>\n",
       "      <td>0.270349</td>\n",
       "      <td>[0, 4, 4, 2, 5]</td>\n",
       "    </tr>\n",
       "    <tr>\n",
       "      <th>3</th>\n",
       "      <td>0.689022</td>\n",
       "      <td>0.308323</td>\n",
       "      <td>[7, 1, 9, 9, 3]</td>\n",
       "    </tr>\n",
       "    <tr>\n",
       "      <th>4</th>\n",
       "      <td>0.958880</td>\n",
       "      <td>0.523427</td>\n",
       "      <td>[1, 6, 0]</td>\n",
       "    </tr>\n",
       "  </tbody>\n",
       "</table>\n",
       "</div>"
      ],
      "text/plain": [
       "       col1      col2              col3\n",
       "0  0.840138  0.292938  [10, 4, 5, 7, 6]\n",
       "1  0.085789  0.832004        [2, 10, 9]\n",
       "2  0.910500  0.270349   [0, 4, 4, 2, 5]\n",
       "3  0.689022  0.308323   [7, 1, 9, 9, 3]\n",
       "4  0.958880  0.523427         [1, 6, 0]"
      ]
     },
     "execution_count": 8,
     "metadata": {},
     "output_type": "execute_result"
    }
   ],
   "source": [
    "df.head()"
   ]
  },
  {
   "cell_type": "markdown",
   "metadata": {},
   "source": [
    "### Saving (and reading back) from HTML  "
   ]
  },
  {
   "cell_type": "code",
   "execution_count": 9,
   "metadata": {},
   "outputs": [],
   "source": [
    "df_html = df.to_html()"
   ]
  },
  {
   "cell_type": "code",
   "execution_count": 10,
   "metadata": {},
   "outputs": [],
   "source": [
    "output_file_name = notebook_outbook_prefix + \"analysis.html\"\n",
    "with open(output_file_name, 'w') as f:\n",
    "    f.write(df_html)"
   ]
  },
  {
   "cell_type": "code",
   "execution_count": 12,
   "metadata": {},
   "outputs": [
    {
     "data": {
      "text/plain": [
       "[   Unnamed: 0      col1      col2              col3\n",
       " 0           0  0.840138  0.292938  [10, 4, 5, 7, 6]\n",
       " 1           1  0.085789  0.832004        [2, 10, 9]\n",
       " 2           2  0.910500  0.270349   [0, 4, 4, 2, 5]\n",
       " 3           3  0.689022  0.308323   [7, 1, 9, 9, 3]\n",
       " 4           4  0.958880  0.523427         [1, 6, 0]\n",
       " 5           5  0.038681  0.793978      [1, 8, 0, 5]\n",
       " 6           6  0.357967  0.954240      [7, 5, 0, 6]\n",
       " 7           7  0.535167  0.029869     [10, 9, 4, 1]\n",
       " 8           8  0.706353  0.673613         [5, 8, 1]\n",
       " 9           9  0.927402  0.693116      [1, 5, 7, 4]]"
      ]
     },
     "execution_count": 12,
     "metadata": {},
     "output_type": "execute_result"
    }
   ],
   "source": [
    "df_list = pd.read_html(output_file_name)\n",
    "df_list"
   ]
  },
  {
   "cell_type": "markdown",
   "metadata": {},
   "source": [
    "### Latex  "
   ]
  },
  {
   "cell_type": "code",
   "execution_count": 15,
   "metadata": {},
   "outputs": [
    {
     "data": {
      "text/plain": [
       "'\\\\begin{tabular}{lrrl}\\n\\\\toprule\\n{} &      col1 &      col2 &              col3 \\\\\\\\\\n\\\\midrule\\n0 &  0.840138 &  0.292938 &  [10, 4, 5, 7, 6] \\\\\\\\\\n1 &  0.085789 &  0.832004 &        [2, 10, 9] \\\\\\\\\\n2 &  0.910500 &  0.270349 &   [0, 4, 4, 2, 5] \\\\\\\\\\n3 &  0.689022 &  0.308323 &   [7, 1, 9, 9, 3] \\\\\\\\\\n4 &  0.958880 &  0.523427 &         [1, 6, 0] \\\\\\\\\\n5 &  0.038681 &  0.793978 &      [1, 8, 0, 5] \\\\\\\\\\n6 &  0.357967 &  0.954240 &      [7, 5, 0, 6] \\\\\\\\\\n7 &  0.535167 &  0.029869 &     [10, 9, 4, 1] \\\\\\\\\\n8 &  0.706353 &  0.673613 &         [5, 8, 1] \\\\\\\\\\n9 &  0.927402 &  0.693116 &      [1, 5, 7, 4] \\\\\\\\\\n\\\\bottomrule\\n\\\\end{tabular}\\n'"
      ]
     },
     "execution_count": 15,
     "metadata": {},
     "output_type": "execute_result"
    }
   ],
   "source": [
    "df.to_latex()"
   ]
  },
  {
   "cell_type": "markdown",
   "metadata": {},
   "source": [
    "You can use it with print to get a nicely formatted output."
   ]
  },
  {
   "cell_type": "code",
   "execution_count": 16,
   "metadata": {},
   "outputs": [
    {
     "name": "stdout",
     "output_type": "stream",
     "text": [
      "\\begin{tabular}{lrrl}\n",
      "\\toprule\n",
      "{} &      col1 &      col2 &              col3 \\\\\n",
      "\\midrule\n",
      "0 &  0.840138 &  0.292938 &  [10, 4, 5, 7, 6] \\\\\n",
      "1 &  0.085789 &  0.832004 &        [2, 10, 9] \\\\\n",
      "2 &  0.910500 &  0.270349 &   [0, 4, 4, 2, 5] \\\\\n",
      "3 &  0.689022 &  0.308323 &   [7, 1, 9, 9, 3] \\\\\n",
      "4 &  0.958880 &  0.523427 &         [1, 6, 0] \\\\\n",
      "5 &  0.038681 &  0.793978 &      [1, 8, 0, 5] \\\\\n",
      "6 &  0.357967 &  0.954240 &      [7, 5, 0, 6] \\\\\n",
      "7 &  0.535167 &  0.029869 &     [10, 9, 4, 1] \\\\\n",
      "8 &  0.706353 &  0.673613 &         [5, 8, 1] \\\\\n",
      "9 &  0.927402 &  0.693116 &      [1, 5, 7, 4] \\\\\n",
      "\\bottomrule\n",
      "\\end{tabular}\n",
      "\n"
     ]
    }
   ],
   "source": [
    "print(df.to_latex())"
   ]
  },
  {
   "cell_type": "markdown",
   "metadata": {},
   "source": [
    "### Markdown  "
   ]
  },
  {
   "cell_type": "code",
   "execution_count": 17,
   "metadata": {},
   "outputs": [
    {
     "name": "stdout",
     "output_type": "stream",
     "text": [
      "|    |      col1 |      col2 | col3             |\n",
      "|---:|----------:|----------:|:-----------------|\n",
      "|  0 | 0.840138  | 0.292938  | [10, 4, 5, 7, 6] |\n",
      "|  1 | 0.0857885 | 0.832004  | [2, 10, 9]       |\n",
      "|  2 | 0.9105    | 0.270349  | [0, 4, 4, 2, 5]  |\n",
      "|  3 | 0.689022  | 0.308323  | [7, 1, 9, 9, 3]  |\n",
      "|  4 | 0.95888   | 0.523427  | [1, 6, 0]        |\n",
      "|  5 | 0.0386814 | 0.793978  | [1, 8, 0, 5]     |\n",
      "|  6 | 0.357967  | 0.95424   | [7, 5, 0, 6]     |\n",
      "|  7 | 0.535167  | 0.0298689 | [10, 9, 4, 1]    |\n",
      "|  8 | 0.706353  | 0.673613  | [5, 8, 1]        |\n",
      "|  9 | 0.927402  | 0.693116  | [1, 5, 7, 4]     |\n"
     ]
    }
   ],
   "source": [
    "print(df.to_markdown())"
   ]
  },
  {
   "cell_type": "markdown",
   "metadata": {},
   "source": [
    "### Excel  "
   ]
  },
  {
   "cell_type": "code",
   "execution_count": 23,
   "metadata": {},
   "outputs": [],
   "source": [
    "output_file_name = notebook_outbook_prefix + \"analysis.xlsx\"\n",
    "df.to_excel(output_file_name, index=False)"
   ]
  },
  {
   "cell_type": "code",
   "execution_count": 24,
   "metadata": {},
   "outputs": [
    {
     "data": {
      "text/html": [
       "<div>\n",
       "<style scoped>\n",
       "    .dataframe tbody tr th:only-of-type {\n",
       "        vertical-align: middle;\n",
       "    }\n",
       "\n",
       "    .dataframe tbody tr th {\n",
       "        vertical-align: top;\n",
       "    }\n",
       "\n",
       "    .dataframe thead th {\n",
       "        text-align: right;\n",
       "    }\n",
       "</style>\n",
       "<table border=\"1\" class=\"dataframe\">\n",
       "  <thead>\n",
       "    <tr style=\"text-align: right;\">\n",
       "      <th></th>\n",
       "      <th>col1</th>\n",
       "      <th>col2</th>\n",
       "      <th>col3</th>\n",
       "    </tr>\n",
       "  </thead>\n",
       "  <tbody>\n",
       "    <tr>\n",
       "      <th>0</th>\n",
       "      <td>0.840138</td>\n",
       "      <td>0.292938</td>\n",
       "      <td>[10, 4, 5, 7, 6]</td>\n",
       "    </tr>\n",
       "    <tr>\n",
       "      <th>1</th>\n",
       "      <td>0.085789</td>\n",
       "      <td>0.832004</td>\n",
       "      <td>[2, 10, 9]</td>\n",
       "    </tr>\n",
       "    <tr>\n",
       "      <th>2</th>\n",
       "      <td>0.910500</td>\n",
       "      <td>0.270349</td>\n",
       "      <td>[0, 4, 4, 2, 5]</td>\n",
       "    </tr>\n",
       "    <tr>\n",
       "      <th>3</th>\n",
       "      <td>0.689022</td>\n",
       "      <td>0.308323</td>\n",
       "      <td>[7, 1, 9, 9, 3]</td>\n",
       "    </tr>\n",
       "    <tr>\n",
       "      <th>4</th>\n",
       "      <td>0.958880</td>\n",
       "      <td>0.523427</td>\n",
       "      <td>[1, 6, 0]</td>\n",
       "    </tr>\n",
       "    <tr>\n",
       "      <th>5</th>\n",
       "      <td>0.038681</td>\n",
       "      <td>0.793978</td>\n",
       "      <td>[1, 8, 0, 5]</td>\n",
       "    </tr>\n",
       "    <tr>\n",
       "      <th>6</th>\n",
       "      <td>0.357967</td>\n",
       "      <td>0.954240</td>\n",
       "      <td>[7, 5, 0, 6]</td>\n",
       "    </tr>\n",
       "    <tr>\n",
       "      <th>7</th>\n",
       "      <td>0.535167</td>\n",
       "      <td>0.029869</td>\n",
       "      <td>[10, 9, 4, 1]</td>\n",
       "    </tr>\n",
       "    <tr>\n",
       "      <th>8</th>\n",
       "      <td>0.706353</td>\n",
       "      <td>0.673613</td>\n",
       "      <td>[5, 8, 1]</td>\n",
       "    </tr>\n",
       "    <tr>\n",
       "      <th>9</th>\n",
       "      <td>0.927402</td>\n",
       "      <td>0.693116</td>\n",
       "      <td>[1, 5, 7, 4]</td>\n",
       "    </tr>\n",
       "  </tbody>\n",
       "</table>\n",
       "</div>"
      ],
      "text/plain": [
       "       col1      col2              col3\n",
       "0  0.840138  0.292938  [10, 4, 5, 7, 6]\n",
       "1  0.085789  0.832004        [2, 10, 9]\n",
       "2  0.910500  0.270349   [0, 4, 4, 2, 5]\n",
       "3  0.689022  0.308323   [7, 1, 9, 9, 3]\n",
       "4  0.958880  0.523427         [1, 6, 0]\n",
       "5  0.038681  0.793978      [1, 8, 0, 5]\n",
       "6  0.357967  0.954240      [7, 5, 0, 6]\n",
       "7  0.535167  0.029869     [10, 9, 4, 1]\n",
       "8  0.706353  0.673613         [5, 8, 1]\n",
       "9  0.927402  0.693116      [1, 5, 7, 4]"
      ]
     },
     "execution_count": 24,
     "metadata": {},
     "output_type": "execute_result"
    }
   ],
   "source": [
    "df_xlsx = pd.read_excel(output_file_name)\n",
    "df_xlsx"
   ]
  },
  {
   "cell_type": "markdown",
   "metadata": {},
   "source": [
    "### Text  "
   ]
  },
  {
   "cell_type": "code",
   "execution_count": 25,
   "metadata": {},
   "outputs": [
    {
     "name": "stdout",
     "output_type": "stream",
     "text": [
      "       col1      col2              col3\n",
      "0  0.840138  0.292938  [10, 4, 5, 7, 6]\n",
      "1  0.085789  0.832004        [2, 10, 9]\n",
      "2  0.910500  0.270349   [0, 4, 4, 2, 5]\n",
      "3  0.689022  0.308323   [7, 1, 9, 9, 3]\n",
      "4  0.958880  0.523427         [1, 6, 0]\n",
      "5  0.038681  0.793978      [1, 8, 0, 5]\n",
      "6  0.357967  0.954240      [7, 5, 0, 6]\n",
      "7  0.535167  0.029869     [10, 9, 4, 1]\n",
      "8  0.706353  0.673613         [5, 8, 1]\n",
      "9  0.927402  0.693116      [1, 5, 7, 4]\n"
     ]
    }
   ],
   "source": [
    "print(df.to_string())"
   ]
  },
  {
   "cell_type": "code",
   "execution_count": null,
   "metadata": {},
   "outputs": [],
   "source": []
  }
 ],
 "metadata": {
  "kernelspec": {
   "display_name": "Python 3",
   "language": "python",
   "name": "python3"
  },
  "language_info": {
   "codemirror_mode": {
    "name": "ipython",
    "version": 3
   },
   "file_extension": ".py",
   "mimetype": "text/x-python",
   "name": "python",
   "nbconvert_exporter": "python",
   "pygments_lexer": "ipython3",
   "version": "3.7.7"
  }
 },
 "nbformat": 4,
 "nbformat_minor": 4
}
