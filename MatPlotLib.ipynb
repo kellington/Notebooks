{
 "metadata": {
  "name": "",
  "signature": "sha256:ea54802a27601417882b8923aaaa70a093e7cc29fbf4551d00a62a069041fb72"
 },
 "nbformat": 3,
 "nbformat_minor": 0,
 "worksheets": [
  {
   "cells": [
    {
     "cell_type": "heading",
     "level": 1,
     "metadata": {},
     "source": [
      "\n",
      "http://www.leancrew.com/all-this/2015/01/labeling-time-series/\n"
     ]
    },
    {
     "cell_type": "code",
     "collapsed": false,
     "input": [
      "from matplotlib import pyplot as plt\n",
      "from matplotlib import dates\n",
      "from datetime import datetime\n",
      "import sys\n",
      "\n",
      "d = []\n",
      "t = []\n",
      "for line in sys.stdin:\n",
      "  dstamp, temp = line.rstrip().split('\\t')\n",
      "  d.append(datetime.strptime(dstamp, '%Y-%m-%d-%H-%M'))\n",
      "  t.append(int(temp))\n",
      "\n",
      "days = dates.DayLocator()\n",
      "hours = dates.HourLocator()\n",
      "dfmt = dates.DateFormatter('%b %d')\n",
      "\n",
      "datemin = datetime(2015, 1, 4, 0, 0)\n",
      "datemax = datetime(2015, 1, 12, 0, 0)\n",
      "\n",
      "fig = plt.figure()\n",
      "ax = fig.add_subplot(111)\n",
      "ax.xaxis.set_major_locator(days)\n",
      "ax.xaxis.set_major_formatter(dfmt)\n",
      "ax.xaxis.set_minor_locator(hours)\n",
      "ax.set_xlim(datemin, datemax)\n",
      "ax.set_ylabel('Temperature (F)')\n",
      "ax.plot(d, t, linewidth=2)\n",
      "fig.set_size_inches(8, 4)\n",
      "\n",
      "plt.savefig('temperatures.pdf', format='pdf')"
     ],
     "language": "python",
     "metadata": {},
     "outputs": [
      {
       "metadata": {},
       "output_type": "display_data",
       "png": "[encoded data removed]",
       "text": [
        "<matplotlib.figure.Figure at 0x10e682790>"
       ]
      }
     ],
     "prompt_number": 1
    },
    {
     "cell_type": "code",
     "collapsed": false,
     "input": [],
     "language": "python",
     "metadata": {},
     "outputs": [
      {
       "output_type": "stream",
       "stream": "stdout",
       "text": [
        "<matplotlib.dates.DayLocator object at 0x10e682590>\n"
       ]
      }
     ],
     "prompt_number": 2
    },
    {
     "cell_type": "code",
     "collapsed": false,
     "input": [],
     "language": "python",
     "metadata": {},
     "outputs": []
    },
    {
     "cell_type": "code",
     "collapsed": false,
     "input": [],
     "language": "python",
     "metadata": {},
     "outputs": []
    }
   ],
   "metadata": {}
  }
 ]
}