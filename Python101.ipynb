{
 "metadata": {
  "name": "",
  "signature": "sha256:bc6bcdfd8583d2a678c9307c916db26d5a938d2dde353d1cf142599fed0e7c20"
 },
 "nbformat": 3,
 "nbformat_minor": 0,
 "worksheets": [
  {
   "cells": [
    {
     "cell_type": "code",
     "collapsed": false,
     "input": [
      "import calendar\n",
      "c = calendar.TextCalendar(calendar.SUNDAY)\n",
      "c.prmonth(2015, 1)"
     ],
     "language": "python",
     "metadata": {},
     "outputs": [
      {
       "output_type": "stream",
       "stream": "stdout",
       "text": [
        "    January 2015\n",
        "Su Mo Tu We Th Fr Sa\n",
        "             1  2  3\n",
        " 4  5  6  7  8  9 10\n",
        "11 12 13 14 15 16 17\n",
        "18 19 20 21 22 23 24\n",
        "25 26 27 28 29 30 31\n"
       ]
      }
     ],
     "prompt_number": 2
    },
    {
     "cell_type": "code",
     "collapsed": false,
     "input": [],
     "language": "python",
     "metadata": {},
     "outputs": []
    }
   ],
   "metadata": {}
  }
 ]
}