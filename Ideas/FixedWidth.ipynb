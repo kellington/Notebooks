{
 "cells": [
  {
   "cell_type": "markdown",
   "metadata": {},
   "source": [
    "# Ideas - Dealing with Fixed Width"
   ]
  },
  {
   "cell_type": "code",
   "execution_count": 8,
   "metadata": {},
   "outputs": [],
   "source": [
    "from datetime import datetime\n",
    "import pandas as pd\n",
    "import numpy as np\n",
    "import boto3\n",
    "import glob\n",
    "import json\n",
    "import math\n",
    "import io\n",
    "import os\n",
    "import csv\n",
    "from flatten_json import flatten\n",
    "import operator\n",
    "from collections import Counter\n",
    "from numpy import nan"
   ]
  },
  {
   "cell_type": "code",
   "execution_count": 73,
   "metadata": {},
   "outputs": [],
   "source": [
    "pd.options.display.max_columns = None\n",
    "pd.options.display.max_rows = None\n",
    "pd.options.display.max_colwidth = -1\n",
    "pd.set_option('colheader_justify', 'left')\n",
    "pd.set_option('mode.chained_assignment', None) # disable the SettingwithCopyWarning"
   ]
  },
  {
   "cell_type": "code",
   "execution_count": null,
   "metadata": {},
   "outputs": [],
   "source": []
  },
  {
   "cell_type": "code",
   "execution_count": 90,
   "metadata": {},
   "outputs": [],
   "source": [
    "test_file = 'TestFixedWidth.txt'"
   ]
  },
  {
   "cell_type": "code",
   "execution_count": 91,
   "metadata": {},
   "outputs": [],
   "source": [
    "df = pd.read_fwf(test_file)\n",
    "df.name = test_file\n",
    "df['fileName'] = test_file"
   ]
  },
  {
   "cell_type": "code",
   "execution_count": 92,
   "metadata": {},
   "outputs": [
    {
     "data": {
      "text/html": [
       "<div>\n",
       "<style scoped>\n",
       "    .dataframe tbody tr th:only-of-type {\n",
       "        vertical-align: middle;\n",
       "    }\n",
       "\n",
       "    .dataframe tbody tr th {\n",
       "        vertical-align: top;\n",
       "    }\n",
       "\n",
       "    .dataframe thead th {\n",
       "        text-align: right;\n",
       "    }\n",
       "</style>\n",
       "<table border=\"1\" class=\"dataframe\">\n",
       "  <thead>\n",
       "    <tr style=\"text-align: left;\">\n",
       "      <th></th>\n",
       "      <th>head1     head2  head3                         head4</th>\n",
       "      <th>fileName</th>\n",
       "    </tr>\n",
       "  </thead>\n",
       "  <tbody>\n",
       "    <tr>\n",
       "      <td>0</td>\n",
       "      <td>123456789012345671234567890123456789012345678901234567890</td>\n",
       "      <td>TestFixedWidth.txt</td>\n",
       "    </tr>\n",
       "    <tr>\n",
       "      <td>1</td>\n",
       "      <td>data1     d1-2   d1-3                          d1-4</td>\n",
       "      <td>TestFixedWidth.txt</td>\n",
       "    </tr>\n",
       "    <tr>\n",
       "      <td>2</td>\n",
       "      <td>f1=10     f2=7   f3=30                         f4=10</td>\n",
       "      <td>TestFixedWidth.txt</td>\n",
       "    </tr>\n",
       "  </tbody>\n",
       "</table>\n",
       "</div>"
      ],
      "text/plain": [
       "  head1     head2  head3                         head4        \\\n",
       "0  123456789012345671234567890123456789012345678901234567890   \n",
       "1  data1     d1-2   d1-3                          d1-4         \n",
       "2  f1=10     f2=7   f3=30                         f4=10        \n",
       "\n",
       "  fileName             \n",
       "0  TestFixedWidth.txt  \n",
       "1  TestFixedWidth.txt  \n",
       "2  TestFixedWidth.txt  "
      ]
     },
     "execution_count": 92,
     "metadata": {},
     "output_type": "execute_result"
    }
   ],
   "source": [
    "df"
   ]
  },
  {
   "cell_type": "code",
   "execution_count": 93,
   "metadata": {},
   "outputs": [],
   "source": [
    "with open(test_file) as f:\n",
    "    first_line = f.readline()"
   ]
  },
  {
   "cell_type": "code",
   "execution_count": 94,
   "metadata": {},
   "outputs": [
    {
     "data": {
      "text/plain": [
       "'head1     head2  head3                         head4     \\n'"
      ]
     },
     "execution_count": 94,
     "metadata": {},
     "output_type": "execute_result"
    }
   ],
   "source": [
    "first_line"
   ]
  },
  {
   "cell_type": "code",
   "execution_count": 95,
   "metadata": {},
   "outputs": [],
   "source": [
    "headers = first_line.split()"
   ]
  },
  {
   "cell_type": "code",
   "execution_count": 102,
   "metadata": {},
   "outputs": [
    {
     "data": {
      "text/plain": [
       "['head1', 'head2', 'head3', 'head4']"
      ]
     },
     "execution_count": 102,
     "metadata": {},
     "output_type": "execute_result"
    }
   ],
   "source": [
    "headers"
   ]
  },
  {
   "cell_type": "code",
   "execution_count": 103,
   "metadata": {},
   "outputs": [
    {
     "name": "stdout",
     "output_type": "stream",
     "text": [
      "['head1', 'head2', 'head3', 'head4']\n"
     ]
    }
   ],
   "source": [
    "print(headers)"
   ]
  },
  {
   "cell_type": "code",
   "execution_count": 97,
   "metadata": {},
   "outputs": [],
   "source": [
    "widths = [10, 7, 30, 10]\n",
    "#df_fixed = pd.read_fwf(test_file, widths=widths, names=headers)\n",
    "df_fixed = pd.read_fwf(test_file, widths=widths)"
   ]
  },
  {
   "cell_type": "code",
   "execution_count": 98,
   "metadata": {},
   "outputs": [
    {
     "data": {
      "text/html": [
       "<div>\n",
       "<style scoped>\n",
       "    .dataframe tbody tr th:only-of-type {\n",
       "        vertical-align: middle;\n",
       "    }\n",
       "\n",
       "    .dataframe tbody tr th {\n",
       "        vertical-align: top;\n",
       "    }\n",
       "\n",
       "    .dataframe thead th {\n",
       "        text-align: right;\n",
       "    }\n",
       "</style>\n",
       "<table border=\"1\" class=\"dataframe\">\n",
       "  <thead>\n",
       "    <tr style=\"text-align: left;\">\n",
       "      <th></th>\n",
       "      <th>head1</th>\n",
       "      <th>head2</th>\n",
       "      <th>head3</th>\n",
       "      <th>head4</th>\n",
       "    </tr>\n",
       "  </thead>\n",
       "  <tbody>\n",
       "    <tr>\n",
       "      <td>0</td>\n",
       "      <td>1234567890</td>\n",
       "      <td>1234567</td>\n",
       "      <td>123456789012345678901234567890</td>\n",
       "      <td>1234567890</td>\n",
       "    </tr>\n",
       "    <tr>\n",
       "      <td>1</td>\n",
       "      <td>data1</td>\n",
       "      <td>d1-2</td>\n",
       "      <td>d1-3</td>\n",
       "      <td>d1-4</td>\n",
       "    </tr>\n",
       "    <tr>\n",
       "      <td>2</td>\n",
       "      <td>f1=10</td>\n",
       "      <td>f2=7</td>\n",
       "      <td>f3=30</td>\n",
       "      <td>f4=10</td>\n",
       "    </tr>\n",
       "  </tbody>\n",
       "</table>\n",
       "</div>"
      ],
      "text/plain": [
       "  head1       head2    head3                           head4      \n",
       "0  1234567890  1234567  123456789012345678901234567890  1234567890\n",
       "1  data1       d1-2     d1-3                            d1-4      \n",
       "2  f1=10       f2=7     f3=30                           f4=10     "
      ]
     },
     "execution_count": 98,
     "metadata": {},
     "output_type": "execute_result"
    }
   ],
   "source": [
    "df_fixed"
   ]
  },
  {
   "cell_type": "code",
   "execution_count": 99,
   "metadata": {},
   "outputs": [
    {
     "data": {
      "text/plain": [
       "'head1     head2  head3                         head4     \\n'"
      ]
     },
     "execution_count": 99,
     "metadata": {},
     "output_type": "execute_result"
    }
   ],
   "source": [
    "# find widths using first line \n",
    "#  - assumes at least 1 space between columns\n",
    "#  - and final field goes to end of line\n",
    "first_line"
   ]
  },
  {
   "cell_type": "code",
   "execution_count": 101,
   "metadata": {},
   "outputs": [
    {
     "name": "stdout",
     "output_type": "stream",
     "text": [
      "10\n",
      "7\n",
      "30\n",
      "10\n"
     ]
    },
    {
     "data": {
      "text/plain": [
       "[10, 7, 30, 10]"
      ]
     },
     "execution_count": 101,
     "metadata": {},
     "output_type": "execute_result"
    }
   ],
   "source": [
    "w = list()\n",
    "c = 0\n",
    "new_field = False\n",
    "for elem in first_line:\n",
    "#     if elem == '\\n':\n",
    "#         print('END OF LINE')\n",
    "#         print(c)\n",
    "#         w.append(c)\n",
    "    if elem == ' ':\n",
    "        new_field = True\n",
    "    if new_field and elem != ' ':\n",
    "        w.append(c)\n",
    "        print(c)\n",
    "        new_field = False\n",
    "        c = 0\n",
    "\n",
    "    c += 1\n",
    "\n",
    "w"
   ]
  },
  {
   "cell_type": "markdown",
   "metadata": {},
   "source": [
    "## Make a function  "
   ]
  },
  {
   "cell_type": "code",
   "execution_count": 131,
   "metadata": {},
   "outputs": [],
   "source": [
    "def df_from_fixedfile (in_file):\n",
    "    \n",
    "    # Need the first line to get field lengths\n",
    "    with open(in_file) as f:\n",
    "        first_line = f.readline()\n",
    "\n",
    "    # these are the fields being created\n",
    "    headers = first_line.split()\n",
    "    print ('Preparing to load dataframe with fields: ' + str(headers))\n",
    "    \n",
    "    \n",
    "    # parse the first line to get field lengths\n",
    "    widths = list()\n",
    "    c = 0\n",
    "    new_field = False\n",
    "    for elem in first_line:\n",
    "        if elem == ' ':\n",
    "            new_field = True\n",
    "        if new_field and elem != ' ':\n",
    "            widths.append(c)\n",
    "            new_field = False\n",
    "            c = 0\n",
    "        c += 1\n",
    "\n",
    "    # check\n",
    "    assert (len(widths) == len(headers)),\"Field Lengths don't align with Headers!\"\n",
    "        \n",
    "    for f, w in zip(headers, widths): \n",
    "        print (\"Field :  %s     Width : %d\" %(f, w)) \n",
    "\n",
    "    df_fixed = pd.read_fwf(in_file, widths=widths)\n",
    "    return df_fixed"
   ]
  },
  {
   "cell_type": "code",
   "execution_count": 132,
   "metadata": {},
   "outputs": [
    {
     "name": "stdout",
     "output_type": "stream",
     "text": [
      "Preparing to load dataframe with fields: ['head1', 'head2', 'head3', 'head4']\n",
      "Field :  head1     Width : 10\n",
      "Field :  head2     Width : 7\n",
      "Field :  head3     Width : 30\n",
      "Field :  head4     Width : 10\n"
     ]
    },
    {
     "data": {
      "text/html": [
       "<div>\n",
       "<style scoped>\n",
       "    .dataframe tbody tr th:only-of-type {\n",
       "        vertical-align: middle;\n",
       "    }\n",
       "\n",
       "    .dataframe tbody tr th {\n",
       "        vertical-align: top;\n",
       "    }\n",
       "\n",
       "    .dataframe thead th {\n",
       "        text-align: right;\n",
       "    }\n",
       "</style>\n",
       "<table border=\"1\" class=\"dataframe\">\n",
       "  <thead>\n",
       "    <tr style=\"text-align: left;\">\n",
       "      <th></th>\n",
       "      <th>head1</th>\n",
       "      <th>head2</th>\n",
       "      <th>head3</th>\n",
       "      <th>head4</th>\n",
       "    </tr>\n",
       "  </thead>\n",
       "  <tbody>\n",
       "    <tr>\n",
       "      <td>0</td>\n",
       "      <td>1234567890</td>\n",
       "      <td>1234567</td>\n",
       "      <td>123456789012345678901234567890</td>\n",
       "      <td>1234567890</td>\n",
       "    </tr>\n",
       "    <tr>\n",
       "      <td>1</td>\n",
       "      <td>data1</td>\n",
       "      <td>d1-2</td>\n",
       "      <td>d1-3</td>\n",
       "      <td>d1-4</td>\n",
       "    </tr>\n",
       "    <tr>\n",
       "      <td>2</td>\n",
       "      <td>f1=10</td>\n",
       "      <td>f2=7</td>\n",
       "      <td>f3=30</td>\n",
       "      <td>f4=10</td>\n",
       "    </tr>\n",
       "  </tbody>\n",
       "</table>\n",
       "</div>"
      ],
      "text/plain": [
       "  head1       head2    head3                           head4      \n",
       "0  1234567890  1234567  123456789012345678901234567890  1234567890\n",
       "1  data1       d1-2     d1-3                            d1-4      \n",
       "2  f1=10       f2=7     f3=30                           f4=10     "
      ]
     },
     "execution_count": 132,
     "metadata": {},
     "output_type": "execute_result"
    }
   ],
   "source": [
    "# testing\n",
    "df = df_from_fixedfile (test_file)\n",
    "df"
   ]
  },
  {
   "cell_type": "markdown",
   "metadata": {},
   "source": [
    "# DONE"
   ]
  },
  {
   "cell_type": "markdown",
   "metadata": {},
   "source": [
    "### Red Herring .... not what I wanted   \n",
    "below is from  \n",
    "https://stackoverflow.com/questions/9721429/how-do-i-read-a-fix-width-format-text-file-in-pandas  \n",
    "and V2 python so a little flaky  "
   ]
  },
  {
   "cell_type": "code",
   "execution_count": 40,
   "metadata": {},
   "outputs": [],
   "source": [
    "def fixed_width_to_items(filename, fields, first_column_is_index=False, ignore_first_rows=0):\n",
    "    reader = open(filename, 'r+')\n",
    "    # skip first rows \n",
    "    for i in range(ignore_first_rows):\n",
    "        reader.readline()\n",
    "    if first_column_is_index:\n",
    "        index = slice(0, fields[1])\n",
    "        fields = [slice(*x) for x  in zip(fields[1:-1], fields[2:])]\n",
    "        return ((line[index], [line[x].strip() for x in fields]) for line in reader)\n",
    "    else:\n",
    "        fields = [slice(*x) for x  in zip(fields[:-1], fields[1:])]\n",
    "        return ((i, [line[x].strip() for x in fields]) for i,line in enumerate(reader)) \n"
   ]
  },
  {
   "cell_type": "code",
   "execution_count": 56,
   "metadata": {},
   "outputs": [
    {
     "name": "stdout",
     "output_type": "stream",
     "text": [
      "          0         1         2         3         4\n",
      "0  0.000996 -0.511832  0.547574 -0.185335  2.241652\n",
      "1  0.030817 -0.748530  1.863612 -0.621193  0.556809\n",
      "2 -1.103929  0.160402  0.889361  2.086914 -0.368338\n",
      "3  2.733203  0.391572 -0.496395  0.896599 -0.323682\n",
      "4  1.190319 -1.401182  0.822401  0.412505 -1.683764\n",
      "          0         1         2         3         4\n",
      "0  0.000996 -0.511832  0.547574 -0.185335  2.241652\n",
      "1  0.030817 -0.748530  1.863612 -0.621193  0.556809\n",
      "2 -1.103929  0.160402  0.889361  2.086914 -0.368338\n",
      "3  2.733203  0.391572 -0.496395  0.896599 -0.323682\n",
      "4  1.190319 -1.401182  0.822401  0.412505 -1.683764\n"
     ]
    },
    {
     "name": "stderr",
     "output_type": "stream",
     "text": [
      "/Users/Rob/anaconda3/lib/python3.7/site-packages/ipykernel_launcher.py:16: FutureWarning: from_items is deprecated. Please use DataFrame.from_dict(dict(items), ...) instead. DataFrame.from_dict(OrderedDict(items)) may be used to preserve the key order.\n",
      "  app.launch_new_instance()\n"
     ]
    }
   ],
   "source": [
    "import pandas\n",
    "import numpy\n",
    "import tempfile\n",
    "\n",
    "# create a data frame\n",
    "df = pandas.DataFrame(numpy.random.randn(100, 5))\n",
    "file_ = tempfile.NamedTemporaryFile(mode='w+t',delete=True)\n",
    "file_.write(df.to_string())\n",
    "file_.flush()\n",
    "\n",
    "# to see the data ...\n",
    "# !cat $file_.name\n",
    "\n",
    "# specify fields\n",
    "fields = [0, 3, 12, 22, 32, 42, 52]\n",
    "df2 = pandas.DataFrame.from_items( fixed_width_to_items(file_.name, fields, first_column_is_index=True, ignore_first_rows=1) ).T\n",
    "\n",
    "print(df.head())\n",
    "\n",
    "# need to specify the datatypes, otherwise everything is a string\n",
    "df2 = pandas.DataFrame(df2, dtype=float)\n",
    "df2.index = [int(x) for x in df2.index]\n",
    "\n",
    "\n",
    "print(df2.head())\n",
    "\n",
    "\n",
    "\n",
    "# check\n",
    "assert (df - df2).abs().max().max() < 1E-6"
   ]
  },
  {
   "cell_type": "code",
   "execution_count": 23,
   "metadata": {},
   "outputs": [
    {
     "data": {
      "text/plain": [
       "<tempfile._TemporaryFileWrapper at 0x121c28710>"
      ]
     },
     "execution_count": 23,
     "metadata": {},
     "output_type": "execute_result"
    }
   ],
   "source": [
    "file_"
   ]
  },
  {
   "cell_type": "code",
   "execution_count": 37,
   "metadata": {},
   "outputs": [
    {
     "data": {
      "text/plain": [
       "_io.TextIOWrapper"
      ]
     },
     "execution_count": 37,
     "metadata": {},
     "output_type": "execute_result"
    }
   ],
   "source": [
    "reader = open(test_file, 'r')\n",
    "type(reader)"
   ]
  },
  {
   "cell_type": "code",
   "execution_count": 32,
   "metadata": {},
   "outputs": [
    {
     "name": "stdout",
     "output_type": "stream",
     "text": [
      "0\n",
      "1\n",
      "2\n",
      "3\n",
      "4\n",
      "5\n",
      "6\n",
      "7\n",
      "8\n",
      "9\n"
     ]
    }
   ],
   "source": [
    "for i in range(10):\n",
    "    print(i)"
   ]
  },
  {
   "cell_type": "code",
   "execution_count": 30,
   "metadata": {},
   "outputs": [
    {
     "name": "stdout",
     "output_type": "stream",
     "text": [
      "           0         1         2         3         4\n",
      "0   1.542481 -0.381571  0.396385 -0.805327 -2.859339\n",
      "1   0.413153  0.471801 -0.096420 -0.048273  1.397348\n",
      "2  -0.689513  1.974896 -1.573189 -0.675019  0.953947\n",
      "3  -1.430628 -0.845663 -0.806684  0.520087 -0.127139\n",
      "4   0.645987  0.848140  0.107414 -1.447902 -0.598712\n",
      "5   0.013328 -0.857769  0.262768 -0.202442  1.705372\n",
      "6  -0.001290 -1.096686 -0.748881 -0.386024  0.984038\n",
      "7   0.911516  0.110086  0.063316 -0.588026 -0.597471\n",
      "8  -0.475004 -0.200050  0.345783 -0.368519  0.661583\n",
      "9  -0.712458  0.603031  0.786267  0.278901  1.188164\n",
      "10  0.796933 -1.472363  1.074477 -1.118687  0.133539\n",
      "11 -0.546450  0.656727  0.982765  0.514329  1.136790\n",
      "12  0.267614 -1.559825  0.588456 -1.269471  0.055710\n",
      "13  0.955381 -1.606156  0.116972  0.449469  0.149579\n",
      "14 -0.284648  0.659659  0.155021  1.498994 -1.295744\n",
      "15  1.142939 -1.243861 -0.208409 -1.637410  0.551201\n",
      "16  0.912642  0.553739  1.001158  1.199589 -1.398569\n",
      "17 -1.172962  0.617984 -1.270453  1.016715  0.929995\n",
      "18  0.430528 -2.159099 -0.626826 -1.590156  0.168490\n",
      "19 -0.214285 -0.038642  0.428799  1.074533  1.956590\n",
      "20  2.076529  1.168287  0.213225  0.785076 -0.006378\n",
      "21  0.986777 -0.189909  1.060474 -0.325960  0.343820\n",
      "22 -0.364385 -0.203553 -0.933511  0.055776 -0.878259\n",
      "23  0.410151  0.074111  0.641850  0.788977  1.276962\n",
      "24  0.457652  0.369961  1.131247  0.167616  2.052850\n",
      "25  1.551469 -0.310082 -0.275322 -0.234413 -1.287429\n",
      "26  2.034642  0.731431 -0.595087 -0.865970 -0.637904\n",
      "27  0.685087  0.340183 -0.167249 -0.874448  0.294505\n",
      "28  0.724557 -0.242917  0.526755  0.263005  0.440726\n",
      "29 -0.091352 -0.338620  0.139972  0.471353 -1.162088\n",
      "30  0.132823  0.634957  0.357650  1.238074 -0.234038\n",
      "31 -0.142614 -0.758066 -1.228336  1.593694  0.435437\n",
      "32 -0.301576  0.632893 -0.570839  0.869211 -0.639878\n",
      "33 -0.422829  0.867674 -0.699333  0.289209 -1.454680\n",
      "34  0.676537 -2.285546 -1.501313 -0.679428 -0.739187\n",
      "35 -0.355786 -0.760237  1.030766  1.170849  0.083665\n",
      "36 -0.173835 -0.074418 -0.513280 -2.310054 -0.290583\n",
      "37 -0.375503 -0.431314  0.412708 -1.415196  0.274151\n",
      "38 -1.021698  0.652723 -0.123536  0.157026 -0.607435\n",
      "39  0.837109  1.092985  0.230570  0.732459  0.091032\n",
      "40  0.526526 -1.180826 -0.265788  0.153107  0.865746\n",
      "41  0.081364  2.557861  1.112527 -0.593038 -0.224453\n",
      "42  0.603041  0.082360 -0.965478  1.180954  0.161805\n",
      "43 -0.100078  1.383704 -0.690102  0.109954  0.081380\n",
      "44  1.544957 -0.100590  0.086504 -0.375542 -0.406562\n",
      "45 -1.131405  0.590400  0.016128  1.214528  0.184443\n",
      "46 -0.391615 -0.604850  0.175854 -1.319081 -1.379529\n",
      "47  0.551924  0.346779 -0.572222  1.736143 -0.500416\n",
      "48 -0.135578 -2.113011  1.680020 -0.259331  0.201620\n",
      "49 -0.545809 -0.905436  1.201481 -0.768907 -0.631890\n",
      "50 -0.628617  0.741591 -1.781967 -1.339434 -0.787064\n",
      "51  0.141532 -0.936866  2.274879  1.911206  0.132403\n",
      "52 -0.056432  0.970377 -1.356896  0.456108  0.830333\n",
      "53 -0.433148 -0.271470 -0.927119  0.192763 -1.247572\n",
      "54 -0.649856 -0.047418  2.429270  0.675037 -0.292504\n",
      "55  2.064306  1.043676  1.253409  0.323521  0.742748\n",
      "56 -0.201119 -1.410135 -1.402842 -1.185199  0.800522\n",
      "57 -1.390278 -0.817799 -0.682632  0.848830 -1.567692\n",
      "58 -2.271421 -1.163104 -0.810675  0.432673 -1.643878\n",
      "59  1.257971  0.580331 -0.838559  0.957171  0.502527\n",
      "60  1.884946 -0.472261  1.906942 -2.089660 -1.188387\n",
      "61  0.893878  0.984904  0.895308 -0.004814 -0.263517\n",
      "62  0.296293 -0.562784 -1.410941  1.211953 -0.313792\n",
      "63  2.134488 -0.103318  1.232904 -0.324550 -1.670139\n",
      "64 -0.249120  0.423356  0.008918 -1.742127  0.526917\n",
      "65 -0.314786  1.940534  1.234182 -0.907917 -0.266542\n",
      "66 -0.998177  0.929427  0.234346 -0.724882 -0.440822\n",
      "67  0.564980  0.659434  0.939437  0.838713 -2.474020\n",
      "68 -0.694478 -0.783928  1.148249  1.136433  0.455192\n",
      "69  1.615524  0.499980  0.644130  0.485516  1.264935\n",
      "70 -0.336746 -1.232302  0.433465 -0.254714  1.082115\n",
      "71 -0.233855 -0.907069  0.617199  0.372538  0.947106\n",
      "72 -0.859808 -0.665029  0.712432 -0.644131  0.738726\n",
      "73  0.685424  2.397178 -1.036914  0.480590  0.077031\n",
      "74 -2.593669  2.102050 -0.802297  0.448787  0.710921\n",
      "75 -0.903229  0.942732  1.905383 -0.550784 -1.303970\n",
      "76 -0.507866  1.052545 -1.382832 -1.103808  0.980157\n",
      "77 -0.125268  0.186332  1.114912  0.325399  0.128746\n",
      "78 -2.441293 -0.255835 -0.064267 -0.208857 -2.120430\n",
      "79 -0.570524  1.341337  0.860971  0.466622  0.508439\n",
      "80 -0.199808  1.003964  1.326992 -0.298650  0.042212\n",
      "81 -0.199069  0.186231  1.549842  0.500950  0.197148\n",
      "82 -0.445482 -1.451002 -3.172922  1.724341 -0.436973\n",
      "83  0.347154 -1.239461  1.468269  1.314353  0.188596\n",
      "84 -0.313023  2.236463 -0.162560 -0.211020 -0.558899\n",
      "85  0.852969  0.405502  1.290949  0.331962 -0.438591\n",
      "86  0.307232  0.013292  0.202580 -1.248575 -1.323678\n",
      "87  0.007900 -0.154888  0.521478 -0.511792  2.098502\n",
      "88 -0.810472 -0.557721  0.138706 -0.749187  0.166059\n",
      "89 -1.041668 -0.744818  0.284378 -2.384546 -1.985731\n",
      "90  0.347323 -0.739335 -1.365845  0.069510  2.010076\n",
      "91 -0.486469 -0.835083 -0.472532 -0.423035 -0.225438\n",
      "92 -0.285966 -0.407786  0.133675 -0.194135 -1.389965\n",
      "93 -0.097726 -0.445279 -0.522093  0.390592  0.703144\n",
      "94  0.328572 -0.934080  0.646547  2.239810 -0.491884\n",
      "95 -0.809642  0.231944  0.848809  0.467940  1.647684\n",
      "96 -0.748703 -1.220769  0.959678  0.038659  0.431326\n",
      "97  0.659720 -0.385423  0.000269 -2.340440  1.928718\n",
      "98  0.244924 -0.540011 -0.128188 -0.619724 -0.192789\n",
      "99 -0.116684 -1.239638  1.986864  0.037384  1.562039"
     ]
    }
   ],
   "source": [
    "!cat $file_.name"
   ]
  },
  {
   "cell_type": "code",
   "execution_count": null,
   "metadata": {},
   "outputs": [],
   "source": []
  }
 ],
 "metadata": {
  "kernelspec": {
   "display_name": "Python 3",
   "language": "python",
   "name": "python3"
  },
  "language_info": {
   "codemirror_mode": {
    "name": "ipython",
    "version": 3
   },
   "file_extension": ".py",
   "mimetype": "text/x-python",
   "name": "python",
   "nbconvert_exporter": "python",
   "pygments_lexer": "ipython3",
   "version": "3.7.4"
  }
 },
 "nbformat": 4,
 "nbformat_minor": 4
}
