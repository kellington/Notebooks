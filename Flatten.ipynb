{
 "cells": [
  {
   "cell_type": "markdown",
   "metadata": {},
   "source": [
    "# Flatten  \n",
    "\n",
    "https://medium.com/better-programming/how-to-flatten-a-dictionary-with-nested-lists-and-dictionaries-in-python-524fd236365\n",
    "\n",
    "Not what I want.  Usually, it will be a list of jason that needs to be flattened, into a data frame"
   ]
  },
  {
   "cell_type": "code",
   "execution_count": 11,
   "metadata": {},
   "outputs": [],
   "source": [
    "import pandas as pd\n",
    "from pprint import pprint"
   ]
  },
  {
   "cell_type": "code",
   "execution_count": 4,
   "metadata": {},
   "outputs": [],
   "source": [
    "def flatten(d,sep=\"_\"):\n",
    "    import collections\n",
    "\n",
    "    obj = collections.OrderedDict()\n",
    "\n",
    "    def recurse(t,parent_key=\"\"):\n",
    "        \n",
    "        if isinstance(t,list):\n",
    "            for i in range(len(t)):\n",
    "                recurse(t[i],parent_key + sep + str(i) if parent_key else str(i))\n",
    "        elif isinstance(t,dict):\n",
    "            for k,v in t.items():\n",
    "                recurse(v,parent_key + sep + k if parent_key else k)\n",
    "        else:\n",
    "            obj[parent_key] = t\n",
    "\n",
    "    recurse(d)\n",
    "\n",
    "    return obj"
   ]
  },
  {
   "cell_type": "code",
   "execution_count": 16,
   "metadata": {},
   "outputs": [],
   "source": [
    "data = [\n",
    "    {\n",
    "    \"id\": 1,\n",
    "    \"first_name\": \"Jonathan\",\n",
    "    \"last_name\": \"Hsu\",\n",
    "    \"employment_history\": [\n",
    "        {\n",
    "            \"company\": \"Black Belt Academy\",\n",
    "            \"title\": \"Instructor\",\n",
    "            \"something\": {\n",
    "                \"hello\": [1,2,3,{\n",
    "                    \"something\":\"goes\"\n",
    "                }]\n",
    "            }\n",
    "        },\n",
    "        {\n",
    "            \"company\": \"Zerion Software\",\n",
    "            \"title\": \"Solutions Engineer\"\n",
    "        }\n",
    "    ],\n",
    "    \"education\": {\n",
    "        \"bachelors\": \"Information Technology\",\n",
    "        \"masters\": \"Applied Information Technology\",\n",
    "        \"phd\": \"Higher Education\"\n",
    "    }\n",
    "},\n",
    "    {\n",
    "    \"id\": 2,\n",
    "    \"first_name\": \"bbb\",\n",
    "    \"last_name\": \"Hsu\",\n",
    "    \"employment_history\": [\n",
    "        {\n",
    "            \"company\": \"Black Belt Academy\",\n",
    "            \"title\": \"Instructor\",\n",
    "            \"something\": {\n",
    "                \"hello\": [1,2,3,{\n",
    "                    \"something\":\"goes\"\n",
    "                }]\n",
    "            }\n",
    "        },\n",
    "        {\n",
    "            \"company\": \"Zerion Software\",\n",
    "            \"title\": \"Solutions Engineer\"\n",
    "        }\n",
    "    ],\n",
    "    \"education\": {\n",
    "        \"bachelors\": \"Information Technology\",\n",
    "        \"masters\": \"Applied Information Technology\",\n",
    "        \"phd\": \"Higher Education\"\n",
    "    }\n",
    "}]"
   ]
  },
  {
   "cell_type": "code",
   "execution_count": 17,
   "metadata": {},
   "outputs": [],
   "source": [
    "results = flatten(data)"
   ]
  },
  {
   "cell_type": "code",
   "execution_count": 18,
   "metadata": {},
   "outputs": [
    {
     "data": {
      "text/plain": [
       "collections.OrderedDict"
      ]
     },
     "execution_count": 18,
     "metadata": {},
     "output_type": "execute_result"
    }
   ],
   "source": [
    "type(results)"
   ]
  },
  {
   "cell_type": "code",
   "execution_count": 19,
   "metadata": {},
   "outputs": [
    {
     "name": "stdout",
     "output_type": "stream",
     "text": [
      "OrderedDict([ ('0_id', 1),\n",
      "              ('0_first_name', 'Jonathan'),\n",
      "              ('0_last_name', 'Hsu'),\n",
      "              ('0_employment_history_0_company', 'Black Belt Academy'),\n",
      "              ('0_employment_history_0_title', 'Instructor'),\n",
      "              ('0_employment_history_0_something_hello_0', 1),\n",
      "              ('0_employment_history_0_something_hello_1', 2),\n",
      "              ('0_employment_history_0_something_hello_2', 3),\n",
      "              ('0_employment_history_0_something_hello_3_something', 'goes'),\n",
      "              ('0_employment_history_1_company', 'Zerion Software'),\n",
      "              ('0_employment_history_1_title', 'Solutions Engineer'),\n",
      "              ('0_education_bachelors', 'Information Technology'),\n",
      "              ('0_education_masters', 'Applied Information Technology'),\n",
      "              ('0_education_phd', 'Higher Education'),\n",
      "              ('1_id', 2),\n",
      "              ('1_first_name', 'bbb'),\n",
      "              ('1_last_name', 'Hsu'),\n",
      "              ('1_employment_history_0_company', 'Black Belt Academy'),\n",
      "              ('1_employment_history_0_title', 'Instructor'),\n",
      "              ('1_employment_history_0_something_hello_0', 1),\n",
      "              ('1_employment_history_0_something_hello_1', 2),\n",
      "              ('1_employment_history_0_something_hello_2', 3),\n",
      "              ('1_employment_history_0_something_hello_3_something', 'goes'),\n",
      "              ('1_employment_history_1_company', 'Zerion Software'),\n",
      "              ('1_employment_history_1_title', 'Solutions Engineer'),\n",
      "              ('1_education_bachelors', 'Information Technology'),\n",
      "              ('1_education_masters', 'Applied Information Technology'),\n",
      "              ('1_education_phd', 'Higher Education')])\n"
     ]
    }
   ],
   "source": [
    "pprint(results,indent=2)"
   ]
  },
  {
   "cell_type": "code",
   "execution_count": 9,
   "metadata": {},
   "outputs": [],
   "source": [
    "## Really want a data frame usually .... "
   ]
  },
  {
   "cell_type": "code",
   "execution_count": 14,
   "metadata": {},
   "outputs": [
    {
     "data": {
      "text/plain": [
       "odict_keys(['id', 'first_name', 'last_name', 'employment_history_0_company', 'employment_history_0_title', 'employment_history_0_something_hello_0', 'employment_history_0_something_hello_1', 'employment_history_0_something_hello_2', 'employment_history_0_something_hello_3_something', 'employment_history_1_company', 'employment_history_1_title', 'education_bachelors', 'education_masters', 'education_phd'])"
      ]
     },
     "execution_count": 14,
     "metadata": {},
     "output_type": "execute_result"
    }
   ],
   "source": [
    "results.keys()"
   ]
  },
  {
   "cell_type": "code",
   "execution_count": 15,
   "metadata": {},
   "outputs": [
    {
     "ename": "ValueError",
     "evalue": "If using all scalar values, you must pass an index",
     "output_type": "error",
     "traceback": [
      "\u001b[0;31m---------------------------------------------------------------------------\u001b[0m",
      "\u001b[0;31mValueError\u001b[0m                                Traceback (most recent call last)",
      "\u001b[0;32m<ipython-input-15-325469392340>\u001b[0m in \u001b[0;36m<module>\u001b[0;34m\u001b[0m\n\u001b[0;32m----> 1\u001b[0;31m \u001b[0mdf\u001b[0m \u001b[0;34m=\u001b[0m \u001b[0mpd\u001b[0m\u001b[0;34m.\u001b[0m\u001b[0mDataFrame\u001b[0m\u001b[0;34m(\u001b[0m\u001b[0mresults\u001b[0m\u001b[0;34m,\u001b[0m \u001b[0mcolumns\u001b[0m\u001b[0;34m=\u001b[0m\u001b[0mresults\u001b[0m\u001b[0;34m.\u001b[0m\u001b[0mkeys\u001b[0m\u001b[0;34m(\u001b[0m\u001b[0;34m)\u001b[0m\u001b[0;34m)\u001b[0m\u001b[0;34m\u001b[0m\u001b[0;34m\u001b[0m\u001b[0m\n\u001b[0m",
      "\u001b[0;32m~/anaconda3/lib/python3.7/site-packages/pandas/core/frame.py\u001b[0m in \u001b[0;36m__init__\u001b[0;34m(self, data, index, columns, dtype, copy)\u001b[0m\n\u001b[1;32m    409\u001b[0m             )\n\u001b[1;32m    410\u001b[0m         \u001b[0;32melif\u001b[0m \u001b[0misinstance\u001b[0m\u001b[0;34m(\u001b[0m\u001b[0mdata\u001b[0m\u001b[0;34m,\u001b[0m \u001b[0mdict\u001b[0m\u001b[0;34m)\u001b[0m\u001b[0;34m:\u001b[0m\u001b[0;34m\u001b[0m\u001b[0;34m\u001b[0m\u001b[0m\n\u001b[0;32m--> 411\u001b[0;31m             \u001b[0mmgr\u001b[0m \u001b[0;34m=\u001b[0m \u001b[0minit_dict\u001b[0m\u001b[0;34m(\u001b[0m\u001b[0mdata\u001b[0m\u001b[0;34m,\u001b[0m \u001b[0mindex\u001b[0m\u001b[0;34m,\u001b[0m \u001b[0mcolumns\u001b[0m\u001b[0;34m,\u001b[0m \u001b[0mdtype\u001b[0m\u001b[0;34m=\u001b[0m\u001b[0mdtype\u001b[0m\u001b[0;34m)\u001b[0m\u001b[0;34m\u001b[0m\u001b[0;34m\u001b[0m\u001b[0m\n\u001b[0m\u001b[1;32m    412\u001b[0m         \u001b[0;32melif\u001b[0m \u001b[0misinstance\u001b[0m\u001b[0;34m(\u001b[0m\u001b[0mdata\u001b[0m\u001b[0;34m,\u001b[0m \u001b[0mma\u001b[0m\u001b[0;34m.\u001b[0m\u001b[0mMaskedArray\u001b[0m\u001b[0;34m)\u001b[0m\u001b[0;34m:\u001b[0m\u001b[0;34m\u001b[0m\u001b[0;34m\u001b[0m\u001b[0m\n\u001b[1;32m    413\u001b[0m             \u001b[0;32mimport\u001b[0m \u001b[0mnumpy\u001b[0m\u001b[0;34m.\u001b[0m\u001b[0mma\u001b[0m\u001b[0;34m.\u001b[0m\u001b[0mmrecords\u001b[0m \u001b[0;32mas\u001b[0m \u001b[0mmrecords\u001b[0m\u001b[0;34m\u001b[0m\u001b[0;34m\u001b[0m\u001b[0m\n",
      "\u001b[0;32m~/anaconda3/lib/python3.7/site-packages/pandas/core/internals/construction.py\u001b[0m in \u001b[0;36minit_dict\u001b[0;34m(data, index, columns, dtype)\u001b[0m\n\u001b[1;32m    229\u001b[0m             \u001b[0;31m# GH10856\u001b[0m\u001b[0;34m\u001b[0m\u001b[0;34m\u001b[0m\u001b[0;34m\u001b[0m\u001b[0m\n\u001b[1;32m    230\u001b[0m             \u001b[0;31m# raise ValueError if only scalars in dict\u001b[0m\u001b[0;34m\u001b[0m\u001b[0;34m\u001b[0m\u001b[0;34m\u001b[0m\u001b[0m\n\u001b[0;32m--> 231\u001b[0;31m             \u001b[0mindex\u001b[0m \u001b[0;34m=\u001b[0m \u001b[0mextract_index\u001b[0m\u001b[0;34m(\u001b[0m\u001b[0marrays\u001b[0m\u001b[0;34m[\u001b[0m\u001b[0;34m~\u001b[0m\u001b[0mmissing\u001b[0m\u001b[0;34m]\u001b[0m\u001b[0;34m)\u001b[0m\u001b[0;34m\u001b[0m\u001b[0;34m\u001b[0m\u001b[0m\n\u001b[0m\u001b[1;32m    232\u001b[0m         \u001b[0;32melse\u001b[0m\u001b[0;34m:\u001b[0m\u001b[0;34m\u001b[0m\u001b[0;34m\u001b[0m\u001b[0m\n\u001b[1;32m    233\u001b[0m             \u001b[0mindex\u001b[0m \u001b[0;34m=\u001b[0m \u001b[0mensure_index\u001b[0m\u001b[0;34m(\u001b[0m\u001b[0mindex\u001b[0m\u001b[0;34m)\u001b[0m\u001b[0;34m\u001b[0m\u001b[0;34m\u001b[0m\u001b[0m\n",
      "\u001b[0;32m~/anaconda3/lib/python3.7/site-packages/pandas/core/internals/construction.py\u001b[0m in \u001b[0;36mextract_index\u001b[0;34m(data)\u001b[0m\n\u001b[1;32m    356\u001b[0m \u001b[0;34m\u001b[0m\u001b[0m\n\u001b[1;32m    357\u001b[0m         \u001b[0;32mif\u001b[0m \u001b[0;32mnot\u001b[0m \u001b[0mindexes\u001b[0m \u001b[0;32mand\u001b[0m \u001b[0;32mnot\u001b[0m \u001b[0mraw_lengths\u001b[0m\u001b[0;34m:\u001b[0m\u001b[0;34m\u001b[0m\u001b[0;34m\u001b[0m\u001b[0m\n\u001b[0;32m--> 358\u001b[0;31m             \u001b[0;32mraise\u001b[0m \u001b[0mValueError\u001b[0m\u001b[0;34m(\u001b[0m\u001b[0;34m\"If using all scalar values, you must pass an index\"\u001b[0m\u001b[0;34m)\u001b[0m\u001b[0;34m\u001b[0m\u001b[0;34m\u001b[0m\u001b[0m\n\u001b[0m\u001b[1;32m    359\u001b[0m \u001b[0;34m\u001b[0m\u001b[0m\n\u001b[1;32m    360\u001b[0m         \u001b[0;32mif\u001b[0m \u001b[0mhave_series\u001b[0m\u001b[0;34m:\u001b[0m\u001b[0;34m\u001b[0m\u001b[0;34m\u001b[0m\u001b[0m\n",
      "\u001b[0;31mValueError\u001b[0m: If using all scalar values, you must pass an index"
     ]
    }
   ],
   "source": [
    "df = pd.DataFrame(results, columns=results.keys())"
   ]
  },
  {
   "cell_type": "markdown",
   "metadata": {},
   "source": [
    "## ANOTHER WAY"
   ]
  },
  {
   "cell_type": "code",
   "execution_count": 30,
   "metadata": {},
   "outputs": [],
   "source": [
    "import json\n",
    "from flatten_json import flatten"
   ]
  },
  {
   "cell_type": "code",
   "execution_count": 31,
   "metadata": {},
   "outputs": [],
   "source": [
    "flattened_json_list = []"
   ]
  },
  {
   "cell_type": "code",
   "execution_count": 32,
   "metadata": {},
   "outputs": [],
   "source": [
    "for j in data:\n",
    "    #print (j)\n",
    "    flattened_json_list.append(flatten(j, '.'))"
   ]
  },
  {
   "cell_type": "code",
   "execution_count": null,
   "metadata": {},
   "outputs": [],
   "source": [
    "# if a file list\n",
    "# for f in localFileList:\n",
    "#         file = open(f,\"r\") \n",
    "#         file_content = file.read()\n",
    "#         json_content = json.loads(file_content)\n",
    "#         for j in json_content:\n",
    "#             flattened_json_list.append(flatten(j, '.'))\n",
    "#         file.close()"
   ]
  },
  {
   "cell_type": "code",
   "execution_count": 34,
   "metadata": {},
   "outputs": [],
   "source": [
    "df = pd.DataFrame(flattened_json_list)"
   ]
  },
  {
   "cell_type": "code",
   "execution_count": 35,
   "metadata": {},
   "outputs": [
    {
     "data": {
      "text/html": [
       "<div>\n",
       "<style scoped>\n",
       "    .dataframe tbody tr th:only-of-type {\n",
       "        vertical-align: middle;\n",
       "    }\n",
       "\n",
       "    .dataframe tbody tr th {\n",
       "        vertical-align: top;\n",
       "    }\n",
       "\n",
       "    .dataframe thead th {\n",
       "        text-align: right;\n",
       "    }\n",
       "</style>\n",
       "<table border=\"1\" class=\"dataframe\">\n",
       "  <thead>\n",
       "    <tr style=\"text-align: right;\">\n",
       "      <th></th>\n",
       "      <th>id</th>\n",
       "      <th>first_name</th>\n",
       "      <th>last_name</th>\n",
       "      <th>employment_history.0.company</th>\n",
       "      <th>employment_history.0.title</th>\n",
       "      <th>employment_history.0.something.hello.0</th>\n",
       "      <th>employment_history.0.something.hello.1</th>\n",
       "      <th>employment_history.0.something.hello.2</th>\n",
       "      <th>employment_history.0.something.hello.3.something</th>\n",
       "      <th>employment_history.1.company</th>\n",
       "      <th>employment_history.1.title</th>\n",
       "      <th>education.bachelors</th>\n",
       "      <th>education.masters</th>\n",
       "      <th>education.phd</th>\n",
       "    </tr>\n",
       "  </thead>\n",
       "  <tbody>\n",
       "    <tr>\n",
       "      <th>0</th>\n",
       "      <td>1</td>\n",
       "      <td>Jonathan</td>\n",
       "      <td>Hsu</td>\n",
       "      <td>Black Belt Academy</td>\n",
       "      <td>Instructor</td>\n",
       "      <td>1</td>\n",
       "      <td>2</td>\n",
       "      <td>3</td>\n",
       "      <td>goes</td>\n",
       "      <td>Zerion Software</td>\n",
       "      <td>Solutions Engineer</td>\n",
       "      <td>Information Technology</td>\n",
       "      <td>Applied Information Technology</td>\n",
       "      <td>Higher Education</td>\n",
       "    </tr>\n",
       "    <tr>\n",
       "      <th>1</th>\n",
       "      <td>2</td>\n",
       "      <td>bbb</td>\n",
       "      <td>Hsu</td>\n",
       "      <td>Black Belt Academy</td>\n",
       "      <td>Instructor</td>\n",
       "      <td>1</td>\n",
       "      <td>2</td>\n",
       "      <td>3</td>\n",
       "      <td>goes</td>\n",
       "      <td>Zerion Software</td>\n",
       "      <td>Solutions Engineer</td>\n",
       "      <td>Information Technology</td>\n",
       "      <td>Applied Information Technology</td>\n",
       "      <td>Higher Education</td>\n",
       "    </tr>\n",
       "  </tbody>\n",
       "</table>\n",
       "</div>"
      ],
      "text/plain": [
       "   id first_name last_name employment_history.0.company  \\\n",
       "0   1   Jonathan       Hsu           Black Belt Academy   \n",
       "1   2        bbb       Hsu           Black Belt Academy   \n",
       "\n",
       "  employment_history.0.title  employment_history.0.something.hello.0  \\\n",
       "0                 Instructor                                       1   \n",
       "1                 Instructor                                       1   \n",
       "\n",
       "   employment_history.0.something.hello.1  \\\n",
       "0                                       2   \n",
       "1                                       2   \n",
       "\n",
       "   employment_history.0.something.hello.2  \\\n",
       "0                                       3   \n",
       "1                                       3   \n",
       "\n",
       "  employment_history.0.something.hello.3.something  \\\n",
       "0                                             goes   \n",
       "1                                             goes   \n",
       "\n",
       "  employment_history.1.company employment_history.1.title  \\\n",
       "0              Zerion Software         Solutions Engineer   \n",
       "1              Zerion Software         Solutions Engineer   \n",
       "\n",
       "      education.bachelors               education.masters     education.phd  \n",
       "0  Information Technology  Applied Information Technology  Higher Education  \n",
       "1  Information Technology  Applied Information Technology  Higher Education  "
      ]
     },
     "execution_count": 35,
     "metadata": {},
     "output_type": "execute_result"
    }
   ],
   "source": [
    "df"
   ]
  },
  {
   "cell_type": "code",
   "execution_count": null,
   "metadata": {},
   "outputs": [],
   "source": []
  }
 ],
 "metadata": {
  "kernelspec": {
   "display_name": "Python 3",
   "language": "python",
   "name": "python3"
  },
  "language_info": {
   "codemirror_mode": {
    "name": "ipython",
    "version": 3
   },
   "file_extension": ".py",
   "mimetype": "text/x-python",
   "name": "python",
   "nbconvert_exporter": "python",
   "pygments_lexer": "ipython3",
   "version": "3.7.5"
  }
 },
 "nbformat": 4,
 "nbformat_minor": 4
}
