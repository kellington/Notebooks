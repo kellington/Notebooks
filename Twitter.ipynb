{
 "metadata": {
  "name": "",
  "signature": "sha256:838ae2422bf2dcfce625868c9d7161e912fa68c8b1eeeadbbe750a04e3626946"
 },
 "nbformat": 3,
 "nbformat_minor": 0,
 "worksheets": [
  {
   "cells": [
    {
     "cell_type": "markdown",
     "metadata": {},
     "source": [
      "# Twitter\n",
      "Using the Twitter development account from the Data Science course\n",
      "\n",
      "Set at:\n",
      " https://dev.twitter.com/apps - App is now Read/Write - to create posts\n",
      " \n",
      "\n",
      "\n",
      "OAuth Settings\n",
      "Consumer key: yth0pZOjvCD7Td0HzQHztODrB\n",
      "\n",
      "Consumer secret: jFj8dxAnUtq3KJDwUUBDoUPrOSZCCytz94Ue79Bj6I4kr2FDHU\n",
      "\n",
      "Remember this should not be shared.\n",
      "Access token:\n",
      "    19948028-33ohfVcnmksbZSAoBsFHg554fbxUJY44joJd8s0zV\n",
      "    \n",
      "Access token secret:\n",
      "    p7Szyrrc2o7heM2mFNAa251BR1D6IPUr3ABvkvo5oBvop\n",
      "    \n",
      "\n",
      "## To use\n",
      "    !pip install twython\n",
      "\n"
     ]
    },
    {
     "cell_type": "code",
     "collapsed": true,
     "input": [
      "from twython import Twython\n",
      "\n",
      "APP_KEY = 'yth0pZOjvCD7Td0HzQHztODrB'\n",
      "APP_SECRET = 'jFj8dxAnUtq3KJDwUUBDoUPrOSZCCytz94Ue79Bj6I4kr2FDHU'\n",
      "\n",
      "OAUTH_TOKEN = '19948028-33ohfVcnmksbZSAoBsFHg554fbxUJY44joJd8s0zV'\n",
      "OAUTH_TOKEN_SECRET = 'p7Szyrrc2o7heM2mFNAa251BR1D6IPUr3ABvkvo5oBvop'\n",
      "\n",
      "\n",
      "twitter = Twython(APP_KEY, APP_SECRET, OAUTH_TOKEN, OAUTH_TOKEN_SECRET)\n"
     ],
     "language": "python",
     "metadata": {},
     "outputs": [],
     "prompt_number": 1
    },
    {
     "cell_type": "code",
     "collapsed": false,
     "input": [
      "from datetime import date\n",
      "\n",
      "LAST_PLAYOFF_DATE = date(2006, 6, 19)\n",
      "today = datetime.date.today()\n",
      "\n",
      "Days_Since_Playoffs = today - LAST_PLAYOFF_DATE\n",
      "print Days_Since_Playoffs.days"
     ],
     "language": "python",
     "metadata": {},
     "outputs": [
      {
       "output_type": "stream",
       "stream": "stdout",
       "text": [
        "3138\n"
       ]
      }
     ],
     "prompt_number": 2
    },
    {
     "cell_type": "code",
     "collapsed": false,
     "input": [
      "Tweet_Message = 'Its been ' + `Days_Since_Playoffs.days` + ' days.  Maybe this year? #Oilers'\n",
      "print Tweet_Message"
     ],
     "language": "python",
     "metadata": {},
     "outputs": [
      {
       "output_type": "stream",
       "stream": "stdout",
       "text": [
        "Its been 3138 days.  Maybe this year? #Oilers\n"
       ]
      }
     ],
     "prompt_number": 3
    },
    {
     "cell_type": "code",
     "collapsed": true,
     "input": [
      "twitter.update_status(status= Tweet_Message )"
     ],
     "language": "python",
     "metadata": {},
     "outputs": [
      {
       "metadata": {},
       "output_type": "pyout",
       "prompt_number": 4,
       "text": [
        "{u'contributors': None,\n",
        " u'coordinates': None,\n",
        " u'created_at': u'Thu Jan 22 04:10:03 +0000 2015',\n",
        " u'entities': {u'hashtags': [{u'indices': [38, 45], u'text': u'Oilers'}],\n",
        "  u'symbols': [],\n",
        "  u'urls': [],\n",
        "  u'user_mentions': []},\n",
        " u'favorite_count': 0,\n",
        " u'favorited': False,\n",
        " u'geo': None,\n",
        " u'id': 558114342689054723,\n",
        " u'id_str': u'558114342689054723',\n",
        " u'in_reply_to_screen_name': None,\n",
        " u'in_reply_to_status_id': None,\n",
        " u'in_reply_to_status_id_str': None,\n",
        " u'in_reply_to_user_id': None,\n",
        " u'in_reply_to_user_id_str': None,\n",
        " u'lang': u'en',\n",
        " u'place': None,\n",
        " u'retweet_count': 0,\n",
        " u'retweeted': False,\n",
        " u'source': u'<a href=\"http://www.biservicedesk.com\" rel=\"nofollow\">KellingtonDataScienceCourse</a>',\n",
        " u'text': u'Its been 3138 days.  Maybe this year? #Oilers',\n",
        " u'truncated': False,\n",
        " u'user': {u'contributors_enabled': False,\n",
        "  u'created_at': u'Tue Feb 03 02:03:25 +0000 2009',\n",
        "  u'default_profile': True,\n",
        "  u'default_profile_image': False,\n",
        "  u'description': u'Long time BI/DW consultant.  Great family with two dogs that keep the kids happy!',\n",
        "  u'entities': {u'description': {u'urls': []},\n",
        "   u'url': {u'urls': [{u'display_url': u'worldcities.ca/robkellington',\n",
        "      u'expanded_url': u'http://www.worldcities.ca/robkellington',\n",
        "      u'indices': [0, 22],\n",
        "      u'url': u'http://t.co/CePBR3pAit'}]}},\n",
        "  u'favourites_count': 53,\n",
        "  u'follow_request_sent': False,\n",
        "  u'followers_count': 67,\n",
        "  u'following': False,\n",
        "  u'friends_count': 204,\n",
        "  u'geo_enabled': True,\n",
        "  u'id': 19948028,\n",
        "  u'id_str': u'19948028',\n",
        "  u'is_translation_enabled': False,\n",
        "  u'is_translator': False,\n",
        "  u'lang': u'en',\n",
        "  u'listed_count': 2,\n",
        "  u'location': u'Edmonton, AB Canada',\n",
        "  u'name': u'Rob Kellington',\n",
        "  u'notifications': False,\n",
        "  u'profile_background_color': u'C0DEED',\n",
        "  u'profile_background_image_url': u'http://abs.twimg.com/images/themes/theme1/bg.png',\n",
        "  u'profile_background_image_url_https': u'https://abs.twimg.com/images/themes/theme1/bg.png',\n",
        "  u'profile_background_tile': False,\n",
        "  u'profile_image_url': u'http://pbs.twimg.com/profile_images/74946586/Rob_normal.jpg',\n",
        "  u'profile_image_url_https': u'https://pbs.twimg.com/profile_images/74946586/Rob_normal.jpg',\n",
        "  u'profile_link_color': u'0084B4',\n",
        "  u'profile_location': None,\n",
        "  u'profile_sidebar_border_color': u'C0DEED',\n",
        "  u'profile_sidebar_fill_color': u'DDEEF6',\n",
        "  u'profile_text_color': u'333333',\n",
        "  u'profile_use_background_image': True,\n",
        "  u'protected': False,\n",
        "  u'screen_name': u'kellington',\n",
        "  u'statuses_count': 907,\n",
        "  u'time_zone': u'Pacific Time (US & Canada)',\n",
        "  u'url': u'http://t.co/CePBR3pAit',\n",
        "  u'utc_offset': -28800,\n",
        "  u'verified': False}}"
       ]
      }
     ],
     "prompt_number": 4
    },
    {
     "cell_type": "code",
     "collapsed": false,
     "input": [
      "print Tweet_Message"
     ],
     "language": "python",
     "metadata": {},
     "outputs": [
      {
       "output_type": "stream",
       "stream": "stdout",
       "text": [
        "Its been 3138 days.  Maybe this year? #Oilers\n"
       ]
      }
     ],
     "prompt_number": 5
    },
    {
     "cell_type": "code",
     "collapsed": false,
     "input": [],
     "language": "python",
     "metadata": {},
     "outputs": [],
     "prompt_number": 5
    }
   ],
   "metadata": {}
  }
 ]
}